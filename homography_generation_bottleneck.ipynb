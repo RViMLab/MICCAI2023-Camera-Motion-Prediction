{
 "metadata": {
  "language_info": {
   "codemirror_mode": {
    "name": "ipython",
    "version": 3
   },
   "file_extension": ".py",
   "mimetype": "text/x-python",
   "name": "python",
   "nbconvert_exporter": "python",
   "pygments_lexer": "ipython3",
   "version": "3.7.6-final"
  },
  "orig_nbformat": 2,
  "kernelspec": {
   "name": "vs",
   "display_name": "vs"
  }
 },
 "nbformat": 4,
 "nbformat_minor": 2,
 "cells": [
  {
   "cell_type": "code",
   "execution_count": 1,
   "metadata": {},
   "outputs": [],
   "source": [
    "import cv2\n",
    "import os\n",
    "import numpy as np\n",
    "import pandas as pd\n",
    "import torch\n",
    "from torch.utils.data import DataLoader\n",
    "import torchvision\n",
    "import imgaug as ia\n",
    "\n",
    "from datasets import PandasDataset\n",
    "from utils.transforms import Compose, dict_list_to_compose, RandomEdgeHomography, HOMOGRAPHY_RETURN\n",
    "from utils.sampling import ConsecutiveSequences\n",
    "from utils.io import generate_path, load_yaml"
   ]
  },
  {
   "cell_type": "code",
   "execution_count": null,
   "metadata": {},
   "outputs": [],
   "source": []
  },
  {
   "cell_type": "code",
   "execution_count": 2,
   "metadata": {},
   "outputs": [],
   "source": [
    "# # generate temporary dataset\n",
    "# generate_path('tmp')\n",
    "\n",
    "# # dict of videos\n",
    "# # yml = load_yaml(path='configs/high_fps_with_camera_motion_videos_transforms.yml')\n",
    "# yml = load_yaml(path='configs/high_fps_without_camera_motion_videos_transforms.yml')\n",
    "\n",
    "# df = pd.DataFrame(columns=['filename'])\n",
    "\n",
    "# i = 0\n",
    "# for database in yml['databases']:\n",
    "#     for idx, video in enumerate(database['videos']):\n",
    "#         database['videos'][idx] = os.path.join(database['prefix'], video)\n",
    "\n",
    "#     for idx, video in enumerate(database['videos']):\n",
    "#         compose = dict_list_to_compose(database['transforms'][idx]) # generate compose transform from dict\n",
    "#         consecutive_sequences = ConsecutiveSequences(paths=[video], max_seq=1, seq_stride=1, seq_len=1, transforms=[compose]) # generate iterator\n",
    "        \n",
    "#         for cs in consecutive_sequences:\n",
    "#             filename = 'tmp/img_{}.png'.format(i)\n",
    "#             cv2.imwrite(filename, cs[0])\n",
    "#             df = df.append({'filename': filename}, ignore_index=True)\n",
    "#             i += 1\n",
    "# df.to_pickle('tmp/df.pkl')\n"
   ]
  },
  {
   "cell_type": "code",
   "execution_count": 3,
   "metadata": {},
   "outputs": [
    {
     "output_type": "stream",
     "name": "stdout",
     "text": [
      "1.89 s ± 23.2 ms per loop (mean ± std. dev. of 7 runs, 1 loop each)\n",
      "900 ms ± 14.2 ms per loop (mean ± std. dev. of 7 runs, 1 loop each)\n"
     ]
    }
   ],
   "source": [
    "df = pd.read_pickle('tmp/df.pkl')\n",
    "\n",
    "ds_tf = PandasDataset(df, transforms=torchvision.transforms.Compose([\n",
    "    RandomEdgeHomography(rho=64, crp_shape=[400, 533], homography_return=HOMOGRAPHY_RETURN.DATASET)\n",
    "]))\n",
    "\n",
    "ds = PandasDataset(df)\n",
    "\n",
    "dl_tf = DataLoader(ds_tf, num_workers=8, batch_size=16)\n",
    "dl = DataLoader(ds, num_workers=8, batch_size=16)\n",
    "\n",
    "%timeit for dic in dl_tf: dic['img_crp'] = dic['img_crp'].cuda()\n",
    "%timeit for img in dl: img = img.cuda()\n",
    "\n"
   ]
  },
  {
   "cell_type": "code",
   "execution_count": null,
   "metadata": {},
   "outputs": [],
   "source": []
  }
 ]
}