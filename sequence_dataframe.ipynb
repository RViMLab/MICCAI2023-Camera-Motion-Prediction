{
 "metadata": {
  "language_info": {
   "codemirror_mode": {
    "name": "ipython",
    "version": 3
   },
   "file_extension": ".py",
   "mimetype": "text/x-python",
   "name": "python",
   "nbconvert_exporter": "python",
   "pygments_lexer": "ipython3",
   "version": "3.7.6-final"
  },
  "orig_nbformat": 2,
  "kernelspec": {
   "name": "vs",
   "display_name": "vs"
  }
 },
 "nbformat": 4,
 "nbformat_minor": 2,
 "cells": [
  {
   "cell_type": "code",
   "execution_count": 10,
   "metadata": {},
   "outputs": [],
   "source": [
    "import os\n",
    "import cv2\n",
    "import pandas as pd"
   ]
  },
  {
   "cell_type": "code",
   "execution_count": 11,
   "metadata": {},
   "outputs": [
    {
     "output_type": "execute_result",
     "data": {
      "text/plain": [
       "              file           path vid_idx frame_idx  \\\n",
       "0      frame_0.png  train/video01       0         0   \n",
       "1      frame_1.png  train/video01       0         1   \n",
       "2      frame_2.png  train/video01       0         2   \n",
       "3      frame_3.png  train/video01       0         3   \n",
       "4      frame_4.png  train/video01       0         4   \n",
       "..             ...            ...     ...       ...   \n",
       "995  frame_995.png  train/video01       0       995   \n",
       "996  frame_996.png  train/video01       0       996   \n",
       "997  frame_997.png  train/video01       0       997   \n",
       "998  frame_998.png  train/video01       0       998   \n",
       "999  frame_999.png  train/video01       0       999   \n",
       "\n",
       "                                database  \n",
       "0    {'name': 'cholec80', 'test': False}  \n",
       "1    {'name': 'cholec80', 'test': False}  \n",
       "2    {'name': 'cholec80', 'test': False}  \n",
       "3    {'name': 'cholec80', 'test': False}  \n",
       "4    {'name': 'cholec80', 'test': False}  \n",
       "..                                   ...  \n",
       "995  {'name': 'cholec80', 'test': False}  \n",
       "996  {'name': 'cholec80', 'test': False}  \n",
       "997  {'name': 'cholec80', 'test': False}  \n",
       "998  {'name': 'cholec80', 'test': False}  \n",
       "999  {'name': 'cholec80', 'test': False}  \n",
       "\n",
       "[1000 rows x 5 columns]"
      ],
      "text/html": "<div>\n<style scoped>\n    .dataframe tbody tr th:only-of-type {\n        vertical-align: middle;\n    }\n\n    .dataframe tbody tr th {\n        vertical-align: top;\n    }\n\n    .dataframe thead th {\n        text-align: right;\n    }\n</style>\n<table border=\"1\" class=\"dataframe\">\n  <thead>\n    <tr style=\"text-align: right;\">\n      <th></th>\n      <th>file</th>\n      <th>path</th>\n      <th>vid_idx</th>\n      <th>frame_idx</th>\n      <th>database</th>\n    </tr>\n  </thead>\n  <tbody>\n    <tr>\n      <th>0</th>\n      <td>frame_0.png</td>\n      <td>train/video01</td>\n      <td>0</td>\n      <td>0</td>\n      <td>{'name': 'cholec80', 'test': False}</td>\n    </tr>\n    <tr>\n      <th>1</th>\n      <td>frame_1.png</td>\n      <td>train/video01</td>\n      <td>0</td>\n      <td>1</td>\n      <td>{'name': 'cholec80', 'test': False}</td>\n    </tr>\n    <tr>\n      <th>2</th>\n      <td>frame_2.png</td>\n      <td>train/video01</td>\n      <td>0</td>\n      <td>2</td>\n      <td>{'name': 'cholec80', 'test': False}</td>\n    </tr>\n    <tr>\n      <th>3</th>\n      <td>frame_3.png</td>\n      <td>train/video01</td>\n      <td>0</td>\n      <td>3</td>\n      <td>{'name': 'cholec80', 'test': False}</td>\n    </tr>\n    <tr>\n      <th>4</th>\n      <td>frame_4.png</td>\n      <td>train/video01</td>\n      <td>0</td>\n      <td>4</td>\n      <td>{'name': 'cholec80', 'test': False}</td>\n    </tr>\n    <tr>\n      <th>...</th>\n      <td>...</td>\n      <td>...</td>\n      <td>...</td>\n      <td>...</td>\n      <td>...</td>\n    </tr>\n    <tr>\n      <th>995</th>\n      <td>frame_995.png</td>\n      <td>train/video01</td>\n      <td>0</td>\n      <td>995</td>\n      <td>{'name': 'cholec80', 'test': False}</td>\n    </tr>\n    <tr>\n      <th>996</th>\n      <td>frame_996.png</td>\n      <td>train/video01</td>\n      <td>0</td>\n      <td>996</td>\n      <td>{'name': 'cholec80', 'test': False}</td>\n    </tr>\n    <tr>\n      <th>997</th>\n      <td>frame_997.png</td>\n      <td>train/video01</td>\n      <td>0</td>\n      <td>997</td>\n      <td>{'name': 'cholec80', 'test': False}</td>\n    </tr>\n    <tr>\n      <th>998</th>\n      <td>frame_998.png</td>\n      <td>train/video01</td>\n      <td>0</td>\n      <td>998</td>\n      <td>{'name': 'cholec80', 'test': False}</td>\n    </tr>\n    <tr>\n      <th>999</th>\n      <td>frame_999.png</td>\n      <td>train/video01</td>\n      <td>0</td>\n      <td>999</td>\n      <td>{'name': 'cholec80', 'test': False}</td>\n    </tr>\n  </tbody>\n</table>\n<p>1000 rows × 5 columns</p>\n</div>"
     },
     "metadata": {},
     "execution_count": 11
    }
   ],
   "source": [
    "# prefix = '/media/martin/Samsung_T5/data/endoscopic_data/camera_motion_separated_png/without_camera_motion'\n",
    "# prefix = '/media/martin/Samsung_T5/data/endoscopic_data/camera_motion_separated_png/with_camera_motion'\n",
    "prefix = '/media/martin/Samsung_T5/data/endoscopic_data/tmp'\n",
    "\n",
    "# df = pd.read_pickle(os.path.join(prefix, 'log_without_camera_motion.pkl'))\n",
    "# df = pd.read_pickle(os.path.join(prefix, 'log_with_camera_motion.pkl'))\n",
    "df = pd.read_pickle(os.path.join(prefix, 'cholec80.pkl'))\n",
    "df"
   ]
  },
  {
   "cell_type": "code",
   "execution_count": 15,
   "metadata": {
    "tags": []
   },
   "outputs": [
    {
     "output_type": "stream",
     "name": "stdout",
     "text": [
      "999/1000"
     ]
    },
    {
     "output_type": "execute_result",
     "data": {
      "text/plain": [
       "                           file_seq           path vid_idx  frame_idcs  \\\n",
       "0        [frame_0.png, frame_1.png]  train/video01       0      [0, 1]   \n",
       "1        [frame_1.png, frame_2.png]  train/video01       0      [1, 2]   \n",
       "2        [frame_2.png, frame_3.png]  train/video01       0      [2, 3]   \n",
       "3        [frame_3.png, frame_4.png]  train/video01       0      [3, 4]   \n",
       "4        [frame_4.png, frame_5.png]  train/video01       0      [4, 5]   \n",
       "..                              ...            ...     ...         ...   \n",
       "994  [frame_994.png, frame_995.png]  train/video01       0  [994, 995]   \n",
       "995  [frame_995.png, frame_996.png]  train/video01       0  [995, 996]   \n",
       "996  [frame_996.png, frame_997.png]  train/video01       0  [996, 997]   \n",
       "997  [frame_997.png, frame_998.png]  train/video01       0  [997, 998]   \n",
       "998  [frame_998.png, frame_999.png]  train/video01       0  [998, 999]   \n",
       "\n",
       "                                database  \n",
       "0    {'name': 'cholec80', 'test': False}  \n",
       "1    {'name': 'cholec80', 'test': False}  \n",
       "2    {'name': 'cholec80', 'test': False}  \n",
       "3    {'name': 'cholec80', 'test': False}  \n",
       "4    {'name': 'cholec80', 'test': False}  \n",
       "..                                   ...  \n",
       "994  {'name': 'cholec80', 'test': False}  \n",
       "995  {'name': 'cholec80', 'test': False}  \n",
       "996  {'name': 'cholec80', 'test': False}  \n",
       "997  {'name': 'cholec80', 'test': False}  \n",
       "998  {'name': 'cholec80', 'test': False}  \n",
       "\n",
       "[999 rows x 5 columns]"
      ],
      "text/html": "<div>\n<style scoped>\n    .dataframe tbody tr th:only-of-type {\n        vertical-align: middle;\n    }\n\n    .dataframe tbody tr th {\n        vertical-align: top;\n    }\n\n    .dataframe thead th {\n        text-align: right;\n    }\n</style>\n<table border=\"1\" class=\"dataframe\">\n  <thead>\n    <tr style=\"text-align: right;\">\n      <th></th>\n      <th>file_seq</th>\n      <th>path</th>\n      <th>vid_idx</th>\n      <th>frame_idcs</th>\n      <th>database</th>\n    </tr>\n  </thead>\n  <tbody>\n    <tr>\n      <th>0</th>\n      <td>[frame_0.png, frame_1.png]</td>\n      <td>train/video01</td>\n      <td>0</td>\n      <td>[0, 1]</td>\n      <td>{'name': 'cholec80', 'test': False}</td>\n    </tr>\n    <tr>\n      <th>1</th>\n      <td>[frame_1.png, frame_2.png]</td>\n      <td>train/video01</td>\n      <td>0</td>\n      <td>[1, 2]</td>\n      <td>{'name': 'cholec80', 'test': False}</td>\n    </tr>\n    <tr>\n      <th>2</th>\n      <td>[frame_2.png, frame_3.png]</td>\n      <td>train/video01</td>\n      <td>0</td>\n      <td>[2, 3]</td>\n      <td>{'name': 'cholec80', 'test': False}</td>\n    </tr>\n    <tr>\n      <th>3</th>\n      <td>[frame_3.png, frame_4.png]</td>\n      <td>train/video01</td>\n      <td>0</td>\n      <td>[3, 4]</td>\n      <td>{'name': 'cholec80', 'test': False}</td>\n    </tr>\n    <tr>\n      <th>4</th>\n      <td>[frame_4.png, frame_5.png]</td>\n      <td>train/video01</td>\n      <td>0</td>\n      <td>[4, 5]</td>\n      <td>{'name': 'cholec80', 'test': False}</td>\n    </tr>\n    <tr>\n      <th>...</th>\n      <td>...</td>\n      <td>...</td>\n      <td>...</td>\n      <td>...</td>\n      <td>...</td>\n    </tr>\n    <tr>\n      <th>994</th>\n      <td>[frame_994.png, frame_995.png]</td>\n      <td>train/video01</td>\n      <td>0</td>\n      <td>[994, 995]</td>\n      <td>{'name': 'cholec80', 'test': False}</td>\n    </tr>\n    <tr>\n      <th>995</th>\n      <td>[frame_995.png, frame_996.png]</td>\n      <td>train/video01</td>\n      <td>0</td>\n      <td>[995, 996]</td>\n      <td>{'name': 'cholec80', 'test': False}</td>\n    </tr>\n    <tr>\n      <th>996</th>\n      <td>[frame_996.png, frame_997.png]</td>\n      <td>train/video01</td>\n      <td>0</td>\n      <td>[996, 997]</td>\n      <td>{'name': 'cholec80', 'test': False}</td>\n    </tr>\n    <tr>\n      <th>997</th>\n      <td>[frame_997.png, frame_998.png]</td>\n      <td>train/video01</td>\n      <td>0</td>\n      <td>[997, 998]</td>\n      <td>{'name': 'cholec80', 'test': False}</td>\n    </tr>\n    <tr>\n      <th>998</th>\n      <td>[frame_998.png, frame_999.png]</td>\n      <td>train/video01</td>\n      <td>0</td>\n      <td>[998, 999]</td>\n      <td>{'name': 'cholec80', 'test': False}</td>\n    </tr>\n  </tbody>\n</table>\n<p>999 rows × 5 columns</p>\n</div>"
     },
     "metadata": {},
     "execution_count": 15
    }
   ],
   "source": [
    "df_out = pd.DataFrame(columns=['file_seq', 'path', 'vid_idx', 'frame_idcs', 'database'])\n",
    "\n",
    "seq_len = 2\n",
    "\n",
    "for idx, row in df.iterrows():\n",
    "    file_seq = []\n",
    "    frame_idcs = []\n",
    "\n",
    "    print('\\r{}/{}'.format(idx, len(df)), end='')\n",
    "\n",
    "    for i in range(seq_len):\n",
    "        if idx+i >= len(df):\n",
    "            break \n",
    "        if df.iloc[idx]['path'] != df.iloc[idx+i]['path']:\n",
    "            break\n",
    "        file_seq.append(df.iloc[idx+i]['file'])\n",
    "        frame_idcs.append(df.iloc[idx+i]['frame_idx'])\n",
    "\n",
    "    if len(file_seq) == seq_len:\n",
    "        df_out = df_out.append({\n",
    "            'file_seq': file_seq,\n",
    "            'path': row.path,\n",
    "            'vid_idx': row.vid_idx,\n",
    "            'frame_idcs': frame_idcs,\n",
    "            'database': row.database\n",
    "        }, ignore_index=True)\n",
    "\n",
    "# out_path = 'log_without_camera_motion_seq_len_{}'.format(seq_len)\n",
    "# out_path = 'log_with_camera_motion_seq_len_{}'.format(seq_len)\n",
    "out_path = 'cholec80_seq_len_{}'.format(seq_len)\n",
    "\n",
    "df_out.to_pickle(os.path.join(prefix, out_path + '.pkl'))\n",
    "df_out.to_csv(os.path.join(prefix, out_path + '.csv'))\n",
    "\n",
    "df_out"
   ]
  },
  {
   "cell_type": "code",
   "execution_count": 4,
   "metadata": {},
   "outputs": [],
   "source": [
    "from datasets import PandasHomographyDataset\n",
    "\n",
    "prefix = '/media/martin/Samsung_T5/data/endoscopic_data/camera_motion_separated_png/without_camera_motion'\n",
    "\n",
    "df = pd.read_pickle(os.path.join(prefix, 'log_without_camera_motion_seq_len_2.pkl'))\n",
    "\n",
    "pd = PandasHomographyDataset(df, prefix, 32, [480, 640])\n",
    "for imgs in pd:\n",
    "    cv2.imshow('img0', imgs['img_seq'][0])\n",
    "    cv2.imshow('img1', imgs['img_seq'][1])\n",
    "    cv2.waitKey() "
   ]
  },
  {
   "cell_type": "code",
   "execution_count": null,
   "metadata": {},
   "outputs": [],
   "source": []
  }
 ]
}