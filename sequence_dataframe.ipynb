{
 "metadata": {
  "language_info": {
   "codemirror_mode": {
    "name": "ipython",
    "version": 3
   },
   "file_extension": ".py",
   "mimetype": "text/x-python",
   "name": "python",
   "nbconvert_exporter": "python",
   "pygments_lexer": "ipython3",
   "version": "3.7.6-final"
  },
  "orig_nbformat": 2,
  "kernelspec": {
   "name": "vs",
   "display_name": "vs"
  }
 },
 "nbformat": 4,
 "nbformat_minor": 2,
 "cells": [
  {
   "cell_type": "code",
   "execution_count": 10,
   "metadata": {},
   "outputs": [],
   "source": [
    "import os\n",
    "import cv2\n",
    "import pandas as pd"
   ]
  },
  {
   "cell_type": "code",
   "execution_count": 11,
   "metadata": {},
   "outputs": [
    {
     "output_type": "execute_result",
     "data": {
      "text/plain": [
       "                file          path vid_idx frame_idx  \\\n",
       "0        frame_0.png   train/vid_1       0         0   \n",
       "1        frame_1.png   train/vid_1       0         1   \n",
       "2        frame_2.png   train/vid_1       0         2   \n",
       "3        frame_3.png   train/vid_1       0         3   \n",
       "4        frame_4.png   train/vid_1       0         4   \n",
       "...              ...           ...     ...       ...   \n",
       "10255  frame_115.png  test/vid_189       0       115   \n",
       "10256  frame_116.png  test/vid_189       0       116   \n",
       "10257  frame_117.png  test/vid_189       0       117   \n",
       "10258  frame_118.png  test/vid_189       0       118   \n",
       "10259  frame_119.png  test/vid_189       0       119   \n",
       "\n",
       "                                                database  \n",
       "0      {'name': 'SurgVisDom_test_no_indicators_with_c...  \n",
       "1      {'name': 'SurgVisDom_test_no_indicators_with_c...  \n",
       "2      {'name': 'SurgVisDom_test_no_indicators_with_c...  \n",
       "3      {'name': 'SurgVisDom_test_no_indicators_with_c...  \n",
       "4      {'name': 'SurgVisDom_test_no_indicators_with_c...  \n",
       "...                                                  ...  \n",
       "10255  {'name': 'Giannarou_with_camera_motion', 'test...  \n",
       "10256  {'name': 'Giannarou_with_camera_motion', 'test...  \n",
       "10257  {'name': 'Giannarou_with_camera_motion', 'test...  \n",
       "10258  {'name': 'Giannarou_with_camera_motion', 'test...  \n",
       "10259  {'name': 'Giannarou_with_camera_motion', 'test...  \n",
       "\n",
       "[10260 rows x 5 columns]"
      ],
      "text/html": "<div>\n<style scoped>\n    .dataframe tbody tr th:only-of-type {\n        vertical-align: middle;\n    }\n\n    .dataframe tbody tr th {\n        vertical-align: top;\n    }\n\n    .dataframe thead th {\n        text-align: right;\n    }\n</style>\n<table border=\"1\" class=\"dataframe\">\n  <thead>\n    <tr style=\"text-align: right;\">\n      <th></th>\n      <th>file</th>\n      <th>path</th>\n      <th>vid_idx</th>\n      <th>frame_idx</th>\n      <th>database</th>\n    </tr>\n  </thead>\n  <tbody>\n    <tr>\n      <th>0</th>\n      <td>frame_0.png</td>\n      <td>train/vid_1</td>\n      <td>0</td>\n      <td>0</td>\n      <td>{'name': 'SurgVisDom_test_no_indicators_with_c...</td>\n    </tr>\n    <tr>\n      <th>1</th>\n      <td>frame_1.png</td>\n      <td>train/vid_1</td>\n      <td>0</td>\n      <td>1</td>\n      <td>{'name': 'SurgVisDom_test_no_indicators_with_c...</td>\n    </tr>\n    <tr>\n      <th>2</th>\n      <td>frame_2.png</td>\n      <td>train/vid_1</td>\n      <td>0</td>\n      <td>2</td>\n      <td>{'name': 'SurgVisDom_test_no_indicators_with_c...</td>\n    </tr>\n    <tr>\n      <th>3</th>\n      <td>frame_3.png</td>\n      <td>train/vid_1</td>\n      <td>0</td>\n      <td>3</td>\n      <td>{'name': 'SurgVisDom_test_no_indicators_with_c...</td>\n    </tr>\n    <tr>\n      <th>4</th>\n      <td>frame_4.png</td>\n      <td>train/vid_1</td>\n      <td>0</td>\n      <td>4</td>\n      <td>{'name': 'SurgVisDom_test_no_indicators_with_c...</td>\n    </tr>\n    <tr>\n      <th>...</th>\n      <td>...</td>\n      <td>...</td>\n      <td>...</td>\n      <td>...</td>\n      <td>...</td>\n    </tr>\n    <tr>\n      <th>10255</th>\n      <td>frame_115.png</td>\n      <td>test/vid_189</td>\n      <td>0</td>\n      <td>115</td>\n      <td>{'name': 'Giannarou_with_camera_motion', 'test...</td>\n    </tr>\n    <tr>\n      <th>10256</th>\n      <td>frame_116.png</td>\n      <td>test/vid_189</td>\n      <td>0</td>\n      <td>116</td>\n      <td>{'name': 'Giannarou_with_camera_motion', 'test...</td>\n    </tr>\n    <tr>\n      <th>10257</th>\n      <td>frame_117.png</td>\n      <td>test/vid_189</td>\n      <td>0</td>\n      <td>117</td>\n      <td>{'name': 'Giannarou_with_camera_motion', 'test...</td>\n    </tr>\n    <tr>\n      <th>10258</th>\n      <td>frame_118.png</td>\n      <td>test/vid_189</td>\n      <td>0</td>\n      <td>118</td>\n      <td>{'name': 'Giannarou_with_camera_motion', 'test...</td>\n    </tr>\n    <tr>\n      <th>10259</th>\n      <td>frame_119.png</td>\n      <td>test/vid_189</td>\n      <td>0</td>\n      <td>119</td>\n      <td>{'name': 'Giannarou_with_camera_motion', 'test...</td>\n    </tr>\n  </tbody>\n</table>\n<p>10260 rows × 5 columns</p>\n</div>"
     },
     "metadata": {},
     "execution_count": 11
    }
   ],
   "source": [
    "# prefix = '/media/martin/Samsung_T5/data/endoscopic_data/camera_motion_separated_png/without_camera_motion'\n",
    "prefix = '/media/martin/Samsung_T5/data/endoscopic_data/camera_motion_separated_png/with_camera_motion'\n",
    "\n",
    "# df = pd.read_pickle(os.path.join(prefix, 'log_without_camera_motion.pkl'))\n",
    "df = pd.read_pickle(os.path.join(prefix, 'log_with_camera_motion.pkl'))\n",
    "df"
   ]
  },
  {
   "cell_type": "code",
   "execution_count": 12,
   "metadata": {
    "tags": []
   },
   "outputs": [
    {
     "output_type": "stream",
     "name": "stdout",
     "text": [
      "10259/10260"
     ]
    },
    {
     "output_type": "execute_result",
     "data": {
      "text/plain": [
       "                                               file_seq          path vid_idx  \\\n",
       "0     [frame_0.png, frame_1.png, frame_2.png, frame_...   train/vid_1       0   \n",
       "1     [frame_1.png, frame_2.png, frame_3.png, frame_...   train/vid_1       0   \n",
       "2     [frame_2.png, frame_3.png, frame_4.png, frame_...   train/vid_1       0   \n",
       "3     [frame_3.png, frame_4.png, frame_5.png, frame_...   train/vid_1       0   \n",
       "4     [frame_4.png, frame_5.png, frame_6.png, frame_...   train/vid_1       0   \n",
       "...                                                 ...           ...     ...   \n",
       "6645  [frame_96.png, frame_97.png, frame_98.png, fra...  test/vid_189       0   \n",
       "6646  [frame_97.png, frame_98.png, frame_99.png, fra...  test/vid_189       0   \n",
       "6647  [frame_98.png, frame_99.png, frame_100.png, fr...  test/vid_189       0   \n",
       "6648  [frame_99.png, frame_100.png, frame_101.png, f...  test/vid_189       0   \n",
       "6649  [frame_100.png, frame_101.png, frame_102.png, ...  test/vid_189       0   \n",
       "\n",
       "                                             frame_idcs  \\\n",
       "0     [0, 1, 2, 3, 4, 5, 6, 7, 8, 9, 10, 11, 12, 13,...   \n",
       "1     [1, 2, 3, 4, 5, 6, 7, 8, 9, 10, 11, 12, 13, 14...   \n",
       "2     [2, 3, 4, 5, 6, 7, 8, 9, 10, 11, 12, 13, 14, 1...   \n",
       "3     [3, 4, 5, 6, 7, 8, 9, 10, 11, 12, 13, 14, 15, ...   \n",
       "4     [4, 5, 6, 7, 8, 9, 10, 11, 12, 13, 14, 15, 16,...   \n",
       "...                                                 ...   \n",
       "6645  [96, 97, 98, 99, 100, 101, 102, 103, 104, 105,...   \n",
       "6646  [97, 98, 99, 100, 101, 102, 103, 104, 105, 106...   \n",
       "6647  [98, 99, 100, 101, 102, 103, 104, 105, 106, 10...   \n",
       "6648  [99, 100, 101, 102, 103, 104, 105, 106, 107, 1...   \n",
       "6649  [100, 101, 102, 103, 104, 105, 106, 107, 108, ...   \n",
       "\n",
       "                                               database  \n",
       "0     {'name': 'SurgVisDom_test_no_indicators_with_c...  \n",
       "1     {'name': 'SurgVisDom_test_no_indicators_with_c...  \n",
       "2     {'name': 'SurgVisDom_test_no_indicators_with_c...  \n",
       "3     {'name': 'SurgVisDom_test_no_indicators_with_c...  \n",
       "4     {'name': 'SurgVisDom_test_no_indicators_with_c...  \n",
       "...                                                 ...  \n",
       "6645  {'name': 'Giannarou_with_camera_motion', 'test...  \n",
       "6646  {'name': 'Giannarou_with_camera_motion', 'test...  \n",
       "6647  {'name': 'Giannarou_with_camera_motion', 'test...  \n",
       "6648  {'name': 'Giannarou_with_camera_motion', 'test...  \n",
       "6649  {'name': 'Giannarou_with_camera_motion', 'test...  \n",
       "\n",
       "[6650 rows x 5 columns]"
      ],
      "text/html": "<div>\n<style scoped>\n    .dataframe tbody tr th:only-of-type {\n        vertical-align: middle;\n    }\n\n    .dataframe tbody tr th {\n        vertical-align: top;\n    }\n\n    .dataframe thead th {\n        text-align: right;\n    }\n</style>\n<table border=\"1\" class=\"dataframe\">\n  <thead>\n    <tr style=\"text-align: right;\">\n      <th></th>\n      <th>file_seq</th>\n      <th>path</th>\n      <th>vid_idx</th>\n      <th>frame_idcs</th>\n      <th>database</th>\n    </tr>\n  </thead>\n  <tbody>\n    <tr>\n      <th>0</th>\n      <td>[frame_0.png, frame_1.png, frame_2.png, frame_...</td>\n      <td>train/vid_1</td>\n      <td>0</td>\n      <td>[0, 1, 2, 3, 4, 5, 6, 7, 8, 9, 10, 11, 12, 13,...</td>\n      <td>{'name': 'SurgVisDom_test_no_indicators_with_c...</td>\n    </tr>\n    <tr>\n      <th>1</th>\n      <td>[frame_1.png, frame_2.png, frame_3.png, frame_...</td>\n      <td>train/vid_1</td>\n      <td>0</td>\n      <td>[1, 2, 3, 4, 5, 6, 7, 8, 9, 10, 11, 12, 13, 14...</td>\n      <td>{'name': 'SurgVisDom_test_no_indicators_with_c...</td>\n    </tr>\n    <tr>\n      <th>2</th>\n      <td>[frame_2.png, frame_3.png, frame_4.png, frame_...</td>\n      <td>train/vid_1</td>\n      <td>0</td>\n      <td>[2, 3, 4, 5, 6, 7, 8, 9, 10, 11, 12, 13, 14, 1...</td>\n      <td>{'name': 'SurgVisDom_test_no_indicators_with_c...</td>\n    </tr>\n    <tr>\n      <th>3</th>\n      <td>[frame_3.png, frame_4.png, frame_5.png, frame_...</td>\n      <td>train/vid_1</td>\n      <td>0</td>\n      <td>[3, 4, 5, 6, 7, 8, 9, 10, 11, 12, 13, 14, 15, ...</td>\n      <td>{'name': 'SurgVisDom_test_no_indicators_with_c...</td>\n    </tr>\n    <tr>\n      <th>4</th>\n      <td>[frame_4.png, frame_5.png, frame_6.png, frame_...</td>\n      <td>train/vid_1</td>\n      <td>0</td>\n      <td>[4, 5, 6, 7, 8, 9, 10, 11, 12, 13, 14, 15, 16,...</td>\n      <td>{'name': 'SurgVisDom_test_no_indicators_with_c...</td>\n    </tr>\n    <tr>\n      <th>...</th>\n      <td>...</td>\n      <td>...</td>\n      <td>...</td>\n      <td>...</td>\n      <td>...</td>\n    </tr>\n    <tr>\n      <th>6645</th>\n      <td>[frame_96.png, frame_97.png, frame_98.png, fra...</td>\n      <td>test/vid_189</td>\n      <td>0</td>\n      <td>[96, 97, 98, 99, 100, 101, 102, 103, 104, 105,...</td>\n      <td>{'name': 'Giannarou_with_camera_motion', 'test...</td>\n    </tr>\n    <tr>\n      <th>6646</th>\n      <td>[frame_97.png, frame_98.png, frame_99.png, fra...</td>\n      <td>test/vid_189</td>\n      <td>0</td>\n      <td>[97, 98, 99, 100, 101, 102, 103, 104, 105, 106...</td>\n      <td>{'name': 'Giannarou_with_camera_motion', 'test...</td>\n    </tr>\n    <tr>\n      <th>6647</th>\n      <td>[frame_98.png, frame_99.png, frame_100.png, fr...</td>\n      <td>test/vid_189</td>\n      <td>0</td>\n      <td>[98, 99, 100, 101, 102, 103, 104, 105, 106, 10...</td>\n      <td>{'name': 'Giannarou_with_camera_motion', 'test...</td>\n    </tr>\n    <tr>\n      <th>6648</th>\n      <td>[frame_99.png, frame_100.png, frame_101.png, f...</td>\n      <td>test/vid_189</td>\n      <td>0</td>\n      <td>[99, 100, 101, 102, 103, 104, 105, 106, 107, 1...</td>\n      <td>{'name': 'Giannarou_with_camera_motion', 'test...</td>\n    </tr>\n    <tr>\n      <th>6649</th>\n      <td>[frame_100.png, frame_101.png, frame_102.png, ...</td>\n      <td>test/vid_189</td>\n      <td>0</td>\n      <td>[100, 101, 102, 103, 104, 105, 106, 107, 108, ...</td>\n      <td>{'name': 'Giannarou_with_camera_motion', 'test...</td>\n    </tr>\n  </tbody>\n</table>\n<p>6650 rows × 5 columns</p>\n</div>"
     },
     "metadata": {},
     "execution_count": 12
    }
   ],
   "source": [
    "df_out = pd.DataFrame(columns=['file_seq', 'path', 'vid_idx', 'frame_idcs', 'database'])\n",
    "\n",
    "seq_len = 20\n",
    "\n",
    "for idx, row in df.iterrows():\n",
    "    file_seq = []\n",
    "    frame_idcs = []\n",
    "\n",
    "    print('\\r{}/{}'.format(idx, len(df)), end='')\n",
    "\n",
    "    for i in range(seq_len):\n",
    "        if idx+i >= len(df):\n",
    "            break \n",
    "        if df.iloc[idx]['path'] != df.iloc[idx+i]['path']:\n",
    "            break\n",
    "        file_seq.append(df.iloc[idx+i]['file'])\n",
    "        frame_idcs.append(df.iloc[idx+i]['frame_idx'])\n",
    "\n",
    "    if len(file_seq) == seq_len:\n",
    "        df_out = df_out.append({\n",
    "            'file_seq': file_seq,\n",
    "            'path': row.path,\n",
    "            'vid_idx': row.vid_idx,\n",
    "            'frame_idcs': frame_idcs,\n",
    "            'database': row.database\n",
    "        }, ignore_index=True)    \n",
    "\n",
    "# out_path = 'log_without_camera_motion_seq_len_{}'.format(seq_len)\n",
    "out_path = 'log_with_camera_motion_seq_len_{}'.format(seq_len)\n",
    "\n",
    "df_out.to_pickle(os.path.join(prefix, out_path + '.pkl'))\n",
    "df_out.to_csv(os.path.join(prefix, out_path + '.csv'))\n",
    "\n",
    "df_out"
   ]
  },
  {
   "cell_type": "code",
   "execution_count": 4,
   "metadata": {},
   "outputs": [],
   "source": [
    "from datasets import PandasHomographyDataset\n",
    "\n",
    "prefix = '/media/martin/Samsung_T5/data/endoscopic_data/camera_motion_separated_png/without_camera_motion'\n",
    "\n",
    "df = pd.read_pickle(os.path.join(prefix, 'log_without_camera_motion_seq_len_2.pkl'))\n",
    "\n",
    "pd = PandasHomographyDataset(df, prefix, 32, [480, 640])\n",
    "for imgs in pd:\n",
    "    cv2.imshow('img0', imgs['img_seq'][0])\n",
    "    cv2.imshow('img1', imgs['img_seq'][1])\n",
    "    cv2.waitKey() "
   ]
  },
  {
   "cell_type": "code",
   "execution_count": null,
   "metadata": {},
   "outputs": [],
   "source": []
  }
 ]
}