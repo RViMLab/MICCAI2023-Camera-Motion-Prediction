{
 "metadata": {
  "language_info": {
   "codemirror_mode": {
    "name": "ipython",
    "version": 3
   },
   "file_extension": ".py",
   "mimetype": "text/x-python",
   "name": "python",
   "nbconvert_exporter": "python",
   "pygments_lexer": "ipython3",
   "version": "3.7.6-final"
  },
  "orig_nbformat": 2,
  "kernelspec": {
   "name": "vs",
   "display_name": "vs"
  }
 },
 "nbformat": 4,
 "nbformat_minor": 2,
 "cells": [
  {
   "source": [
    "# Pre-process \n",
    "Since the datasets SurgVisDom, Giannarou & Mountney represent 88.7% of the data, see [overview](https://docs.google.com/spreadsheets/d/1cIjW4NbDDJmY_u0w-p84z5vhGQlmpcp2JQnmYLdKyL0/edit?usp=sharing), we only process them."
   ],
   "cell_type": "markdown",
   "metadata": {}
  },
  {
   "cell_type": "code",
   "execution_count": 1,
   "metadata": {},
   "outputs": [],
   "source": [
    "import cv2\n",
    "import os\n",
    "\n",
    "from utils.io import load_yaml\n",
    "from utils.transforms import Compose, dict_list_to_compose\n",
    "from utils.sampling import ConsecutiveSequences\n",
    "from utils.processing import RandomEdgeHomography"
   ]
  },
  {
   "source": [
    "Create sampler over data and apply transforms"
   ],
   "cell_type": "markdown",
   "metadata": {}
  },
  {
   "source": [
    "# dict of videos\n",
    "# yml = load_yaml(path='configs/high_fps_with_camera_motion_videos_transforms.yml')\n",
    "yml = load_yaml(path='configs/high_fps_without_camera_motion_videos_transforms.yml')\n",
    "\n",
    "for database in yml['databases']:\n",
    "    for idx, video in enumerate(database['videos']):\n",
    "        database['videos'][idx] = os.path.join(database['prefix'], video)\n",
    "\n",
    "    for idx, video in enumerate(database['videos']):\n",
    "        compose = dict_list_to_compose(database['transforms'][idx]) # generate compose transform from dict\n",
    "        consecutive_sequences = ConsecutiveSequences(paths=[video], max_seq=10, seq_stride=1, seq_len=1, transforms=[compose]) # generate iterator\n",
    "        \n",
    "        for cs in consecutive_sequences:\n",
    "            cv2.imshow('img', cs[0]) ## safe as pngs\n",
    "            cv2.waitKey()\n"
   ],
   "cell_type": "code",
   "metadata": {},
   "execution_count": 2,
   "outputs": []
  },
  {
   "cell_type": "code",
   "execution_count": null,
   "metadata": {},
   "outputs": [],
   "source": []
  },
  {
   "source": [],
   "cell_type": "markdown",
   "metadata": {}
  }
 ]
}