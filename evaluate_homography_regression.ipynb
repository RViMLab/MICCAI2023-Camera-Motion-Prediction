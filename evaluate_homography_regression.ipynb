{
 "metadata": {
  "language_info": {
   "codemirror_mode": {
    "name": "ipython",
    "version": 3
   },
   "file_extension": ".py",
   "mimetype": "text/x-python",
   "name": "python",
   "nbconvert_exporter": "python",
   "pygments_lexer": "ipython3",
   "version": "3.7.6-final"
  },
  "orig_nbformat": 2,
  "kernelspec": {
   "name": "python3",
   "display_name": "Python 3.7.6 64-bit ('hil': conda)",
   "metadata": {
    "interpreter": {
     "hash": "00ce21aa52e8581894864b3b01cebf6e3aad2f06f47a5e7d9b54fea21a8d1745"
    }
   }
  }
 },
 "nbformat": 4,
 "nbformat_minor": 2,
 "cells": [
  {
   "cell_type": "code",
   "execution_count": 1,
   "metadata": {},
   "outputs": [],
   "source": [
    "import os\n",
    "import torch\n",
    "from utils.io import load_yaml\n",
    "from lightning_modules import DeepImageHomographyEstimationModuleBackbone\n",
    "\n",
    "# load best model\n",
    "prefix = '/home/martin/Tresors/homography_imitation_learning_logs/deep_image_homography_estimation_backbone/version_0'\n",
    "configs = load_yaml(os.path.join(prefix, 'configs.yml'))\n",
    "model = DeepImageHomographyEstimationModuleBackbone.load_from_checkpoint(os.path.join(prefix, 'checkpoints/epoch=19.ckpt'), shape=configs['model']['shape'])\n",
    "\n",
    "device = 'cpu'\n",
    "if torch.cuda.is_available():\n",
    "    print('Running with CUDA backend.')\n",
    "    device = 'cuda'\n",
    "\n",
    "model.to(device)\n",
    "model = model.eval()"
   ]
  },
  {
   "cell_type": "code",
   "execution_count": 11,
   "metadata": {},
   "outputs": [],
   "source": [
    "# create dataset and evaluate model on\n",
    "#   - with motion dataset\n",
    "#   - robust mis\n",
    "#   - cholec80\n",
    "import cv2\n",
    "import matplotlib.pyplot as plt\n",
    "import pandas as pd\n",
    "from kornia import warp_perspective, tensor_to_image\n",
    "from torchvision.transforms import ToTensor\n",
    "from datasets import ImageSequenceDataset\n",
    "from utils.processing import image_edges, four_pt_to_matrix_homography_representation\n",
    "\n",
    "# \n",
    "prefix = '/media/martin/Samsung_T5/data/endoscopic_data/camera_motion_separated_png/with_camera_motion'\n",
    "df_name = 'log_with_camera_motion_seq_len_20.pkl'\n",
    "df = pd.read_pickle(os.path.join(prefix, df_name))\n",
    "ds = ImageSequenceDataset(df, prefix, ToTensor())\n",
    "\n",
    "for img_seq in ds:\n",
    "    duv = model(img_seq[0].unsqueeze(0), img_seq[1].unsqueeze(0))\n",
    "\n",
    "    uv = image_edges(img_seq[0].unsqueeze(0))\n",
    "    H = four_pt_to_matrix_homography_representation(uv, duv)\n",
    "\n",
    "    wrp = warp_perspective(img_seq[0].unsqueeze(0), torch.inverse(H), img_seq[0].shape[-2:])\n",
    "    \n",
    "    wrp = tensor_to_image(wrp)\n",
    "    img = tensor_to_image(img_seq[1])\n",
    "\n",
    "    cv2.imshow('img', img)\n",
    "    cv2.imshow('wrp', wrp)\n",
    "    cv2.imshow('L1', abs(img-wrp))\n",
    "    cv2.waitKey()"
   ]
  },
  {
   "cell_type": "code",
   "execution_count": null,
   "metadata": {},
   "outputs": [],
   "source": []
  }
 ]
}