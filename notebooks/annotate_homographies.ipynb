{
 "metadata": {
  "language_info": {
   "codemirror_mode": {
    "name": "ipython",
    "version": 3
   },
   "file_extension": ".py",
   "mimetype": "text/x-python",
   "name": "python",
   "nbconvert_exporter": "python",
   "pygments_lexer": "ipython3",
   "version": "3.7.6-final"
  },
  "orig_nbformat": 2,
  "kernelspec": {
   "name": "python3",
   "display_name": "Python 3",
   "language": "python"
  }
 },
 "nbformat": 4,
 "nbformat_minor": 2,
 "cells": [
  {
   "source": [
    "# Annotate Homographies\n",
    "Large scale homography annotation for extraction of next best views."
   ],
   "cell_type": "markdown",
   "metadata": {}
  },
  {
   "cell_type": "code",
   "execution_count": 1,
   "metadata": {},
   "outputs": [],
   "source": [
    "import os\n",
    "import cv2\n",
    "import torchvision.io as io\n",
    "from torchvision.datasets.video_utils import VideoClips\n",
    "from torch.utils.data import DataLoader\n",
    "import sys\n",
    "\n",
    "sys.path.append('../')\n",
    "\n",
    "from utils import load_yaml, dict_list_to_compose\n",
    "\n",
    "servers = load_yaml('../configs/servers.yml')\n",
    "server = servers['local']\n",
    "\n",
    "databases = load_yaml('../configs/cholec80_transforms.yml')\n",
    "database = databases['databases'][0]"
   ]
  },
  {
   "cell_type": "code",
   "execution_count": 2,
   "metadata": {
    "tags": []
   },
   "outputs": [
    {
     "output_type": "stream",
     "name": "stderr",
     "text": [
      "100%|██████████| 1/1 [01:30<00:00, 90.29s/it]{'video_paths': ['/media/martin/Samsung_T5/data/endoscopic_data/cholec80/videos/video01.mp4'], 'video_pts': [tensor([        0,      3600,      7200,  ..., 155962800, 155966400,\n",
      "        155970000])], 'video_fps': [25.0]}\n",
      "\n"
     ]
    }
   ],
   "source": [
    "paths = [\n",
    "    os.path.join(\n",
    "        server['database']['location'], \n",
    "        database['prefix'], \n",
    "        database['videos']['prefix'], \n",
    "        x\n",
    "    ) for x in database['videos']['files'][:2]\n",
    "]\n",
    "\n",
    "\n",
    "# video reader not compiled yet https://github.com/pytorch/vision/issues/1446\n",
    "# video reading https://github.com/pytorch/vision/blob/ed5b2dc3a5e7411d8b40cc7e526e151983e99cf9/torchvision/datasets/video_utils.py#L45-L69\n",
    "# dataset example check https://github.com/pytorch/vision/blob/ed5b2dc3a5e7411d8b40cc7e526e151983e99cf9/torchvision/datasets/kinetics.py#L50-L78\n",
    "\n",
    "ds = VideoClips(paths, clip_length_in_frames=10, frames_between_clips=1)\n",
    "# dl = DataLoader(ds)\n",
    "\n",
    "print(ds.metadata)\n",
    "clip = ds.get_clip(0)\n",
    "\n",
    "# for idx, file in enumerate(database['videos']['files']):\n",
    "#     path = os.path.join(server['database']['location'], database['prefix'], database['videos']['prefix'], file)\n",
    "\n",
    "\n",
    "\n",
    "#     #  pts, video_fps = io.read_video_timestamps(path)\n",
    "#     # print(pts, video_fps) # 3600\n",
    "#     pts = 3600\n",
    "#     N_start = 1500001\n",
    "#     N_end = 1500002  # predictive horizon\n",
    "#     vframe, aframe, info = io.read_video(path, N_start*pts, (N_end-1)*pts, pts_unit='str')\n",
    "\n",
    "#     print(info)\n",
    "\n",
    "#     transforms = database['transforms'][idx]\n",
    "#     transforms = dict_list_to_compose(transforms)\n",
    "\n",
    "#     print(vframe.shape)\n",
    "\n",
    "#     for idx, frame in enumerate(vframe):\n",
    "#         frame = frame.numpy()\n",
    "#         frame = transforms(frame)\n",
    "#         cv2.imshow('frame', frame)\n",
    "#         cv2.waitKey()\n",
    "\n",
    "# cv2.destroyAllWindows()\n"
   ]
  },
  {
   "cell_type": "code",
   "execution_count": null,
   "metadata": {},
   "outputs": [],
   "source": []
  }
 ]
}