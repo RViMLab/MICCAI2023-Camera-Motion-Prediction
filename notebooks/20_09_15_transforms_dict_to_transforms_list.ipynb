{
 "metadata": {
  "language_info": {
   "codemirror_mode": {
    "name": "ipython",
    "version": 3
   },
   "file_extension": ".py",
   "mimetype": "text/x-python",
   "name": "python",
   "nbconvert_exporter": "python",
   "pygments_lexer": "ipython3",
   "version": "3.7.6-final"
  },
  "orig_nbformat": 2,
  "kernelspec": {
   "name": "python3",
   "display_name": "Python 3",
   "language": "python"
  }
 },
 "nbformat": 4,
 "nbformat_minor": 2,
 "cells": [
  {
   "cell_type": "code",
   "execution_count": 2,
   "metadata": {},
   "outputs": [],
   "source": [
    "import os\n",
    "import pandas as pd\n",
    "import sys\n",
    "\n",
    "sys.path.append('../')\n",
    "\n",
    "from utils.io import load_yaml, save_yaml"
   ]
  },
  {
   "cell_type": "code",
   "execution_count": 4,
   "metadata": {},
   "outputs": [],
   "source": [
    "# load logs, maps videos to flags\n",
    "servers = load_yaml('../config/servers.yml')\n",
    "server = 'local'\n",
    "\n",
    "logs = os.path.join(servers[server]['database']['location'], 'camera_motion_separated/log.pkl')\n",
    "df = pd.read_pickle(logs)\n",
    "\n",
    "# load transforms dict, maps flags to transforms\n",
    "transforms_dict = load_yaml('../config/high_fps_transforms_dict.yml')\n",
    "\n",
    "# load configs, holds list of video, and is appended by list of transforms\n",
    "yml = load_yaml('../config/high_fps_without_camera_motion_videos.yml')"
   ]
  },
  {
   "cell_type": "code",
   "execution_count": 15,
   "metadata": {
    "tags": []
   },
   "outputs": [],
   "source": [
    "for database in yml['databases']:\n",
    "    transforms = []\n",
    "    for video in database['videos']['files']:\n",
    "        idx = df.index[\n",
    "            df['video'] == os.path.join(\n",
    "                database['videos']['prefix'], \n",
    "                video\n",
    "        )].tolist()[0]\n",
    "\n",
    "        # append transforms according to flag\n",
    "        transforms.append(transforms_dict[df['origin'][idx]['Group']][df['flags'][idx]])\n",
    "    database['transforms'] = transforms\n",
    "\n",
    "save_yaml('../config/high_fps_without_camera_motion_videos_transforms.yml', yml)"
   ]
  },
  {
   "cell_type": "code",
   "execution_count": null,
   "metadata": {},
   "outputs": [],
   "source": []
  }
 ]
}