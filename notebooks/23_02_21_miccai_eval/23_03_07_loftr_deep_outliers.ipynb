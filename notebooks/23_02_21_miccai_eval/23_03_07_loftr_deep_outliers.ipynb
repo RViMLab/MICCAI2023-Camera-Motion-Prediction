{
 "cells": [
  {
   "cell_type": "code",
   "execution_count": null,
   "metadata": {},
   "outputs": [],
   "source": [
    "import os\n",
    "import sys\n",
    "sys.path.append(\"../..\")\n",
    "\n",
    "import pandas as pd\n",
    "\n",
    "from utils.io import load_yaml\n",
    "\n",
    "server = \"local\"\n",
    "server = load_yaml(\"../../config/servers.yml\")[server]\n",
    "server\n",
    "\n",
    "database = \"heichole_single_frames_cropped\"\n",
    "database_location = server[\"database\"][\"location\"]\n",
    "\n",
    "estimator = \"deep\" # \"deep\"\n",
    "increment = 5\n",
    "between_clips = 5\n",
    "pkl = f\"23_03_03_{estimator}_pre_processed_frame_increment_{increment}_frames_between_clips_{between_clips}_log.pkl\"\n",
    "# pkl = \"23_02_24_pre_processed_frame_increment_5_frames_between_clips_1_log.pkl\"\n",
    "\n",
    "df = pd.read_pickle(os.path.join(database_location, database, pkl))\n",
    "\n",
    "\n",
    "df[[\"vid\", \"frame\"]] = df[[\"vid\", \"frame\"]].astype(float)\n",
    "df = df.sort_values(by=[\"vid\", \"frame\"]).reset_index(drop=True)\n",
    "df[[\"vid\", \"frame\"]] = df[[\"vid\", \"frame\"]].astype(int)\n",
    "\n",
    "# df\n",
    "\n",
    "df[::increment][-20:]\n",
    "\n",
    "# # df.dropna(inplace=True)\n",
    "# # df\n",
    "\n",
    "# n_nan = df.duv_mpd.isna().sum()\n",
    "# print(len(df), n_nan, n_nan / len(df))"
   ]
  },
  {
   "cell_type": "code",
   "execution_count": null,
   "metadata": {},
   "outputs": [],
   "source": []
  }
 ],
 "metadata": {
  "kernelspec": {
   "display_name": "torch110",
   "language": "python",
   "name": "python3"
  },
  "language_info": {
   "codemirror_mode": {
    "name": "ipython",
    "version": 3
   },
   "file_extension": ".py",
   "mimetype": "text/x-python",
   "name": "python",
   "nbconvert_exporter": "python",
   "pygments_lexer": "ipython3",
   "version": "3.9.16"
  },
  "orig_nbformat": 4
 },
 "nbformat": 4,
 "nbformat_minor": 2
}
