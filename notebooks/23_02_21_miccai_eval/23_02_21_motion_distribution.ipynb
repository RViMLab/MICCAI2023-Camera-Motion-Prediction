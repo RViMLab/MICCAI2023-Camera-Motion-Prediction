{
 "cells": [
  {
   "attachments": {},
   "cell_type": "markdown",
   "metadata": {},
   "source": [
    "# Load Pickle"
   ]
  },
  {
   "cell_type": "code",
   "execution_count": null,
   "metadata": {},
   "outputs": [],
   "source": [
    "import os\n",
    "import sys\n",
    "sys.path.append(\"../..\")\n",
    "\n",
    "from typing import Tuple\n",
    "import pandas as pd\n",
    "\n",
    "from utils.io import load_yaml\n",
    "\n",
    "server = \"local\"\n",
    "server = load_yaml(\"../../config/servers.yml\")[server]\n",
    "\n",
    "database = server[\"database\"][\"location\"]\n",
    "\n",
    "def pickle_path(name: str) -> Tuple[str]:\n",
    "    prefix = \"\"\n",
    "    motion_pickle = \"\"\n",
    "    if name == \"cholec80\":\n",
    "        prefix = \"cholec80_single_video_frames_cropped\"\n",
    "        motion_pickle = \"23_02_24_pre_processed_frame_increment_5_frames_between_clips_1_log.pkl\"\n",
    "    if name == \"heichole\":\n",
    "        prefix = \"heichole_single_frames_cropped\"\n",
    "        motion_pickle = \"23_02_24_pre_processed_frame_increment_5_frames_between_clips_1_log.pkl\"\n",
    "    if name == \"phantom\":\n",
    "        prefix = \"21_11_25_first_test_data_frames\"\n",
    "        motion_pickle = \"23_02_24_pre_processed_frame_increment_10_frames_between_clips_1_log.pkl\"\n",
    "    if name == \"autolaparo\":\n",
    "        prefix = \"autolaparo_single_frames/AutoLaparo_Task2\"\n",
    "        motion_pickle = \"23_02_24_pre_processed_frame_increment_5_frames_between_clips_1_log.pkl\"\n",
    "\n",
    "    return prefix, motion_pickle\n",
    "\n",
    "# cholec80\n",
    "# prefix, motion_pickle = pickle_path(\"cholec80\")\n",
    "# prefix, motion_pickle = pickle_path(\"heichole\")\n",
    "prefix, motion_pickle = pickle_path(\"phantom\")\n",
    "# prefix, motion_pickle = pickle_path(\"autolaparo\")\n",
    "\n",
    "\n",
    "df = pd.read_pickle(os.path.join(database, prefix, motion_pickle))\n",
    "df = df.dropna()"
   ]
  },
  {
   "cell_type": "code",
   "execution_count": null,
   "metadata": {},
   "outputs": [],
   "source": [
    "from utils.processing import dataframe_duv_running_average, classify_duv_motion\n",
    "\n",
    "window = 40 # window 20 for 25 fps videos\n",
    "df_ra, mean, std = dataframe_duv_running_average(df, window=window)\n",
    "print(mean, std)\n",
    "df_ra"
   ]
  },
  {
   "cell_type": "code",
   "execution_count": null,
   "metadata": {},
   "outputs": [],
   "source": [
    "df_ra = df_ra.dropna()\n",
    "# df_ra[\"labels\"] = df_ra.apply(lambda x: classify_duv_motion(x[\"duv_0_0\"], x[\"duv_0_1\"], x[\"duv_1_0\"], x[\"duv_1_1\"], x[\"duv_2_0\"], x[\"duv_2_1\"], x[\"duv_3_0\"], x[\"duv_3_1\"], mean + std), axis=1) # window of 1\n",
    "df_ra[\"labels\"] = df_ra.apply(lambda x: classify_duv_motion(x[\"duv_0_0\"], x[\"duv_0_1\"], x[\"duv_1_0\"], x[\"duv_1_1\"], x[\"duv_2_0\"], x[\"duv_2_1\"], x[\"duv_3_0\"], x[\"duv_3_1\"], mean + std/5.), axis=1) # window of 0.8s\n",
    "df_ra"
   ]
  },
  {
   "cell_type": "code",
   "execution_count": null,
   "metadata": {},
   "outputs": [],
   "source": [
    "# remove duv columns\n",
    "df_ra = df_ra.drop(columns=[f\"duv_{i}_{j}\" for i in range(4) for j in range(2)])\n",
    "\n",
    "# rename and save\n",
    "string_split = motion_pickle.split(\"_\")\n",
    "date, new_name = \"_\".join(string_split[:3]), \"_\".join(string_split[3:])\n",
    "new_name = new_name.replace(\"pre_processed_\", \"\")\n",
    "new_name = date + f\"_motion_label_window_{window}_\" + new_name\n",
    "\n",
    "df_ra.to_pickle(os.path.join(database, prefix, new_name))"
   ]
  },
  {
   "cell_type": "code",
   "execution_count": null,
   "metadata": {},
   "outputs": [],
   "source": [
    "df_ra.groupby(\"labels\").size()"
   ]
  },
  {
   "cell_type": "code",
   "execution_count": null,
   "metadata": {},
   "outputs": [],
   "source": [
    "# split into test/train\n",
    "import sys\n",
    "sys.path.append(\"../..\")\n",
    "\n",
    "import os\n",
    "from typing import Tuple\n",
    "import pandas as pd\n",
    "\n",
    "from utils.io import load_yaml\n",
    "from utils.processing import unique_video_train_test\n",
    "\n",
    "window = 40 # window 20 for 25 fps videos\n",
    "\n",
    "def pickle_path(name: str) -> Tuple[str]:\n",
    "    prefix = \"\"\n",
    "    motion_pickle = \"\"\n",
    "    if name == \"cholec80\":\n",
    "        prefix = \"cholec80_single_video_frames_cropped\"\n",
    "        motion_pickle = f\"23_02_24_motion_label_window_{window}_frame_increment_5_frames_between_clips_1_log.pkl\"\n",
    "    if name == \"heichole\":\n",
    "        prefix = \"heichole_single_frames_cropped\"\n",
    "        motion_pickle = f\"23_02_24_motion_label_window_{window}_frame_increment_5_frames_between_clips_1_log.pkl\"\n",
    "    if name == \"phantom\":\n",
    "        prefix = \"21_11_25_first_test_data_frames\"\n",
    "        motion_pickle = f\"23_02_24_motion_label_window_{window}_frame_increment_10_frames_between_clips_1_log.pkl\"\n",
    "    if name == \"autolaparo\":\n",
    "        prefix = \"autolaparo_single_frames/AutoLaparo_Task2\"\n",
    "        motion_pickle = f\"23_02_24_motion_label_window_{window}_frame_increment_5_frames_between_clips_1_log.pkl\"\n",
    "\n",
    "    return prefix, motion_pickle\n",
    "\n",
    "server = \"local\"\n",
    "server = load_yaml(\"../../config/servers.yml\")[server]\n",
    "\n",
    "database = server[\"database\"][\"location\"]\n",
    "\n",
    "# datasets = [\"cholec80\", \"heichole\", \"autolaparo\"]\n",
    "datasets = [\"phantom\"]\n",
    "\n",
    "for dataset in datasets:\n",
    "    prefix, motion_pickle = pickle_path(dataset)\n",
    "\n",
    "    df = pd.read_pickle(os.path.join(database, prefix, motion_pickle))\n",
    "\n",
    "    # remove train volumn\n",
    "    df = unique_video_train_test(df, train_split=0.8, tolerance=0.01, random_state=42)\n",
    "\n",
    "    print(dataset, \": \", len(df[df[\"train\"] == False])/len(df))\n",
    "\n",
    "    motion_pickle_test_train = motion_pickle.split(\".\")[0] + \"_test_train.pkl\"\n",
    "    df.to_pickle(os.path.join(database, prefix, motion_pickle_test_train))"
   ]
  }
 ],
 "metadata": {
  "kernelspec": {
   "display_name": "torch110",
   "language": "python",
   "name": "python3"
  },
  "language_info": {
   "codemirror_mode": {
    "name": "ipython",
    "version": 3
   },
   "file_extension": ".py",
   "mimetype": "text/x-python",
   "name": "python",
   "nbconvert_exporter": "python",
   "pygments_lexer": "ipython3",
   "version": "3.9.16"
  },
  "orig_nbformat": 4,
  "vscode": {
   "interpreter": {
    "hash": "de43f3610355f051a4a7d1ec68e5cd39983800d0bb5000cb4a591287222bab46"
   }
  }
 },
 "nbformat": 4,
 "nbformat_minor": 2
}
