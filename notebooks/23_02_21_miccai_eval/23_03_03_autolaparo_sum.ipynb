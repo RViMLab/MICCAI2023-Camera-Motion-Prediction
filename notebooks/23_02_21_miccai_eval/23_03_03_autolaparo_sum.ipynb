{
 "cells": [
  {
   "cell_type": "code",
   "execution_count": null,
   "metadata": {},
   "outputs": [],
   "source": [
    "import sys\n",
    "sys.path.append(\"../..\")\n",
    "import numpy as np\n",
    "import os\n",
    "import pandas as pd\n",
    "import matplotlib.pyplot as plt\n",
    "\n",
    "from utils.io import load_yaml\n",
    "\n",
    "server = \"local\"\n",
    "server = load_yaml(\"../../config/servers.yml\")[server]\n",
    "\n",
    "increment = 5\n",
    "\n",
    "database = server[\"database\"][\"location\"]\n",
    "prefix = \"autolaparo_single_frames/AutoLaparo_Task2\"\n",
    "motion_pickle = f\"23_03_03_pre_processed_frame_increment_{increment}_frames_between_clips_1_log.pkl\"\n",
    "label_pickle = \"laparoscope_motion_label.csv\"\n",
    "\n",
    "# from readme\n",
    "motion_dict = {\n",
    "    0: \"static\",\n",
    "    1: \"up\",\n",
    "    2: \"down\",\n",
    "    3: \"left\",\n",
    "    4: \"right\",\n",
    "    5: \"zoom-in\",\n",
    "    6: \"zoom-out\",\n",
    "}\n",
    "\n",
    "motion_df = pd.read_pickle(os.path.join(database, prefix, motion_pickle))\n",
    "\n",
    "length = len(motion_df[motion_df[\"vid\"] == 0])\n",
    "# get last half\n",
    "motion_df = motion_df.groupby(\"vid\").tail(int((length - 1) / 2)).reset_index(drop=True)\n",
    "motion_df = motion_df[::increment].dropna().reset_index(drop=True)\n",
    "\n",
    "label_df = pd.read_csv(os.path.join(database, prefix, label_pickle))\n",
    "label_df[\"Clip\"] = label_df[\"Clip\"].apply(lambda x: x - 1)\n",
    "\n",
    "print(label_df)\n",
    "print(motion_df)"
   ]
  },
  {
   "cell_type": "code",
   "execution_count": null,
   "metadata": {},
   "outputs": [],
   "source": [
    "import torch\n",
    "\n",
    "from kornia.geometry import convert_points_to_homogeneous, transform_points\n",
    "\n",
    "from utils.processing import four_point_homography_to_matrix, image_edges\n",
    "\n",
    "id = 15\n",
    "id_df = motion_df[motion_df[\"vid\"] == id]\n",
    "print(motion_dict[label_df[label_df[\"Clip\"] == id].iloc[0].Label])\n",
    "\n",
    "shape = (320, 240)\n",
    "img = torch.ones((1, 1, shape[1], shape[0]))\n",
    "\n",
    "x = []\n",
    "y = []\n",
    "\n",
    "for i in range(len(id_df)):\n",
    "    duv = torch.tensor(id_df.iloc[i].duv).unsqueeze(0)\n",
    "    \n",
    "    # mean = duv.mean(axis=-2)\n",
    "    # x.append(mean[0, 0])\n",
    "    # y.append(mean[0, 1])\n",
    "\n",
    "\n",
    "    h = four_point_homography_to_matrix(image_edges(img), duv)\n",
    "    # print(h)\n",
    "\n",
    "    # convert_points_to_homogeneous(torch.tensor([shape[0]/2, shape[1]/2]))\n",
    "    p = torch.tensor([int((shape[1] - 1)/2), int((shape[0] - 1)/2), 1], dtype=torch.float)\n",
    "\n",
    "    # print(p)\n",
    "    # print(h @ p)\n",
    "    dp = p - h @ p\n",
    "    x.append(dp[0, 0])\n",
    "    y.append(dp[0, 1])\n",
    "\n",
    "\n",
    "import matplotlib.pyplot as plt\n",
    "plt.scatter(x, y)\n",
    "plt.show()\n",
    "\n",
    "\n",
    "# duv = torch.tensor(motion_df.iloc[0].duv).unsqueeze(0)\n",
    "# h = four_point_homography_to_matrix(image_edges(img), duv)\n",
    "\n",
    "# # convert_points_to_homogeneous(torch.tensor([shape[0]/2, shape[1]/2]))\n",
    "# p = torch.tensor([int((shape[1] - 1)/2), int((shape[0] - 1)/2), 1], dtype=torch.float)\n",
    "\n",
    "# # print(p)\n",
    "# # print(h @ p)\n",
    "# print(p - h @ p)\n"
   ]
  },
  {
   "cell_type": "code",
   "execution_count": null,
   "metadata": {},
   "outputs": [],
   "source": [
    "motion_dict[label_df[label_df[\"Clip\"] == 10].Label.values[0]]"
   ]
  },
  {
   "cell_type": "code",
   "execution_count": null,
   "metadata": {},
   "outputs": [],
   "source": []
  }
 ],
 "metadata": {
  "kernelspec": {
   "display_name": "torch110",
   "language": "python",
   "name": "python3"
  },
  "language_info": {
   "codemirror_mode": {
    "name": "ipython",
    "version": 3
   },
   "file_extension": ".py",
   "mimetype": "text/x-python",
   "name": "python",
   "nbconvert_exporter": "python",
   "pygments_lexer": "ipython3",
   "version": "3.9.16"
  },
  "orig_nbformat": 4,
  "vscode": {
   "interpreter": {
    "hash": "de43f3610355f051a4a7d1ec68e5cd39983800d0bb5000cb4a591287222bab46"
   }
  }
 },
 "nbformat": 4,
 "nbformat_minor": 2
}
