{
 "cells": [
  {
   "cell_type": "code",
   "execution_count": null,
   "metadata": {},
   "outputs": [],
   "source": [
    "import os\n",
    "import sys\n",
    "sys.path.append(\"../..\")\n",
    "\n",
    "import numpy as np\n",
    "from typing import Tuple\n",
    "import pandas as pd\n",
    "\n",
    "from utils.io import load_yaml\n",
    "\n",
    "server = \"local\"\n",
    "server = load_yaml(\"../../config/servers.yml\")[server]\n",
    "\n",
    "database = server[\"database\"][\"location\"]\n",
    "\n",
    "\n",
    "def pickle_path(name: str, window: int) -> Tuple[str]:\n",
    "    prefix = \"\"\n",
    "    motion_pickle = \"\"\n",
    "    if name == \"cholec80\":\n",
    "        prefix = \"cholec80_single_video_frames_cropped\"\n",
    "        motion_pickle = f\"23_02_24_motion_label_window_{window}_frame_increment_5_frames_between_clips_1_log.pkl\"\n",
    "    if name == \"heichole\":\n",
    "        prefix = \"heichole_single_frames_cropped\"\n",
    "        motion_pickle = f\"23_02_24_motion_label_window_{window}_frame_increment_5_frames_between_clips_1_log.pkl\"\n",
    "    if name == \"phantom\":\n",
    "        prefix = \"21_11_25_first_test_data_frames\"\n",
    "        motion_pickle = f\"23_02_24_motion_label_window_{window}_frame_increment_10_frames_between_clips_1_log.pkl\"\n",
    "    if name == \"autolaparo\":\n",
    "        prefix = \"autolaparo_single_frames/AutoLaparo_Task2\"\n",
    "        motion_pickle = f\"23_02_24_motion_label_window_{window}_frame_increment_5_frames_between_clips_1_log.pkl\"\n",
    "\n",
    "    return prefix, motion_pickle"
   ]
  },
  {
   "attachments": {},
   "cell_type": "markdown",
   "metadata": {},
   "source": [
    "# Missing Videos"
   ]
  },
  {
   "cell_type": "code",
   "execution_count": null,
   "metadata": {},
   "outputs": [],
   "source": [
    "prefix, motion_pickle = pickle_path(\"cholec80\", 1)\n",
    "df = pd.read_pickle(os.path.join(database, prefix, motion_pickle))\n",
    "\n",
    "print(\"cholec80 videos:\")\n",
    "vid_ids = df.vid.unique().tolist()\n",
    "print(vid_ids)\n",
    "print(\"cholec80 missing videos:\")\n",
    "print([a + 1 for a in np.arange(0, 80, 1).tolist() if a not in vid_ids])\n",
    "\n",
    "prefix, motion_pickle = pickle_path(\"heichole\", 1)\n",
    "df = pd.read_pickle(os.path.join(database, prefix, motion_pickle))\n",
    "\n",
    "print(\"heichole videos:\")\n",
    "vid_ids = df.folder.apply(lambda x: int(x.split(\"/\")[0].replace(\"Hei-Chole\", \"\"))).unique().tolist()\n",
    "print(vid_ids)\n",
    "print(\"heichole missing videos:\")\n",
    "print([a for a in np.arange(1, 25, 1).tolist() if a not in vid_ids])\n"
   ]
  },
  {
   "attachments": {},
   "cell_type": "markdown",
   "metadata": {},
   "source": [
    "# Database Sizes"
   ]
  },
  {
   "cell_type": "code",
   "execution_count": null,
   "metadata": {},
   "outputs": [],
   "source": [
    "prefix, motion_pickle = pickle_path(\"cholec80\", 1)\n",
    "df = pd.read_pickle(os.path.join(database, prefix, motion_pickle))\n",
    "print(\"cholec80 frames:\")\n",
    "print(len(df))\n",
    "\n",
    "prefix, motion_pickle = pickle_path(\"heichole\", 1)\n",
    "df = pd.read_pickle(os.path.join(database, prefix, motion_pickle))\n",
    "print(\"heichole frames:\")\n",
    "print(len(df))\n",
    "\n",
    "prefix, motion_pickle = pickle_path(\"phantom\", 1)\n",
    "df = pd.read_pickle(os.path.join(database, prefix, motion_pickle))\n",
    "print(\"phantom frames:\")\n",
    "print(len(df))\n",
    "\n",
    "prefix, motion_pickle = pickle_path(\"autolaparo\", 1)\n",
    "df = pd.read_pickle(os.path.join(database, prefix, motion_pickle))\n",
    "print(\"autolaparo frames:\")\n",
    "print(len(df))"
   ]
  },
  {
   "cell_type": "code",
   "execution_count": null,
   "metadata": {},
   "outputs": [],
   "source": []
  }
 ],
 "metadata": {
  "kernelspec": {
   "display_name": "torch110",
   "language": "python",
   "name": "python3"
  },
  "language_info": {
   "codemirror_mode": {
    "name": "ipython",
    "version": 3
   },
   "file_extension": ".py",
   "mimetype": "text/x-python",
   "name": "python",
   "nbconvert_exporter": "python",
   "pygments_lexer": "ipython3",
   "version": "3.9.16"
  },
  "orig_nbformat": 4,
  "vscode": {
   "interpreter": {
    "hash": "de43f3610355f051a4a7d1ec68e5cd39983800d0bb5000cb4a591287222bab46"
   }
  }
 },
 "nbformat": 4,
 "nbformat_minor": 2
}
