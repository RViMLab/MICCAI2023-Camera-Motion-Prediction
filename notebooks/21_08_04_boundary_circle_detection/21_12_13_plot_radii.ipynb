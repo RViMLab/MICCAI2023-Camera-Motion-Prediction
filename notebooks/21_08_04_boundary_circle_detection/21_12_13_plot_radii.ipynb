{
 "cells": [
  {
   "cell_type": "code",
   "execution_count": null,
   "metadata": {},
   "outputs": [],
   "source": [
    "import cv2\n",
    "import kornia\n",
    "from decord import VideoLoader, cpu, bridge\n",
    "\n",
    "\n",
    "bridge.set_bridge(\"torch\")\n",
    "\n",
    "\n",
    "\n",
    "\n",
    "vl = VideoLoader(\n",
    "    uris=[\n",
    "        \"/media/martin/Samsung_T5/data/endoscopic_data/cholec80/sample_videos/video01_short.mp4\",\n",
    "        \"/media/martin/Samsung_T5/data/endoscopic_data/cholec80/sample_videos/video02_short.mp4\"\n",
    "    ], \n",
    "    ctx=cpu(0), shape=[10,480,640,3], interval=0, skip=0,\n",
    "    shuffle=0\n",
    ")\n",
    "\n",
    "print(len(vl))\n",
    "\n",
    "for batch in vl:\n",
    "    # print(batch[1].transpose(1,0))\n",
    "    print(batch[1].shape)\n",
    "    for frame in batch[0]:\n",
    "        frame = frame.numpy()\n",
    "        cv2.imshow(\"f\", frame)\n",
    "        cv2.waitKey()\n",
    "cv2.destroyAllWindows()"
   ]
  },
  {
   "cell_type": "code",
   "execution_count": 1,
   "metadata": {},
   "outputs": [
    {
     "name": "stdout",
     "output_type": "stream",
     "text": [
      "24\n"
     ]
    },
    {
     "data": {
      "text/plain": [
       "<Figure size 1800x1200 with 0 Axes>"
      ]
     },
     "metadata": {},
     "output_type": "display_data"
    }
   ],
   "source": [
    "import sys\n",
    "sys.path.append(\"../..\")\n",
    "\n",
    "import os\n",
    "import pandas as pd\n",
    "import matplotlib.pyplot as plt\n",
    "import matplotlib as mpl\n",
    "mpl.rcParams['figure.dpi'] = 300\n",
    "\n",
    "\n",
    "from utils.io import recursive_scan2df\n",
    "\n",
    "prefix = \"/media/martin/Samsung_T5/data/endoscopic_data/cholec80_circle_tracking_individual\"\n",
    "pkls = recursive_scan2df(prefix, \".pkl\")\n",
    "# pkls = pkls.sort_values([\"folder\", \"file\"]).reset_index(drop=True)\n",
    "\n",
    "pkls = pkls[29:]\n",
    "\n",
    "print(len(pkls))\n",
    "\n",
    "for idx, row in pkls.iterrows():\n",
    "    df = pd.read_pickle(os.path.join(prefix, row.file + row.folder))\n",
    "    # df.radius = df.radius.rolling(window=5).mean()\n",
    "    plt.plot(df.frame, df.radius, label=\"Video {}\".format(idx))\n",
    "    plt.grid()\n",
    "    plt.legend()\n",
    "    plt.xlabel(\"Frame / #\")\n",
    "    plt.ylabel(\"Radius / pixels\")\n",
    "    plt.savefig(prefix + \"/figs/video_{}.png\".format(idx), transparent=False)\n",
    "    plt.clf()\n"
   ]
  },
  {
   "cell_type": "code",
   "execution_count": null,
   "metadata": {},
   "outputs": [],
   "source": []
  }
 ],
 "metadata": {
  "interpreter": {
   "hash": "de43f3610355f051a4a7d1ec68e5cd39983800d0bb5000cb4a591287222bab46"
  },
  "kernelspec": {
   "display_name": "Python 3.9.7 64-bit ('hil_torch110': conda)",
   "language": "python",
   "name": "python3"
  },
  "language_info": {
   "codemirror_mode": {
    "name": "ipython",
    "version": 3
   },
   "file_extension": ".py",
   "mimetype": "text/x-python",
   "name": "python",
   "nbconvert_exporter": "python",
   "pygments_lexer": "ipython3",
   "version": "3.9.7"
  },
  "orig_nbformat": 4
 },
 "nbformat": 4,
 "nbformat_minor": 2
}
