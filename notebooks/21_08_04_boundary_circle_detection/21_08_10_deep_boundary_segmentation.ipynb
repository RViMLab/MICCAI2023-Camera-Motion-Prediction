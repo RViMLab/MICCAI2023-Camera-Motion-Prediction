{
 "cells": [
  {
   "cell_type": "code",
   "execution_count": 1,
   "source": [
    "import os\n",
    "import sys\n",
    "sys.path.append('../..')\n",
    "\n",
    "import pytorch_lightning as pl\n",
    "\n",
    "from lightning_modules.image_segmentation import ImageSegmentationModule\n",
    "from utils.io import load_yaml\n",
    "\n",
    "\n",
    "prefix = '/home/martin/Tresors/homography_imitation_learning_logs/boundary_image_segmentation/deeplabv3p/efficient_net/b0/version_0'\n",
    "checkpoint = 'epoch=49-step=1499.ckpt'\n",
    "\n",
    "config = load_yaml(os.path.join(prefix, 'config.yml'))\n",
    "\n",
    "model = ImageSegmentationModule(**config['model'])\n",
    "model = model.load_from_checkpoint(os.path.join(prefix, 'checkpoints', checkpoint), **config['model'])\n",
    "model = model.eval()\n",
    "model.freeze()\n"
   ],
   "outputs": [
    {
     "output_type": "stream",
     "name": "stderr",
     "text": [
      "/home/martin/miniconda3/envs/torch19/lib/python3.8/site-packages/matplotlib_inline/config.py:66: DeprecationWarning: InlineBackend._figure_formats_changed is deprecated in traitlets 4.1: use @observe and @unobserve instead.\n",
      "  def _figure_formats_changed(self, name, old, new):\n"
     ]
    }
   ],
   "metadata": {}
  },
  {
   "cell_type": "code",
   "execution_count": 2,
   "source": [
    "import cv2\n",
    "from kornia import image_to_tensor, tensor_to_image, resize\n",
    "\n",
    "from utils.io import recursive_scan2df\n",
    "from utils.sampling import ConsecutiveSequences, RandomSequences\n",
    "from utils.processing import endoscopy\n",
    "\n",
    "prefix = '/media/martin/Samsung_T5/data/endoscopic_data/cholec80_splits'\n",
    "# prefix = '/media/martin/Samsung_T5/data/endoscopic_data/ROBUST_MIS_raw_data'\n",
    "df = recursive_scan2df(prefix, '.mp4')\n",
    "# df = recursive_scan2df(prefix, '.avi')\n",
    "N = 10\n",
    "\n",
    "paths = [os.path.join(prefix, row.folder, row.file) for _, row in df.sample(N).iterrows()]\n",
    "\n",
    "cs = RandomSequences(max_seq=100, paths=paths, seq_len=100)\n",
    "for frames in cs:\n",
    "    frames = image_to_tensor(frames)\n",
    "    frames = frames.to(model.device)\n",
    "    frames = frames.float()/255.\n",
    "    # frames = resize(frames, [270, 480])\n",
    "    segs = model(frames)\n",
    "    avg_seg = segs.mean(axis=0)\n",
    "\n",
    "    for seg, frame in zip(segs, frames):\n",
    "        seg = tensor_to_image(avg_seg, keepdim=False)\n",
    "        frame = tensor_to_image(frame, keepdim=False)\n",
    "\n",
    "        center, radius = endoscopy.ransacBoundaryCircle(seg*255, th=10, fit='numeric', n_pts=100, n_iter=1)\n",
    "\n",
    "        if radius is not None:\n",
    "            center, radius = center.astype(int), int(radius)\n",
    "        \n",
    "            top_left, shape = endoscopy.maxRectangleInCircle(seg.shape, center, radius)\n",
    "            top_left, shape = top_left.astype(int), tuple(map(int, shape))\n",
    "            cv2.circle(frame, (center[1], center[0]), radius, color=(1, 1, 0), thickness=2)\n",
    "            cv2.rectangle(frame, (top_left[1], top_left[0]), (top_left[1]+shape[1], top_left[0]+shape[0]), (1, 1, 0), thickness=2)\n",
    "\n",
    "            # crop = endoscopy.crop(frame, top_left, shape)\n",
    "            # cv2.imshow('crop', crop)\n",
    "\n",
    "        mask = endoscopy.bilateralSegmentation(frame*255, th=0.01)\n",
    "        center, radius = endoscopy.ransacBoundaryCircle(mask, th=10, fit='numeric', n_pts=100, n_iter=1)\n",
    "\n",
    "        if radius is not None:\n",
    "            center, radius = center.astype(int), int(radius)\n",
    "            cv2.circle(frame, (center[1], center[0]), radius, color=(1, 0, 1), thickness=2)\n",
    "\n",
    "        cv2.imshow('seg', seg)\n",
    "        cv2.imshow('frames', frame)\n",
    "        cv2.waitKey()\n",
    "\n"
   ],
   "outputs": [
    {
     "output_type": "error",
     "ename": "NameError",
     "evalue": "name 'seg' is not defined",
     "traceback": [
      "\u001b[0;31m---------------------------------------------------------------------------\u001b[0m",
      "\u001b[0;31mNameError\u001b[0m                                 Traceback (most recent call last)",
      "\u001b[0;32m/tmp/ipykernel_9745/2273916632.py\u001b[0m in \u001b[0;36m<module>\u001b[0;34m\u001b[0m\n\u001b[1;32m     21\u001b[0m     \u001b[0;31m# frames = resize(frames, [270, 480])\u001b[0m\u001b[0;34m\u001b[0m\u001b[0;34m\u001b[0m\u001b[0;34m\u001b[0m\u001b[0m\n\u001b[1;32m     22\u001b[0m     \u001b[0msegs\u001b[0m \u001b[0;34m=\u001b[0m \u001b[0mmodel\u001b[0m\u001b[0;34m(\u001b[0m\u001b[0mframes\u001b[0m\u001b[0;34m)\u001b[0m\u001b[0;34m\u001b[0m\u001b[0;34m\u001b[0m\u001b[0m\n\u001b[0;32m---> 23\u001b[0;31m     \u001b[0mavg_seg\u001b[0m \u001b[0;34m=\u001b[0m \u001b[0mseg\u001b[0m\u001b[0;34m.\u001b[0m\u001b[0mmean\u001b[0m\u001b[0;34m(\u001b[0m\u001b[0maxis\u001b[0m\u001b[0;34m=\u001b[0m\u001b[0;36m0\u001b[0m\u001b[0;34m)\u001b[0m\u001b[0;34m\u001b[0m\u001b[0;34m\u001b[0m\u001b[0m\n\u001b[0m\u001b[1;32m     24\u001b[0m \u001b[0;34m\u001b[0m\u001b[0m\n\u001b[1;32m     25\u001b[0m     \u001b[0;32mfor\u001b[0m \u001b[0mseg\u001b[0m\u001b[0;34m,\u001b[0m \u001b[0mframe\u001b[0m \u001b[0;32min\u001b[0m \u001b[0mzip\u001b[0m\u001b[0;34m(\u001b[0m\u001b[0msegs\u001b[0m\u001b[0;34m,\u001b[0m \u001b[0mframes\u001b[0m\u001b[0;34m)\u001b[0m\u001b[0;34m:\u001b[0m\u001b[0;34m\u001b[0m\u001b[0;34m\u001b[0m\u001b[0m\n",
      "\u001b[0;31mNameError\u001b[0m: name 'seg' is not defined"
     ]
    }
   ],
   "metadata": {}
  },
  {
   "cell_type": "code",
   "execution_count": null,
   "source": [],
   "outputs": [
    {
     "output_type": "stream",
     "name": "stdout",
     "text": [
      "$1\n"
     ]
    }
   ],
   "metadata": {}
  },
  {
   "cell_type": "code",
   "execution_count": null,
   "source": [],
   "outputs": [],
   "metadata": {}
  }
 ],
 "metadata": {
  "orig_nbformat": 4,
  "language_info": {
   "name": "python",
   "version": "3.8.10",
   "mimetype": "text/x-python",
   "codemirror_mode": {
    "name": "ipython",
    "version": 3
   },
   "pygments_lexer": "ipython3",
   "nbconvert_exporter": "python",
   "file_extension": ".py"
  },
  "kernelspec": {
   "name": "python3",
   "display_name": "Python 3.8.10 64-bit ('torch19': conda)"
  },
  "interpreter": {
   "hash": "17d2da6d4c03d525316b700718104f3263bf9fa05906edde102a12a44420d208"
  }
 },
 "nbformat": 4,
 "nbformat_minor": 2
}