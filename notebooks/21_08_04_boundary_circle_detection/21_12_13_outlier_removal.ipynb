{
 "cells": [
  {
   "cell_type": "code",
   "execution_count": 2,
   "metadata": {},
   "outputs": [
    {
     "name": "stdout",
     "output_type": "stream",
     "text": [
      " circle_log_77.pkl\n",
      " circle_log_78.pkl\n"
     ]
    },
    {
     "data": {
      "text/plain": [
       "<Figure size 1800x1200 with 0 Axes>"
      ]
     },
     "metadata": {},
     "output_type": "display_data"
    }
   ],
   "source": [
    "# ideally:\n",
    "# predict radius, center on BxCxHxW\n",
    "# perform outlier rejection on radius/center\n",
    "\n",
    "# currently:\n",
    "# predict radius, center on reduced TxCxHxW segmentation\n",
    "\n",
    "import sys\n",
    "sys.path.append(\"/home/martin/Dev/homography_imitation_learning\")\n",
    "import os\n",
    "from scipy import stats\n",
    "import pandas as pd\n",
    "import numpy as np\n",
    "import matplotlib.pyplot as plt\n",
    "import matplotlib as mpl\n",
    "mpl.rcParams['figure.dpi'] = 300\n",
    "\n",
    "from utils.io import recursive_scan2df\n",
    "\n",
    "prefix = \"/media/martin/Samsung_T5/data/endoscopic_data/cholec80_circle_tracking_individual\"\n",
    "data_df = recursive_scan2df(prefix, \".pkl\")\n",
    "data_df = data_df[77:]\n",
    "# data_df = data_df.sort_values([\"folder\", \"file\"]).reset_index(drop=True)\n",
    "\n",
    "\n",
    "for idx, row in data_df.iterrows():\n",
    "    print(row.folder, row.file)\n",
    "    df = pd.read_pickle(os.path.join(prefix, row.folder, row.file))\n",
    "    \n",
    "    try:\n",
    "        z_score = np.abs(stats.zscore(df.radius, nan_policy='omit'))\n",
    "        # df.loc[z_score > 3, 'radius'] = np.nan\n",
    "        # df.radius = df.radius.interpolate(method='pad')\n",
    "        # df.radius = df.radius.rolling(window=25).mean()\n",
    "    except:\n",
    "        continue\n",
    "\n",
    "\n",
    "    plt.plot(df.frame, df.radius, label=\"Video {}\".format(idx))\n",
    "    plt.grid()\n",
    "    plt.legend()\n",
    "    plt.xlabel(\"Frame / #\")\n",
    "    plt.ylabel(\"Radius / pixels\")\n",
    "    plt.savefig(prefix + \"/figs_interpolated/video_{}.png\".format(idx), transparent=False)\n",
    "    plt.clf()\n",
    "\n"
   ]
  },
  {
   "cell_type": "code",
   "execution_count": null,
   "metadata": {},
   "outputs": [],
   "source": []
  }
 ],
 "metadata": {
  "interpreter": {
   "hash": "de43f3610355f051a4a7d1ec68e5cd39983800d0bb5000cb4a591287222bab46"
  },
  "kernelspec": {
   "display_name": "Python 3.9.7 64-bit ('torch110': conda)",
   "language": "python",
   "name": "python3"
  },
  "language_info": {
   "codemirror_mode": {
    "name": "ipython",
    "version": 3
   },
   "file_extension": ".py",
   "mimetype": "text/x-python",
   "name": "python",
   "nbconvert_exporter": "python",
   "pygments_lexer": "ipython3",
   "version": "3.9.7"
  },
  "orig_nbformat": 4
 },
 "nbformat": 4,
 "nbformat_minor": 2
}
