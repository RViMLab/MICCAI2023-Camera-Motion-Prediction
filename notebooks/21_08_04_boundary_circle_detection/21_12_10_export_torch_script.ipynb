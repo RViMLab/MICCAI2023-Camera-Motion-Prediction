{
 "cells": [
  {
   "cell_type": "markdown",
   "metadata": {},
   "source": [
    "# Export Deepseg"
   ]
  },
  {
   "cell_type": "code",
   "execution_count": 7,
   "metadata": {},
   "outputs": [],
   "source": [
    "import sys\n",
    "sys.path.append('/home/martin/Dev/homography_imitation_learning')\n",
    "\n",
    "import os\n",
    "import torch\n",
    "from lightning_modules import ImageSegmentationModule\n",
    "\n",
    "from utils import load_yaml\n",
    "\n",
    "device = 'cuda' # 'cpu' for cpu exection\n",
    "\n",
    "# load model with default values\n",
    "# prefix = '/home/martin/Tresors/homography_imitation_learning_logs/boundary_image_segmentation/unet/resnet/34/tiny'\n",
    "# checkpoint_prefix = 'version_5'\n",
    "# checkpoint = 'checkpoints/epoch=374-step=1499.ckpt'\n",
    "prefix = '/home/martin/Tresors/homography_imitation_learning_logs/boundary_image_segmentation/unet/resnet/34'\n",
    "checkpoint_prefix = 'version_4'\n",
    "checkpoint = 'checkpoints/epoch=288-step=2311.ckpt'\n",
    "\n",
    "config = load_yaml(os.path.join(prefix, checkpoint_prefix, 'config.yml'))\n",
    "\n",
    "model = ImageSegmentationModule(**config['model'])\n",
    "model = model.load_from_checkpoint(os.path.join(prefix, checkpoint_prefix, checkpoint), **config['model'])\n",
    "model = model.to(device)\n",
    "\n",
    "script = model.to_torchscript(method='trace', example_inputs=torch.rand([1,3,320,480]))\n",
    "# torch.jit.save(script, '/tmp/models/seg_unet_resnet_34_{}_tiny.pt'.format(device))\n",
    "torch.jit.save(script, '/tmp/models/seg_unet_resnet_34_{}.pt'.format(device))"
   ]
  },
  {
   "cell_type": "code",
   "execution_count": 13,
   "metadata": {},
   "outputs": [],
   "source": [
    "import sys\n",
    "sys.path.append('/home/martin/Dev/homography_imitation_learning')\n",
    "\n",
    "import os\n",
    "import torch\n",
    "from lightning_modules import DeepImageHomographyEstimationModuleBackbone\n",
    "\n",
    "from utils import load_yaml\n",
    "\n",
    "device = 'cpu' # 'cpu' for cpu exection\n",
    "\n",
    "# load model with default values\n",
    "prefix = '/home/martin/Tresors/homography_imitation_learning_logs/ae_cai/resnet/48/25/34'\n",
    "checkpoint_prefix = 'version_0'\n",
    "checkpoint = 'checkpoints/epoch=99-step=47199.ckpt'\n",
    "\n",
    "config = load_yaml(os.path.join(prefix, checkpoint_prefix, 'config.yml'))\n",
    "\n",
    "model = DeepImageHomographyEstimationModuleBackbone(**config['model'])\n",
    "model = model.load_from_checkpoint(os.path.join(prefix, checkpoint_prefix, checkpoint), **config['model'])\n",
    "model = model.to(device)\n",
    "\n",
    "script = model.to_torchscript(method='trace', example_inputs=[torch.rand([1,3,320,480]), torch.rand([1,3,320,480])])\n",
    "torch.jit.save(script, '/tmp/models/h_est_resnet_34_{}.pt'.format(device))"
   ]
  },
  {
   "cell_type": "code",
   "execution_count": null,
   "metadata": {},
   "outputs": [],
   "source": []
  }
 ],
 "metadata": {
  "interpreter": {
   "hash": "de43f3610355f051a4a7d1ec68e5cd39983800d0bb5000cb4a591287222bab46"
  },
  "kernelspec": {
   "display_name": "Python 3.9.7 64-bit ('torch110': conda)",
   "language": "python",
   "name": "python3"
  },
  "language_info": {
   "codemirror_mode": {
    "name": "ipython",
    "version": 3
   },
   "file_extension": ".py",
   "mimetype": "text/x-python",
   "name": "python",
   "nbconvert_exporter": "python",
   "pygments_lexer": "ipython3",
   "version": "3.9.7"
  },
  "orig_nbformat": 4
 },
 "nbformat": 4,
 "nbformat_minor": 2
}
