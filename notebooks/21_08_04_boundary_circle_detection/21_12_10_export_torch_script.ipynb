{
 "cells": [
  {
   "cell_type": "markdown",
   "metadata": {},
   "source": [
    "# Export Deepseg"
   ]
  },
  {
   "attachments": {},
   "cell_type": "markdown",
   "metadata": {},
   "source": [
    "## Export Bounding Circle Detection"
   ]
  },
  {
   "cell_type": "code",
   "execution_count": null,
   "metadata": {},
   "outputs": [],
   "source": [
    "import sys\n",
    "sys.path.append('/home/martin/Dev/homography_imitation_learning')\n",
    "\n",
    "import os\n",
    "import torch\n",
    "from lightning_modules import ImageSegmentationModule\n",
    "\n",
    "from utils import load_yaml, generate_path\n",
    "\n",
    "devices = ['cpu', 'cuda']\n",
    "output_path = '/tmp/models'\n",
    "generate_path(output_path)\n",
    "for device in devices:\n",
    "    # load model with default values\n",
    "    # prefix = '/home/martin/Tresors/homography_imitation_learning_logs/boundary_image_segmentation/unet/resnet/34/tiny'\n",
    "    # checkpoint_prefix = 'version_5'\n",
    "    # checkpoint = 'checkpoints/epoch=374-step=1499.ckpt'\n",
    "    prefix = '/home/martin/Tresors/homography_imitation_learning_logs/boundary_image_segmentation/unet/resnet/34'\n",
    "    checkpoint_prefix = 'version_4'\n",
    "    checkpoint = 'checkpoints/epoch=288-step=2311.ckpt'\n",
    "\n",
    "    config = load_yaml(os.path.join(prefix, checkpoint_prefix, 'config.yml'))\n",
    "\n",
    "    model = ImageSegmentationModule.load_from_checkpoint(os.path.join(prefix, checkpoint_prefix, checkpoint), **config['model'])\n",
    "    model = model.to(device)\n",
    "\n",
    "    script = model.to_torchscript(method='trace', example_inputs=torch.rand([1,3,240,320]))\n",
    "    script = torch.jit.optimize_for_inference(script)\n",
    "    # torch.jit.save(script, f'{output_path}/seg_unet_resnet_34_{device}_tiny.pt')\n",
    "    torch.jit.save(script, f'{output_path}/seg_unet_resnet_34_{device}.pt')"
   ]
  },
  {
   "attachments": {},
   "cell_type": "markdown",
   "metadata": {},
   "source": [
    "## Export Deep Homography Estimation"
   ]
  },
  {
   "cell_type": "code",
   "execution_count": null,
   "metadata": {},
   "outputs": [],
   "source": [
    "import sys\n",
    "sys.path.append('/home/martin/Dev/homography_imitation_learning')\n",
    "\n",
    "import os\n",
    "import torch\n",
    "from lightning_modules import DeepImageHomographyEstimationModuleBackbone\n",
    "\n",
    "from utils import load_yaml, generate_path\n",
    "\n",
    "devices = ['cpu', 'cuda']\n",
    "output_path = '/tmp/models'\n",
    "generate_path(output_path)\n",
    "for device in devices:\n",
    "    # load model with default values\n",
    "    prefix = '/home/martin/Tresors/homography_imitation_learning_logs/ae_cai/resnet/48/25/34'\n",
    "    checkpoint_prefix = 'version_0'\n",
    "    checkpoint = 'checkpoints/epoch=99-step=47199.ckpt'\n",
    "\n",
    "    config = load_yaml(os.path.join(prefix, checkpoint_prefix, 'config.yml'))\n",
    "\n",
    "    model = DeepImageHomographyEstimationModuleBackbone.load_from_checkpoint(os.path.join(prefix, checkpoint_prefix, checkpoint), **config['model'])\n",
    "    model = model.to(device)\n",
    "\n",
    "    script = model.to_torchscript(method='trace', example_inputs=[torch.rand([1,3,240,320]), torch.rand([1,3,240,320])])\n",
    "    script = torch.jit.optimize_for_inference(script)\n",
    "    torch.jit.save(script, f'{output_path}/h_est_48_resnet_34_{device}.pt')"
   ]
  },
  {
   "attachments": {},
   "cell_type": "markdown",
   "metadata": {},
   "source": [
    "## Export Homography Imitation"
   ]
  },
  {
   "cell_type": "code",
   "execution_count": null,
   "metadata": {},
   "outputs": [],
   "source": [
    "import sys\n",
    "sys.path.append('/home/martin/Dev/homography_imitation_learning')\n",
    "\n",
    "import os\n",
    "import torch\n",
    "from lightning_modules import FeatureLSTMModule\n",
    "\n",
    "from utils import load_yaml, generate_path\n",
    "\n",
    "devices = ['cpu', 'cuda']\n",
    "output_path = '/tmp/models'\n",
    "generate_path(output_path)\n",
    "for device in devices:\n",
    "    # load model with default values\n",
    "    prefix = '/home/martin/Tresors/homography_imitation_learning_logs/miccai/feature_lstm/phantom/resnet34/frame_increment_1/transforms'\n",
    "    checkpoint_prefix = 'version_0'\n",
    "    checkpoint = 'checkpoints/epoch=15-step=320.ckpt'\n",
    "\n",
    "    config = load_yaml(os.path.join(prefix, checkpoint_prefix, 'config.yml'))\n",
    "\n",
    "    model = FeatureLSTMModule.load_from_checkpoint(os.path.join(prefix, checkpoint_prefix, checkpoint), **config[\"model\"])\n",
    "    model = model.to(device)\n",
    "    model.freeze()\n",
    "\n",
    "    script = model.to_torchscript(method='trace', example_inputs=[torch.rand([1,1,3,240,320]), torch.rand([1,1,4,2]), torch.rand([1,1,4,2])])\n",
    "    script = torch.jit.optimize_for_inference(script)\n",
    "    torch.jit.save(script, f'{output_path}/h_pred_feature_lstm_{device}.pt')\n"
   ]
  },
  {
   "cell_type": "code",
   "execution_count": null,
   "metadata": {},
   "outputs": [],
   "source": []
  }
 ],
 "metadata": {
  "interpreter": {
   "hash": "de43f3610355f051a4a7d1ec68e5cd39983800d0bb5000cb4a591287222bab46"
  },
  "kernelspec": {
   "display_name": "Python 3 (ipykernel)",
   "language": "python",
   "name": "python3"
  },
  "language_info": {
   "codemirror_mode": {
    "name": "ipython",
    "version": 3
   },
   "file_extension": ".py",
   "mimetype": "text/x-python",
   "name": "python",
   "nbconvert_exporter": "python",
   "pygments_lexer": "ipython3",
   "version": "3.9.15"
  }
 },
 "nbformat": 4,
 "nbformat_minor": 2
}
