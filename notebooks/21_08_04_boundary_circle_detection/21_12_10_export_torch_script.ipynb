{
 "cells": [
  {
   "attachments": {},
   "cell_type": "markdown",
   "metadata": {},
   "source": [
    "# Export Models"
   ]
  },
  {
   "cell_type": "code",
   "execution_count": null,
   "metadata": {},
   "outputs": [],
   "source": [
    "import sys\n",
    "\n",
    "sys.path.append(\"/home/martin/Dev/homography_imitation_learning\")\n",
    "\n",
    "import torch\n",
    "import os\n",
    "import importlib\n",
    "from typing import List\n",
    "from utils import load_yaml, generate_path\n",
    "\n",
    "\n",
    "def export_pipeline(\n",
    "    devices: List[str],\n",
    "    name: str,\n",
    "    package: str,\n",
    "    prefix: str,\n",
    "    checkpoint_prefix: str,\n",
    "    checkpoint: str,\n",
    "    output_path: str,\n",
    "    output_name: str,\n",
    "    example_inputs: List[torch.Tensor],\n",
    ") -> None:\n",
    "    generate_path(output_path)\n",
    "\n",
    "    config = load_yaml(os.path.join(prefix, checkpoint_prefix, \"config.yml\"))\n",
    "    model = getattr(importlib.import_module(package), name).load_from_checkpoint(\n",
    "        os.path.join(prefix, checkpoint_prefix, checkpoint), **config[\"model\"]\n",
    "    )\n",
    "\n",
    "    for device in devices:\n",
    "        model = model.to(device)\n",
    "        model.freeze()\n",
    "\n",
    "        script = model.to_torchscript(method=\"trace\", example_inputs=example_inputs)\n",
    "        script = torch.jit.freeze(script)\n",
    "        torch.jit.save(script, f\"{output_path}/{output_name}_{device}.pt\")"
   ]
  },
  {
   "attachments": {},
   "cell_type": "markdown",
   "metadata": {},
   "source": [
    "## Export Bounding Circle Detection"
   ]
  },
  {
   "attachments": {},
   "cell_type": "markdown",
   "metadata": {},
   "source": [
    "### Big Model"
   ]
  },
  {
   "cell_type": "code",
   "execution_count": null,
   "metadata": {},
   "outputs": [],
   "source": [
    "export_pipeline(\n",
    "    devices=[\"cpu\", \"cuda\"],\n",
    "    name=\"ImageSegmentationModule\",\n",
    "    package=\"lightning_modules\",\n",
    "    prefix=\"/home/martin/Tresors/homography_imitation_learning_logs/boundary_image_segmentation/unet/resnet/34\",\n",
    "    checkpoint_prefix=\"version_4\",\n",
    "    checkpoint=\"checkpoints/epoch=288-step=2311.ckpt\",\n",
    "    output_path=\"/tmp/models\",\n",
    "    output_name=\"seg_unet_resnet_34\",\n",
    "    example_inputs=[torch.rand([1, 3, 240, 320])],\n",
    ")"
   ]
  },
  {
   "attachments": {},
   "cell_type": "markdown",
   "metadata": {},
   "source": [
    "### Tiny Model"
   ]
  },
  {
   "cell_type": "code",
   "execution_count": null,
   "metadata": {},
   "outputs": [],
   "source": [
    "export_pipeline(\n",
    "    devices=[\"cpu\", \"cuda\"],\n",
    "    name=\"ImageSegmentationModule\",\n",
    "    package=\"lightning_modules\",\n",
    "    prefix=\"/home/martin/Tresors/homography_imitation_learning_logs/boundary_image_segmentation/unet/resnet/34/tiny\",\n",
    "    checkpoint_prefix=\"version_5\",\n",
    "    checkpoint=\"checkpoints/epoch=374-step=1499.ckpt\",\n",
    "    output_path=\"/tmp/models\",\n",
    "    output_name=\"seg_unet_resnet_34_tiny\",\n",
    "    example_inputs=[torch.rand([1, 3, 240, 320])],\n",
    ")"
   ]
  },
  {
   "attachments": {},
   "cell_type": "markdown",
   "metadata": {},
   "source": [
    "## Export Deep Homography Estimation"
   ]
  },
  {
   "attachments": {},
   "cell_type": "markdown",
   "metadata": {},
   "source": [
    "### 48 Pixel Augmentation"
   ]
  },
  {
   "cell_type": "code",
   "execution_count": null,
   "metadata": {},
   "outputs": [],
   "source": [
    "export_pipeline(\n",
    "    devices=[\"cpu\", \"cuda\"],\n",
    "    name=\"DeepImageHomographyEstimationModuleBackbone\",\n",
    "    package=\"lightning_modules\",\n",
    "    prefix=\"/home/martin/Tresors/homography_imitation_learning_logs/ae_cai/resnet/48/25/34\",\n",
    "    checkpoint_prefix=\"version_0\",\n",
    "    checkpoint=\"checkpoints/epoch=99-step=47199.ckpt\",\n",
    "    output_path=\"/tmp/models\",\n",
    "    output_name=\"h_est_48_resnet_34\",\n",
    "    example_inputs=[torch.rand([1, 3, 240, 320]), torch.rand([1, 3, 240, 320])],\n",
    ")"
   ]
  },
  {
   "attachments": {},
   "cell_type": "markdown",
   "metadata": {},
   "source": [
    "### 64 Pixel Augmentation"
   ]
  },
  {
   "cell_type": "code",
   "execution_count": null,
   "metadata": {},
   "outputs": [],
   "source": [
    "export_pipeline(\n",
    "    devices=[\"cpu\", \"cuda\"],\n",
    "    name=\"DeepImageHomographyEstimationModuleBackbone\",\n",
    "    package=\"lightning_modules\",\n",
    "    prefix=\"/home/martin/Tresors/homography_imitation_learning_logs/ae_cai/resnet/64/25/34\",\n",
    "    checkpoint_prefix=\"version_0\",\n",
    "    checkpoint=\"checkpoints/epoch=99-step=47199.ckpt\",\n",
    "    output_path=\"/tmp/models\",\n",
    "    output_name=\"h_est_64_resnet_34\",\n",
    "    example_inputs=[torch.rand([1, 3, 240, 320]), torch.rand([1, 3, 240, 320])],\n",
    ")"
   ]
  },
  {
   "attachments": {},
   "cell_type": "markdown",
   "metadata": {},
   "source": [
    "## Export Homography Imitation"
   ]
  },
  {
   "attachments": {},
   "cell_type": "markdown",
   "metadata": {},
   "source": [
    "### Incremental Feature LSTM"
   ]
  },
  {
   "cell_type": "code",
   "execution_count": null,
   "metadata": {},
   "outputs": [],
   "source": [
    "prefix = \"/home/martin/Tresors/homography_imitation_learning_logs/miccai/feature_lstm/phantom/resnet34/pairwise_distance\"\n",
    "checkpoint_prefix = \"version_0\"\n",
    "checkpoint = \"checkpoints/epoch=25-step=104.ckpt\"\n",
    "\n",
    "config = load_yaml(os.path.join(prefix, checkpoint_prefix, \"config.yml\"))\n",
    "hidden_features = config[\"model\"][\"lstm\"][\"kwargs\"][\"hidden_size\"]\n",
    "\n",
    "export_pipeline(\n",
    "    devices=[\"cpu\", \"cuda\"],\n",
    "    name=\"FeatureLSTMIncrementalModule\",\n",
    "    package=\"lightning_modules\",\n",
    "    prefix=prefix,\n",
    "    checkpoint_prefix=checkpoint_prefix,\n",
    "    checkpoint=checkpoint,\n",
    "    output_path=\"/tmp/models\",\n",
    "    output_name=f\"h_pred_{hidden_features}_feature_lstm_incremental\",\n",
    "    example_inputs=[\n",
    "        torch.rand([1, 1, 3, 240, 320]),\n",
    "        torch.rand([1, 1, 4, 2]),\n",
    "        torch.rand([1, 1, 4, 2]),\n",
    "        (torch.zeros([1, 1, hidden_features]), torch.zeros(1, 1, hidden_features)),\n",
    "    ],\n",
    ")"
   ]
  },
  {
   "attachments": {},
   "cell_type": "markdown",
   "metadata": {},
   "source": [
    "### Feature LSTM"
   ]
  },
  {
   "cell_type": "code",
   "execution_count": null,
   "metadata": {},
   "outputs": [],
   "source": [
    "prefix = \"/home/martin/Tresors/homography_imitation_learning_logs/miccai/feature_lstm/cholec80/resnet34/no_motion_prior/pairwise_distance\"\n",
    "checkpoint_prefix = \"version_0\"\n",
    "checkpoint = \"checkpoints/epoch=41-step=12264.ckpt\"\n",
    "\n",
    "config = load_yaml(os.path.join(prefix, checkpoint_prefix, \"config.yml\"))\n",
    "hidden_features = config[\"model\"][\"lstm\"][\"kwargs\"][\"hidden_size\"]\n",
    "\n",
    "export_pipeline(\n",
    "    devices=[\"cpu\", \"cuda\"],\n",
    "    name=\"FeatureLSTMModule\",\n",
    "    package=\"lightning_modules\",\n",
    "    prefix=prefix,\n",
    "    checkpoint_prefix=checkpoint_prefix,\n",
    "    checkpoint=checkpoint,\n",
    "    output_path=\"/tmp/models\",\n",
    "    output_name=f\"h_pred_{hidden_features}_feature_lstm\",\n",
    "    example_inputs=[\n",
    "        torch.rand([1, 1, 3, 240, 320]),\n",
    "        (torch.zeros([1, 1, hidden_features]), torch.zeros(1, 1, hidden_features)),\n",
    "    ],\n",
    ")"
   ]
  },
  {
   "attachments": {},
   "cell_type": "markdown",
   "metadata": {},
   "source": [
    "### ResNet 34"
   ]
  },
  {
   "cell_type": "code",
   "execution_count": null,
   "metadata": {},
   "outputs": [],
   "source": [
    "prefix = \"/home/martin/Tresors/homography_imitation_learning_logs/miccai/conv_homography_predictor/phantom/resnet34\"\n",
    "checkpoint_prefix = \"version_0\"\n",
    "checkpoint = \"checkpoints/epoch=497-step=3486.ckpt\"\n",
    "\n",
    "config = load_yaml(os.path.join(prefix, checkpoint_prefix, \"config.yml\"))\n",
    "in_channels = config[\"model\"][\"predictor\"][\"kwargs\"][\"in_channels\"]\n",
    "\n",
    "export_pipeline(\n",
    "    devices=[\"cpu\", \"cuda\"],\n",
    "    name=\"ConvHomographyPredictorModule\",\n",
    "    package=\"lightning_modules\",\n",
    "    prefix=prefix,\n",
    "    checkpoint_prefix=checkpoint_prefix,\n",
    "    checkpoint=checkpoint,\n",
    "    output_path=\"/tmp/models\",\n",
    "    output_name=f\"h_pred_resnet_34_in_channels_{in_channels}\",\n",
    "    example_inputs=[\n",
    "        torch.rand([1, in_channels, 240, 320]),\n",
    "    ],\n",
    ")"
   ]
  },
  {
   "attachments": {},
   "cell_type": "markdown",
   "metadata": {},
   "source": [
    "### ResNet 50"
   ]
  },
  {
   "cell_type": "code",
   "execution_count": null,
   "metadata": {},
   "outputs": [],
   "source": [
    "prefix = \"/home/martin/Tresors/homography_imitation_learning_logs/miccai/conv_homography_predictor/phantom/resnet50\"\n",
    "checkpoint_prefix = \"version_0\"\n",
    "checkpoint = \"checkpoints/epoch=492-step=3451.ckpt\"\n",
    "\n",
    "config = load_yaml(os.path.join(prefix, checkpoint_prefix, \"config.yml\"))\n",
    "in_channels = config[\"model\"][\"predictor\"][\"kwargs\"][\"in_channels\"]\n",
    "\n",
    "export_pipeline(\n",
    "    devices=[\"cpu\", \"cuda\"],\n",
    "    name=\"ConvHomographyPredictorModule\",\n",
    "    package=\"lightning_modules\",\n",
    "    prefix=prefix,\n",
    "    checkpoint_prefix=checkpoint_prefix,\n",
    "    checkpoint=checkpoint,\n",
    "    output_path=\"/tmp/models\",\n",
    "    output_name=f\"h_pred_resnet_50_in_channels_{in_channels}\",\n",
    "    example_inputs=[\n",
    "        torch.rand([1, in_channels, 240, 320]),\n",
    "    ],\n",
    ")"
   ]
  }
 ],
 "metadata": {
  "interpreter": {
   "hash": "de43f3610355f051a4a7d1ec68e5cd39983800d0bb5000cb4a591287222bab46"
  },
  "kernelspec": {
   "display_name": "Python 3 (ipykernel)",
   "language": "python",
   "name": "python3"
  },
  "language_info": {
   "codemirror_mode": {
    "name": "ipython",
    "version": 3
   },
   "file_extension": ".py",
   "mimetype": "text/x-python",
   "name": "python",
   "nbconvert_exporter": "python",
   "pygments_lexer": "ipython3",
   "version": "3.9.16 (main, Jan 11 2023, 16:05:54) \n[GCC 11.2.0]"
  }
 },
 "nbformat": 4,
 "nbformat_minor": 2
}
