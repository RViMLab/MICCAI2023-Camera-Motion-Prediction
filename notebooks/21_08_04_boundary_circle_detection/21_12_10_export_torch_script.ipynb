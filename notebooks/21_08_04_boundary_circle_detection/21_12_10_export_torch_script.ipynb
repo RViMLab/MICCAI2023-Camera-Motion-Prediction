{
 "cells": [
  {
   "cell_type": "markdown",
   "metadata": {},
   "source": [
    "# Export Deepseg"
   ]
  },
  {
   "cell_type": "code",
   "execution_count": 2,
   "metadata": {},
   "outputs": [
    {
     "name": "stderr",
     "output_type": "stream",
     "text": [
      "/home/martin/miniconda3/envs/torch110/lib/python3.9/site-packages/torch/_jit_internal.py:668: LightningDeprecationWarning: The `LightningModule.loaded_optimizer_states_dict` property is deprecated in v1.4 and will be removed in v1.6.\n",
      "  if hasattr(mod, name):\n",
      "/home/martin/miniconda3/envs/torch110/lib/python3.9/site-packages/kornia/geometry/transform/affwarp.py:575: TracerWarning: Converting a tensor to a Python boolean might cause the trace to be incorrect. We can't record the data flow of Python values, so this value will be treated as a constant in the future. This means that the trace might not generalize to other inputs!\n",
      "  if size == input_size:\n"
     ]
    }
   ],
   "source": [
    "import sys\n",
    "sys.path.append('/home/martin/Dev/homography_imitation_learning')\n",
    "\n",
    "import os\n",
    "import torch\n",
    "from lightning_modules import ImageSegmentationModule\n",
    "\n",
    "from utils import load_yaml\n",
    "\n",
    "device = 'cuda' # 'cpu' for cpu exection\n",
    "\n",
    "# load model with default values\n",
    "prefix = '/home/martin/Tresors/homography_imitation_learning_logs/boundary_image_segmentation/unet/resnet/34/tiny'\n",
    "checkpoint_prefix = 'version_5'\n",
    "checkpoint = 'checkpoints/epoch=374-step=1499.ckpt'\n",
    "\n",
    "config = load_yaml(os.path.join(prefix, checkpoint_prefix, 'config.yml'))\n",
    "\n",
    "model = ImageSegmentationModule(**config['model'])\n",
    "model = model.load_from_checkpoint(os.path.join(prefix, checkpoint_prefix, checkpoint), **config['model'])\n",
    "model = model.to(device)\n",
    "\n",
    "script = model.to_torchscript(method='trace', example_inputs=torch.rand([1,3,320,480]))\n",
    "torch.jit.save(script, '/tmp/models/seg_unet_resnet_34_tiny.pt')"
   ]
  },
  {
   "cell_type": "code",
   "execution_count": null,
   "metadata": {},
   "outputs": [],
   "source": []
  }
 ],
 "metadata": {
  "interpreter": {
   "hash": "de43f3610355f051a4a7d1ec68e5cd39983800d0bb5000cb4a591287222bab46"
  },
  "kernelspec": {
   "display_name": "Python 3.9.7 64-bit ('torch110': conda)",
   "language": "python",
   "name": "python3"
  },
  "language_info": {
   "codemirror_mode": {
    "name": "ipython",
    "version": 3
   },
   "file_extension": ".py",
   "mimetype": "text/x-python",
   "name": "python",
   "nbconvert_exporter": "python",
   "pygments_lexer": "ipython3",
   "version": "3.9.7"
  },
  "orig_nbformat": 4
 },
 "nbformat": 4,
 "nbformat_minor": 2
}
