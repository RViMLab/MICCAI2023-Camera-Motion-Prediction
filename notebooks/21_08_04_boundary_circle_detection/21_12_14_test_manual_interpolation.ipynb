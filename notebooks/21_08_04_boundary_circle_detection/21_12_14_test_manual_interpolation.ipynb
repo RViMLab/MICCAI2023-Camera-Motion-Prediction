{
 "cells": [
  {
   "cell_type": "markdown",
   "metadata": {},
   "source": [
    "# 1D Data"
   ]
  },
  {
   "cell_type": "code",
   "execution_count": 2,
   "metadata": {},
   "outputs": [
    {
     "name": "stdout",
     "output_type": "stream",
     "text": [
      "pre interpolation:\n",
      "    frame      test  radius\n",
      "0       0       NaN     NaN\n",
      "1       1    [1, 2]     NaN\n",
      "2       2       NaN     3.0\n",
      "3       3       NaN     2.0\n",
      "4       4  [1, 100]     2.0\n",
      "5       5       NaN     2.0\n",
      "6       6       NaN     NaN\n",
      "7       7       NaN     NaN\n",
      "8       8       NaN     NaN\n",
      "9       9       NaN     2.0\n",
      "10     10    [2, 2]     1.0\n",
      "post interpolation:\n",
      "    frame      test  radius\n",
      "0       0       NaN     3.0\n",
      "1       1    [1, 2]     3.0\n",
      "2       2       NaN     3.0\n",
      "3       3       NaN     2.0\n",
      "4       4  [1, 100]     2.0\n",
      "5       5       NaN     2.0\n",
      "6       6       NaN     2.0\n",
      "7       7       NaN     2.0\n",
      "8       8       NaN     2.0\n",
      "9       9       NaN     2.0\n",
      "10     10    [2, 2]     1.0\n"
     ]
    }
   ],
   "source": [
    "import pandas as pd\n",
    "import numpy as np\n",
    "from scipy.ndimage import uniform_filter\n",
    "from scipy.interpolate import interp2d, interp1d\n",
    "\n",
    "\n",
    "test = pd.DataFrame.from_dict({\n",
    "    'frame': [0,1,2,3,4,5,6,7,8,9,10],\n",
    "    'test': [\n",
    "        np.nan,\n",
    "        [1,2],\n",
    "        np.nan,\n",
    "        np.nan,\n",
    "        [1,100],\n",
    "        np.nan,\n",
    "        np.nan,\n",
    "        np.nan,\n",
    "        np.nan,\n",
    "        np.nan,\n",
    "        [2,2]\n",
    "    ],\n",
    "    'radius': [np.nan,np.nan,3.,2.,2.,2.,np.nan,np.nan,np.nan,2.,1.]\n",
    "})\n",
    "print(\"pre interpolation:\")\n",
    "print(test)\n",
    "\n",
    "# valid values\n",
    "valid = ~test.radius.isna().values\n",
    "\n",
    "# interpolation\n",
    "inter = np.interp(test.frame.values, test.frame[valid].values, test.radius[valid].values)\n",
    "\n",
    "# set\n",
    "test.radius = inter.tolist()\n",
    "\n",
    "# results\n",
    "print(\"post interpolation:\")\n",
    "print(test)\n",
    "\n",
    "\n"
   ]
  },
  {
   "cell_type": "markdown",
   "metadata": {},
   "source": [
    "# 2D Data"
   ]
  },
  {
   "cell_type": "code",
   "execution_count": 202,
   "metadata": {},
   "outputs": [
    {
     "name": "stdout",
     "output_type": "stream",
     "text": [
      "    frame                                      test  radius  radius_rolling\n",
      "0       0                                [1.0, 2.0]     1.0             1.0\n",
      "1       1                                [1.0, 2.0]     2.0             1.5\n",
      "2       2                 [1.0, 34.666666666666664]     3.0             2.5\n",
      "3       3                  [1.0, 67.33333333333333]     2.0             2.5\n",
      "4       4                              [1.0, 100.0]     2.0             2.0\n",
      "5       5   [1.1666666666666667, 83.66666666666667]     2.0             2.0\n",
      "6       6   [1.3333333333333333, 67.33333333333334]     1.0             1.5\n",
      "7       7                               [1.5, 51.0]     2.0             1.5\n",
      "8       8   [1.6666666666666665, 34.66666666666667]     2.0             2.0\n",
      "9       9  [1.8333333333333333, 18.333333333333343]     2.0             2.0\n",
      "10     10                                [2.0, 2.0]     1.0             1.5\n"
     ]
    },
    {
     "data": {
      "image/png": "[encoded data removed]",
      "text/plain": [
       "<Figure size 432x288 with 1 Axes>"
      ]
     },
     "metadata": {
      "needs_background": "light"
     },
     "output_type": "display_data"
    }
   ],
   "source": [
    "import pandas as pd\n",
    "import numpy as np\n",
    "from scipy.ndimage import uniform_filter\n",
    "from scipy.interpolate import interp2d, interp1d\n",
    "\n",
    "\n",
    "test = pd.DataFrame.from_dict({\n",
    "    'frame': [0,1,2,3,4,5,6,7,8,9,10],\n",
    "    'test': [\n",
    "        np.nan,\n",
    "        [1,2],\n",
    "        np.nan,\n",
    "        np.nan,\n",
    "        [1,100],\n",
    "        np.nan,\n",
    "        np.nan,\n",
    "        np.nan,\n",
    "        np.nan,\n",
    "        np.nan,\n",
    "        [2,2]\n",
    "    ],\n",
    "    'radius': [1.,2.,3.,2.,2.,2.,1.,2.,2.,2.,1.]\n",
    "})\n",
    "\n",
    "test['radius_rolling'] = uniform_filter(test.radius.to_numpy(), size=(2)).tolist()\n",
    "\n",
    "# valid values\n",
    "valid = ~test.test.isna().values\n",
    "\n",
    "# nan nan\n",
    "test.test = test.test.apply(lambda x: np.array(x) if x is not np.nan else np.full(2, np.nan))\n",
    "\n",
    "# interpolation\n",
    "values = np.stack(test.test)\n",
    "\n",
    "inter = np.stack([\n",
    "    np.interp(test.frame.values, test.frame[valid].values, values[valid][:,0]),\n",
    "    np.interp(test.frame.values, test.frame[valid].values, values[valid][:,1])\n",
    "], axis=-1)\n",
    "\n",
    "# set\n",
    "test.test = inter.tolist()\n",
    "\n",
    "# results\n",
    "print(test)\n"
   ]
  },
  {
   "cell_type": "code",
   "execution_count": 210,
   "metadata": {},
   "outputs": [
    {
     "name": "stdout",
     "output_type": "stream",
     "text": [
      "True\n",
      "False\n",
      "True\n"
     ]
    }
   ],
   "source": [
    "a = np.full(2, np.nan)\n",
    "b = np.full(2, 3)\n",
    "c = np.nan\n",
    "\n",
    "print(np.isnan(a).any())\n",
    "print(np.isnan(b).any())\n",
    "print(np.isnan(c).any())"
   ]
  },
  {
   "cell_type": "code",
   "execution_count": null,
   "metadata": {},
   "outputs": [],
   "source": []
  }
 ],
 "metadata": {
  "interpreter": {
   "hash": "de43f3610355f051a4a7d1ec68e5cd39983800d0bb5000cb4a591287222bab46"
  },
  "kernelspec": {
   "display_name": "Python 3.9.7 64-bit ('torch110': conda)",
   "language": "python",
   "name": "python3"
  },
  "language_info": {
   "codemirror_mode": {
    "name": "ipython",
    "version": 3
   },
   "file_extension": ".py",
   "mimetype": "text/x-python",
   "name": "python",
   "nbconvert_exporter": "python",
   "pygments_lexer": "ipython3",
   "version": "3.9.7"
  },
  "orig_nbformat": 4
 },
 "nbformat": 4,
 "nbformat_minor": 2
}
