{
 "metadata": {
  "language_info": {
   "codemirror_mode": {
    "name": "ipython",
    "version": 3
   },
   "file_extension": ".py",
   "mimetype": "text/x-python",
   "name": "python",
   "nbconvert_exporter": "python",
   "pygments_lexer": "ipython3",
   "version": "3.7.6-final"
  },
  "orig_nbformat": 2,
  "kernelspec": {
   "name": "vs",
   "display_name": "vs"
  }
 },
 "nbformat": 4,
 "nbformat_minor": 2,
 "cells": [
  {
   "cell_type": "code",
   "execution_count": 2,
   "metadata": {},
   "outputs": [],
   "source": [
    "import os\n",
    "import cv2\n",
    "import pandas as pd\n",
    "import sys\n",
    "\n",
    "sys.path.append('../')"
   ]
  },
  {
   "cell_type": "code",
   "execution_count": 5,
   "metadata": {},
   "outputs": [
    {
     "output_type": "execute_result",
     "data": {
      "text/plain": [
       "                file           path vid_idx frame_idx  \\\n",
       "0        frame_0.png  train/video01       0         0   \n",
       "1        frame_1.png  train/video01       0         1   \n",
       "2        frame_2.png  train/video01       0         2   \n",
       "3        frame_3.png  train/video01       0         3   \n",
       "4        frame_4.png  train/video01       0         4   \n",
       "...              ...            ...     ...       ...   \n",
       "1995  frame_1995.png  train/video01       0      1995   \n",
       "1996  frame_1996.png  train/video01       0      1996   \n",
       "1997  frame_1997.png  train/video01       0      1997   \n",
       "1998  frame_1998.png  train/video01       0      1998   \n",
       "1999  frame_1999.png  train/video01       0      1999   \n",
       "\n",
       "                                 database  \n",
       "0     {'name': 'cholec80', 'test': False}  \n",
       "1     {'name': 'cholec80', 'test': False}  \n",
       "2     {'name': 'cholec80', 'test': False}  \n",
       "3     {'name': 'cholec80', 'test': False}  \n",
       "4     {'name': 'cholec80', 'test': False}  \n",
       "...                                   ...  \n",
       "1995  {'name': 'cholec80', 'test': False}  \n",
       "1996  {'name': 'cholec80', 'test': False}  \n",
       "1997  {'name': 'cholec80', 'test': False}  \n",
       "1998  {'name': 'cholec80', 'test': False}  \n",
       "1999  {'name': 'cholec80', 'test': False}  \n",
       "\n",
       "[2000 rows x 5 columns]"
      ],
      "text/html": "<div>\n<style scoped>\n    .dataframe tbody tr th:only-of-type {\n        vertical-align: middle;\n    }\n\n    .dataframe tbody tr th {\n        vertical-align: top;\n    }\n\n    .dataframe thead th {\n        text-align: right;\n    }\n</style>\n<table border=\"1\" class=\"dataframe\">\n  <thead>\n    <tr style=\"text-align: right;\">\n      <th></th>\n      <th>file</th>\n      <th>path</th>\n      <th>vid_idx</th>\n      <th>frame_idx</th>\n      <th>database</th>\n    </tr>\n  </thead>\n  <tbody>\n    <tr>\n      <th>0</th>\n      <td>frame_0.png</td>\n      <td>train/video01</td>\n      <td>0</td>\n      <td>0</td>\n      <td>{'name': 'cholec80', 'test': False}</td>\n    </tr>\n    <tr>\n      <th>1</th>\n      <td>frame_1.png</td>\n      <td>train/video01</td>\n      <td>0</td>\n      <td>1</td>\n      <td>{'name': 'cholec80', 'test': False}</td>\n    </tr>\n    <tr>\n      <th>2</th>\n      <td>frame_2.png</td>\n      <td>train/video01</td>\n      <td>0</td>\n      <td>2</td>\n      <td>{'name': 'cholec80', 'test': False}</td>\n    </tr>\n    <tr>\n      <th>3</th>\n      <td>frame_3.png</td>\n      <td>train/video01</td>\n      <td>0</td>\n      <td>3</td>\n      <td>{'name': 'cholec80', 'test': False}</td>\n    </tr>\n    <tr>\n      <th>4</th>\n      <td>frame_4.png</td>\n      <td>train/video01</td>\n      <td>0</td>\n      <td>4</td>\n      <td>{'name': 'cholec80', 'test': False}</td>\n    </tr>\n    <tr>\n      <th>...</th>\n      <td>...</td>\n      <td>...</td>\n      <td>...</td>\n      <td>...</td>\n      <td>...</td>\n    </tr>\n    <tr>\n      <th>1995</th>\n      <td>frame_1995.png</td>\n      <td>train/video01</td>\n      <td>0</td>\n      <td>1995</td>\n      <td>{'name': 'cholec80', 'test': False}</td>\n    </tr>\n    <tr>\n      <th>1996</th>\n      <td>frame_1996.png</td>\n      <td>train/video01</td>\n      <td>0</td>\n      <td>1996</td>\n      <td>{'name': 'cholec80', 'test': False}</td>\n    </tr>\n    <tr>\n      <th>1997</th>\n      <td>frame_1997.png</td>\n      <td>train/video01</td>\n      <td>0</td>\n      <td>1997</td>\n      <td>{'name': 'cholec80', 'test': False}</td>\n    </tr>\n    <tr>\n      <th>1998</th>\n      <td>frame_1998.png</td>\n      <td>train/video01</td>\n      <td>0</td>\n      <td>1998</td>\n      <td>{'name': 'cholec80', 'test': False}</td>\n    </tr>\n    <tr>\n      <th>1999</th>\n      <td>frame_1999.png</td>\n      <td>train/video01</td>\n      <td>0</td>\n      <td>1999</td>\n      <td>{'name': 'cholec80', 'test': False}</td>\n    </tr>\n  </tbody>\n</table>\n<p>2000 rows × 5 columns</p>\n</div>"
     },
     "metadata": {},
     "execution_count": 5
    }
   ],
   "source": [
    "# prefix = '/media/martin/Samsung_T5/data/endoscopic_data/camera_motion_separated_png/without_camera_motion'\n",
    "# prefix = '/media/martin/Samsung_T5/data/endoscopic_data/camera_motion_separated_png/with_camera_motion'\n",
    "prefix = '/media/martin/Samsung_T5/data/endoscopic_data/tmp'\n",
    "\n",
    "# df = pd.read_pickle(os.path.join(prefix, 'log_without_camera_motion.pkl'))\n",
    "# df = pd.read_pickle(os.path.join(prefix, 'log_with_camera_motion.pkl'))\n",
    "df = pd.read_pickle(os.path.join(prefix, 'cholec80.pkl'))\n",
    "df"
   ]
  },
  {
   "cell_type": "code",
   "execution_count": 6,
   "metadata": {
    "tags": []
   },
   "outputs": [
    {
     "output_type": "stream",
     "name": "stdout",
     "text": [
      "1999/2000"
     ]
    },
    {
     "output_type": "execute_result",
     "data": {
      "text/plain": [
       "                              file_seq           path vid_idx    frame_idcs  \\\n",
       "0           [frame_0.png, frame_1.png]  train/video01       0        [0, 1]   \n",
       "1           [frame_1.png, frame_2.png]  train/video01       0        [1, 2]   \n",
       "2           [frame_2.png, frame_3.png]  train/video01       0        [2, 3]   \n",
       "3           [frame_3.png, frame_4.png]  train/video01       0        [3, 4]   \n",
       "4           [frame_4.png, frame_5.png]  train/video01       0        [4, 5]   \n",
       "...                                ...            ...     ...           ...   \n",
       "1994  [frame_1994.png, frame_1995.png]  train/video01       0  [1994, 1995]   \n",
       "1995  [frame_1995.png, frame_1996.png]  train/video01       0  [1995, 1996]   \n",
       "1996  [frame_1996.png, frame_1997.png]  train/video01       0  [1996, 1997]   \n",
       "1997  [frame_1997.png, frame_1998.png]  train/video01       0  [1997, 1998]   \n",
       "1998  [frame_1998.png, frame_1999.png]  train/video01       0  [1998, 1999]   \n",
       "\n",
       "                                 database  \n",
       "0     {'name': 'cholec80', 'test': False}  \n",
       "1     {'name': 'cholec80', 'test': False}  \n",
       "2     {'name': 'cholec80', 'test': False}  \n",
       "3     {'name': 'cholec80', 'test': False}  \n",
       "4     {'name': 'cholec80', 'test': False}  \n",
       "...                                   ...  \n",
       "1994  {'name': 'cholec80', 'test': False}  \n",
       "1995  {'name': 'cholec80', 'test': False}  \n",
       "1996  {'name': 'cholec80', 'test': False}  \n",
       "1997  {'name': 'cholec80', 'test': False}  \n",
       "1998  {'name': 'cholec80', 'test': False}  \n",
       "\n",
       "[1999 rows x 5 columns]"
      ],
      "text/html": "<div>\n<style scoped>\n    .dataframe tbody tr th:only-of-type {\n        vertical-align: middle;\n    }\n\n    .dataframe tbody tr th {\n        vertical-align: top;\n    }\n\n    .dataframe thead th {\n        text-align: right;\n    }\n</style>\n<table border=\"1\" class=\"dataframe\">\n  <thead>\n    <tr style=\"text-align: right;\">\n      <th></th>\n      <th>file_seq</th>\n      <th>path</th>\n      <th>vid_idx</th>\n      <th>frame_idcs</th>\n      <th>database</th>\n    </tr>\n  </thead>\n  <tbody>\n    <tr>\n      <th>0</th>\n      <td>[frame_0.png, frame_1.png]</td>\n      <td>train/video01</td>\n      <td>0</td>\n      <td>[0, 1]</td>\n      <td>{'name': 'cholec80', 'test': False}</td>\n    </tr>\n    <tr>\n      <th>1</th>\n      <td>[frame_1.png, frame_2.png]</td>\n      <td>train/video01</td>\n      <td>0</td>\n      <td>[1, 2]</td>\n      <td>{'name': 'cholec80', 'test': False}</td>\n    </tr>\n    <tr>\n      <th>2</th>\n      <td>[frame_2.png, frame_3.png]</td>\n      <td>train/video01</td>\n      <td>0</td>\n      <td>[2, 3]</td>\n      <td>{'name': 'cholec80', 'test': False}</td>\n    </tr>\n    <tr>\n      <th>3</th>\n      <td>[frame_3.png, frame_4.png]</td>\n      <td>train/video01</td>\n      <td>0</td>\n      <td>[3, 4]</td>\n      <td>{'name': 'cholec80', 'test': False}</td>\n    </tr>\n    <tr>\n      <th>4</th>\n      <td>[frame_4.png, frame_5.png]</td>\n      <td>train/video01</td>\n      <td>0</td>\n      <td>[4, 5]</td>\n      <td>{'name': 'cholec80', 'test': False}</td>\n    </tr>\n    <tr>\n      <th>...</th>\n      <td>...</td>\n      <td>...</td>\n      <td>...</td>\n      <td>...</td>\n      <td>...</td>\n    </tr>\n    <tr>\n      <th>1994</th>\n      <td>[frame_1994.png, frame_1995.png]</td>\n      <td>train/video01</td>\n      <td>0</td>\n      <td>[1994, 1995]</td>\n      <td>{'name': 'cholec80', 'test': False}</td>\n    </tr>\n    <tr>\n      <th>1995</th>\n      <td>[frame_1995.png, frame_1996.png]</td>\n      <td>train/video01</td>\n      <td>0</td>\n      <td>[1995, 1996]</td>\n      <td>{'name': 'cholec80', 'test': False}</td>\n    </tr>\n    <tr>\n      <th>1996</th>\n      <td>[frame_1996.png, frame_1997.png]</td>\n      <td>train/video01</td>\n      <td>0</td>\n      <td>[1996, 1997]</td>\n      <td>{'name': 'cholec80', 'test': False}</td>\n    </tr>\n    <tr>\n      <th>1997</th>\n      <td>[frame_1997.png, frame_1998.png]</td>\n      <td>train/video01</td>\n      <td>0</td>\n      <td>[1997, 1998]</td>\n      <td>{'name': 'cholec80', 'test': False}</td>\n    </tr>\n    <tr>\n      <th>1998</th>\n      <td>[frame_1998.png, frame_1999.png]</td>\n      <td>train/video01</td>\n      <td>0</td>\n      <td>[1998, 1999]</td>\n      <td>{'name': 'cholec80', 'test': False}</td>\n    </tr>\n  </tbody>\n</table>\n<p>1999 rows × 5 columns</p>\n</div>"
     },
     "metadata": {},
     "execution_count": 6
    }
   ],
   "source": [
    "df_out = pd.DataFrame(columns=['file_seq', 'path', 'vid_idx', 'frame_idcs', 'database'])\n",
    "\n",
    "seq_len = 2\n",
    "\n",
    "for idx, row in df.iterrows():\n",
    "    file_seq = []\n",
    "    frame_idcs = []\n",
    "\n",
    "    print('\\r{}/{}'.format(idx, len(df)), end='')\n",
    "\n",
    "    for i in range(seq_len):\n",
    "        if idx+i >= len(df):\n",
    "            break \n",
    "        if df.iloc[idx]['path'] != df.iloc[idx+i]['path']:\n",
    "            break\n",
    "        file_seq.append(df.iloc[idx+i]['file'])\n",
    "        frame_idcs.append(df.iloc[idx+i]['frame_idx'])\n",
    "\n",
    "    if len(file_seq) == seq_len:\n",
    "        df_out = df_out.append({\n",
    "            'file_seq': file_seq,\n",
    "            'path': row.path,\n",
    "            'vid_idx': row.vid_idx,\n",
    "            'frame_idcs': frame_idcs,\n",
    "            'database': row.database\n",
    "        }, ignore_index=True)\n",
    "\n",
    "# out_path = 'log_without_camera_motion_seq_len_{}'.format(seq_len)\n",
    "# out_path = 'log_with_camera_motion_seq_len_{}'.format(seq_len)\n",
    "out_path = 'cholec80_seq_len_{}'.format(seq_len)\n",
    "\n",
    "df_out.to_pickle(os.path.join(prefix, out_path + '.pkl'))\n",
    "df_out.to_csv(os.path.join(prefix, out_path + '.csv'))\n",
    "\n",
    "df_out"
   ]
  },
  {
   "cell_type": "code",
   "execution_count": 4,
   "metadata": {},
   "outputs": [],
   "source": [
    "from datasets import PandasHomographyDataset\n",
    "\n",
    "prefix = '/media/martin/Samsung_T5/data/endoscopic_data/camera_motion_separated_png/without_camera_motion'\n",
    "\n",
    "df = pd.read_pickle(os.path.join(prefix, 'log_without_camera_motion_seq_len_2.pkl'))\n",
    "\n",
    "pd = PandasHomographyDataset(df, prefix, 32, [480, 640])\n",
    "for imgs in pd:\n",
    "    cv2.imshow('img0', imgs['img_seq'][0])\n",
    "    cv2.imshow('img1', imgs['img_seq'][1])\n",
    "    cv2.waitKey() "
   ]
  },
  {
   "cell_type": "code",
   "execution_count": null,
   "metadata": {},
   "outputs": [],
   "source": []
  }
 ]
}