{
 "cells": [
  {
   "cell_type": "code",
   "execution_count": 1,
   "metadata": {},
   "outputs": [
    {
     "name": "stderr",
     "output_type": "stream",
     "text": [
      "/home/martin/miniconda3/envs/hil/lib/python3.7/site-packages/ipykernel/pylab/backend_inline.py:164: DeprecationWarning: `configure_inline_support` is deprecated since IPython 7.23, directly use `matplotlib_inline.backend_inline.configure_inline_support()`\n",
      "  configure_inline_support(ip, backend)\n",
      "/home/martin/miniconda3/envs/hil/lib/python3.7/site-packages/matplotlib_inline/config.py:66: DeprecationWarning: InlineBackend._figure_formats_changed is deprecated in traitlets 4.1: use @observe and @unobserve instead.\n",
      "  def _figure_formats_changed(self, name, old, new):\n",
      "/home/martin/miniconda3/envs/hil/lib/python3.7/site-packages/torch/cuda/__init__.py:52: UserWarning: CUDA initialization: CUDA driver initialization failed, you might not have a CUDA gpu. (Triggered internally at  /pytorch/c10/cuda/CUDAFunctions.cpp:115.)\n",
      "  return torch._C._cuda_getDeviceCount() > 0\n"
     ]
    }
   ],
   "source": [
    "import os\n",
    "import sys\n",
    "sys.path.append('..')\n",
    "\n",
    "import cv2\n",
    "import numpy as np\n",
    "import torch\n",
    "from kornia import image_to_tensor, tensor_to_image\n",
    "\n",
    "from utils.io import load_yaml\n",
    "from lightning_modules import DeepImageHomographyEstimationModuleBackbone\n",
    "\n",
    "endoscopic_view_model_prefix = '/home/martin/Tresors/homography_imitation_learning_logs/endoscopy_view/resnet/34/version_0'\n",
    "endoscopic_view_model = 'checkpoints/epoch=29-step=14159.ckpt'\n",
    "\n",
    "non_endoscopic_view_model_prefix = '/home/martin/Tresors/homography_imitation_learning_logs/ae_cai/resnet/48/25/34/version_0'\n",
    "non_endoscopic_view_model = 'checkpoints/epoch=99-step=47199.ckpt'\n",
    "\n",
    "endoscopic_view_configs = load_yaml(os.path.join(endoscopic_view_model_prefix, 'config.yml'))\n",
    "non_endoscopic_view_configs = load_yaml(os.path.join(non_endoscopic_view_model_prefix, 'config.yml'))\n",
    "\n",
    "endoscopic_view_model = DeepImageHomographyEstimationModuleBackbone.load_from_checkpoint(os.path.join(endoscopic_view_model_prefix, endoscopic_view_model), shape=endoscopic_view_configs['model']['shape'])\n",
    "non_endoscopic_view_model = DeepImageHomographyEstimationModuleBackbone.load_from_checkpoint(os.path.join(non_endoscopic_view_model_prefix, non_endoscopic_view_model), shape=non_endoscopic_view_configs['model']['shape'])\n",
    "\n",
    "\n",
    "device = 'cpu'\n",
    "if torch.cuda.is_available():\n",
    "    print('Running with CUDA backend.')\n",
    "    device = 'cuda'\n",
    "\n",
    "endoscopic_view_model.to(device)\n",
    "endoscopic_view_model = endoscopic_view_model.eval()\n",
    "endoscopic_view_model.freeze()\n",
    "\n",
    "non_endoscopic_view_model.to(device)\n",
    "non_endoscopic_view_model = non_endoscopic_view_model.eval()\n",
    "non_endoscopic_view_model.freeze()\n"
   ]
  },
  {
   "cell_type": "code",
   "execution_count": 2,
   "metadata": {},
   "outputs": [
    {
     "name": "stderr",
     "output_type": "stream",
     "text": [
      "/home/martin/miniconda3/envs/hil/lib/python3.7/site-packages/ipykernel/ipkernel.py:287: DeprecationWarning: `should_run_async` will not call `transform_cell` automatically in the future. Please pass the result to `transformed_cell` argument and any exception that happen during thetransform in `preprocessing_exc_tuple` in IPython 7.17 and above.\n",
      "  and should_run_async(code)\n",
      "/home/martin/miniconda3/envs/hil/lib/python3.7/site-packages/torch/nn/functional.py:3613: UserWarning: Default upsampling behavior when mode=bilinear is changed to align_corners=False since 0.4.0. Please specify align_corners=True if the old behavior is desired. See the documentation of nn.Upsample for details.\n",
      "  \"See the documentation of nn.Upsample for details.\".format(mode)\n",
      "/home/martin/miniconda3/envs/hil/lib/python3.7/site-packages/torch/nn/functional.py:718: UserWarning: Named tensors and all their associated APIs are an experimental feature and subject to change. Please do not use them for anything important until they are released as stable. (Triggered internally at  /pytorch/c10/core/TensorImpl.h:1156.)\n",
      "  return torch.max_pool2d(input, kernel_size, stride, padding, dilation, ceil_mode)\n"
     ]
    }
   ],
   "source": [
    "import numpy as np\n",
    "from kornia.geometry import warp_perspective, resize\n",
    "\n",
    "from utils.viz import yt_alpha_blend\n",
    "from utils.processing import four_point_homography_to_matrix, image_edges\n",
    "\n",
    "# load sample video\n",
    "data_prefix = '/media/martin/Samsung_T5/data/endoscopic_data/cholec80/videos'\n",
    "video = 'video01.mp4'\n",
    "vc = cv2.VideoCapture(os.path.join(data_prefix, video))\n",
    "\n",
    "n = 0\n",
    "increment = 5\n",
    "\n",
    "while vc.isOpened():\n",
    "\n",
    "\n",
    "    # load\n",
    "    vc.set(cv2.CAP_PROP_POS_FRAMES, n)\n",
    "    _, img = vc.read()\n",
    "    n += increment\n",
    "    vc.set(cv2.CAP_PROP_POS_FRAMES, n)\n",
    "    _, wrp = vc.read()\n",
    "\n",
    "    # pre-process\n",
    "    img = image_to_tensor(np.ascontiguousarray((img[...,::-1])), False).float()/255.\n",
    "    wrp = image_to_tensor(np.ascontiguousarray((wrp[...,::-1])), False).float()/255.\n",
    "    img, wrp = resize(img, [240, 320]), resize(wrp, [240, 320])\n",
    "\n",
    "    # inference\n",
    "    endoscopic_view_duv = endoscopic_view_model(img, wrp)\n",
    "    non_endoscopic_view_duv = non_endoscopic_view_model(img, wrp)\n",
    "\n",
    "    # post-process\n",
    "    uv = image_edges(img)\n",
    "    endoscopic_view_H = four_point_homography_to_matrix(uv, -endoscopic_view_duv)\n",
    "    non_endoscopic_view_H = four_point_homography_to_matrix(uv, -non_endoscopic_view_duv)\n",
    "    endoscopic_view_wrp_pred = warp_perspective(img, endoscopic_view_H, img.shape[-2:])\n",
    "    non_endoscopic_view_wrp_pred = warp_perspective(img, non_endoscopic_view_H, img.shape[-2:])\n",
    "    wrp, endoscopic_view_wrp_pred, non_endoscopic_view_wrp_pred = resize(wrp, [480, 640]), resize(endoscopic_view_wrp_pred, [480, 640]), resize(non_endoscopic_view_wrp_pred, [480, 640])\n",
    "\n",
    "    # visualize\n",
    "    endoscopic_view_blend = yt_alpha_blend(wrp, endoscopic_view_wrp_pred)\n",
    "    non_endoscopic_view_blend = yt_alpha_blend(wrp, non_endoscopic_view_wrp_pred)\n",
    "    endoscopic_view_blend = tensor_to_image(endoscopic_view_blend, False)\n",
    "    non_endoscopic_view_blend = tensor_to_image(non_endoscopic_view_blend, False)\n",
    "    cv2.imshow('endoscopic_view_blend', endoscopic_view_blend)\n",
    "    cv2.imshow('non_endoscopic_view_blend', non_endoscopic_view_blend)\n",
    "    cv2.waitKey()\n",
    "\n",
    "cv2.destroyAllWindows()"
   ]
  },
  {
   "cell_type": "code",
   "execution_count": null,
   "metadata": {},
   "outputs": [],
   "source": []
  }
 ],
 "metadata": {
  "interpreter": {
   "hash": "afa71c527eb733e1136cc2082f84ae0e6a163fb7798c0d02ae5d1d5f2b06a5f2"
  },
  "kernelspec": {
   "display_name": "Python 3.7.6 64-bit ('hil': conda)",
   "name": "python3"
  },
  "language_info": {
   "codemirror_mode": {
    "name": "ipython",
    "version": 3
   },
   "file_extension": ".py",
   "mimetype": "text/x-python",
   "name": "python",
   "nbconvert_exporter": "python",
   "pygments_lexer": "ipython3",
   "version": "3.7.6"
  },
  "orig_nbformat": 4
 },
 "nbformat": 4,
 "nbformat_minor": 2
}
