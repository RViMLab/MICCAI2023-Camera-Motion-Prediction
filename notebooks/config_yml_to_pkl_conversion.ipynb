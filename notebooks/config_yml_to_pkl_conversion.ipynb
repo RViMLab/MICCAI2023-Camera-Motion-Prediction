{
 "metadata": {
  "language_info": {
   "codemirror_mode": {
    "name": "ipython",
    "version": 3
   },
   "file_extension": ".py",
   "mimetype": "text/x-python",
   "name": "python",
   "nbconvert_exporter": "python",
   "pygments_lexer": "ipython3",
   "version": "3.7.6-final"
  },
  "orig_nbformat": 2,
  "kernelspec": {
   "name": "python3",
   "display_name": "Python 3",
   "language": "python"
  }
 },
 "nbformat": 4,
 "nbformat_minor": 2,
 "cells": [
  {
   "source": [
    "Load cholec80 transforms and translate to different python module with same functionality. Also translate from yaml file to pandas pickle format"
   ],
   "cell_type": "markdown",
   "metadata": {}
  },
  {
   "cell_type": "code",
   "execution_count": 5,
   "metadata": {},
   "outputs": [
    {
     "output_type": "stream",
     "name": "stdout",
     "text": [
      "[{'module': 'utils.transforms', 'type': 'Crop', 'kwargs': {'top_left_corner': [58, 142], 'shape': [554, 416], 'order': 'chw'}}, {'module': 'torchvision.transforms', 'type': 'Resize', 'kwargs': {'size': [480, 640]}}]\n"
     ]
    },
    {
     "output_type": "execute_result",
     "data": {
      "text/plain": [
       "    database                                       file  \\\n",
       "0   cholec80  {'name': 'video01.mp4', 'path': 'videos'}   \n",
       "1   cholec80  {'name': 'video02.mp4', 'path': 'videos'}   \n",
       "2   cholec80  {'name': 'video03.mp4', 'path': 'videos'}   \n",
       "3   cholec80  {'name': 'video04.mp4', 'path': 'videos'}   \n",
       "4   cholec80  {'name': 'video05.mp4', 'path': 'videos'}   \n",
       "..       ...                                        ...   \n",
       "70  cholec80  {'name': 'video17.mp4', 'path': 'videos'}   \n",
       "71  cholec80  {'name': 'video18.mp4', 'path': 'videos'}   \n",
       "72  cholec80  {'name': 'video19.mp4', 'path': 'videos'}   \n",
       "73  cholec80  {'name': 'video20.mp4', 'path': 'videos'}   \n",
       "74  cholec80  {'name': 'video22.mp4', 'path': 'videos'}   \n",
       "\n",
       "                                           transforms  \n",
       "0   [{'module': 'utils.transforms', 'type': 'Crop'...  \n",
       "1   [{'module': 'utils.transforms', 'type': 'Crop'...  \n",
       "2   [{'module': 'utils.transforms', 'type': 'Crop'...  \n",
       "3   [{'module': 'utils.transforms', 'type': 'Crop'...  \n",
       "4   [{'module': 'utils.transforms', 'type': 'Crop'...  \n",
       "..                                                ...  \n",
       "70  [{'module': 'utils.transforms', 'type': 'Crop'...  \n",
       "71  [{'module': 'utils.transforms', 'type': 'Crop'...  \n",
       "72  [{'module': 'utils.transforms', 'type': 'Crop'...  \n",
       "73  [{'module': 'utils.transforms', 'type': 'Crop'...  \n",
       "74  [{'module': 'utils.transforms', 'type': 'Crop'...  \n",
       "\n",
       "[75 rows x 3 columns]"
      ],
      "text/html": "<div>\n<style scoped>\n    .dataframe tbody tr th:only-of-type {\n        vertical-align: middle;\n    }\n\n    .dataframe tbody tr th {\n        vertical-align: top;\n    }\n\n    .dataframe thead th {\n        text-align: right;\n    }\n</style>\n<table border=\"1\" class=\"dataframe\">\n  <thead>\n    <tr style=\"text-align: right;\">\n      <th></th>\n      <th>database</th>\n      <th>file</th>\n      <th>transforms</th>\n    </tr>\n  </thead>\n  <tbody>\n    <tr>\n      <th>0</th>\n      <td>cholec80</td>\n      <td>{'name': 'video01.mp4', 'path': 'videos'}</td>\n      <td>[{'module': 'utils.transforms', 'type': 'Crop'...</td>\n    </tr>\n    <tr>\n      <th>1</th>\n      <td>cholec80</td>\n      <td>{'name': 'video02.mp4', 'path': 'videos'}</td>\n      <td>[{'module': 'utils.transforms', 'type': 'Crop'...</td>\n    </tr>\n    <tr>\n      <th>2</th>\n      <td>cholec80</td>\n      <td>{'name': 'video03.mp4', 'path': 'videos'}</td>\n      <td>[{'module': 'utils.transforms', 'type': 'Crop'...</td>\n    </tr>\n    <tr>\n      <th>3</th>\n      <td>cholec80</td>\n      <td>{'name': 'video04.mp4', 'path': 'videos'}</td>\n      <td>[{'module': 'utils.transforms', 'type': 'Crop'...</td>\n    </tr>\n    <tr>\n      <th>4</th>\n      <td>cholec80</td>\n      <td>{'name': 'video05.mp4', 'path': 'videos'}</td>\n      <td>[{'module': 'utils.transforms', 'type': 'Crop'...</td>\n    </tr>\n    <tr>\n      <th>...</th>\n      <td>...</td>\n      <td>...</td>\n      <td>...</td>\n    </tr>\n    <tr>\n      <th>70</th>\n      <td>cholec80</td>\n      <td>{'name': 'video17.mp4', 'path': 'videos'}</td>\n      <td>[{'module': 'utils.transforms', 'type': 'Crop'...</td>\n    </tr>\n    <tr>\n      <th>71</th>\n      <td>cholec80</td>\n      <td>{'name': 'video18.mp4', 'path': 'videos'}</td>\n      <td>[{'module': 'utils.transforms', 'type': 'Crop'...</td>\n    </tr>\n    <tr>\n      <th>72</th>\n      <td>cholec80</td>\n      <td>{'name': 'video19.mp4', 'path': 'videos'}</td>\n      <td>[{'module': 'utils.transforms', 'type': 'Crop'...</td>\n    </tr>\n    <tr>\n      <th>73</th>\n      <td>cholec80</td>\n      <td>{'name': 'video20.mp4', 'path': 'videos'}</td>\n      <td>[{'module': 'utils.transforms', 'type': 'Crop'...</td>\n    </tr>\n    <tr>\n      <th>74</th>\n      <td>cholec80</td>\n      <td>{'name': 'video22.mp4', 'path': 'videos'}</td>\n      <td>[{'module': 'utils.transforms', 'type': 'Crop'...</td>\n    </tr>\n  </tbody>\n</table>\n<p>75 rows × 3 columns</p>\n</div>"
     },
     "metadata": {},
     "execution_count": 5
    }
   ],
   "source": [
    "import sys\n",
    "import copy\n",
    "import pandas as pd\n",
    "\n",
    "sys.path.append('../')\n",
    "\n",
    "from utils import load_yaml, save_yaml\n",
    "\n",
    "servers = load_yaml('../configs/servers.yml')\n",
    "server = servers['local']\n",
    "\n",
    "databases = load_yaml('../configs/cholec80_transforms.yml')\n",
    "database = databases['databases'][0]\n",
    "\n",
    "# files, prefix in db], transform {module, type, kwargs}, database {name, prefix}\n",
    "database_df = pd.DataFrame(columns=['database', 'file', 'transforms'])\n",
    "\n",
    "# load transforms and convert them to other module's callables\n",
    "key_dict = {\n",
    "    'Crop': 'Crop',\n",
    "    'Resize': 'Resize'\n",
    "}\n",
    "\n",
    "for db_idx, db in enumerate(databases['databases']):\n",
    "\n",
    "    for t_idx, old_transforms in enumerate(db['transforms']):\n",
    "        transforms = []\n",
    "        for old_transform in old_transforms:\n",
    "            # 'Crop' -> 'crop', shape -> height, width, top_left_corner -> top, left\n",
    "            # 'Resize' -> 'resize', dsize -> size\n",
    "            transform = {}\n",
    "            for key, value in old_transform.items():\n",
    "                if key == 'Crop':\n",
    "                    transform = {\n",
    "                        'module': 'utils.transforms',\n",
    "                        'type': 'Crop',\n",
    "                        'kwargs': {\n",
    "                            'top_left_corner': value['top_left_corner'],\n",
    "                            'shape': value['shape'][::-1],\n",
    "                            'order': 'chw'\n",
    "                        }\n",
    "                    }\n",
    "                elif key == 'Resize':\n",
    "                    transform = {\n",
    "                        'module': 'torchvision.transforms',\n",
    "                        'type': 'Resize',\n",
    "                        'kwargs': {\n",
    "                            'size': value['dsize'][::-1]\n",
    "                        }\n",
    "                    }\n",
    "                    \n",
    "\n",
    "                else:\n",
    "                    raise ValueError('Key not known')\n",
    "\n",
    "            transforms.append(transform)                \n",
    "        \n",
    "        df_row = {\n",
    "            'database': database['name'], \n",
    "            'file': {'name': database['videos']['files'][t_idx], 'path': database['videos']['prefix']}, \n",
    "            'transforms': transforms\n",
    "        }\n",
    "        database_df = database_df.append(df_row, ignore_index=True)\n",
    "\n",
    "database_df.to_pickle('../configs/cholec80_transforms.pkl')\n",
    "print(database_df.iloc[0]['transforms'])\n",
    "database_df"
   ]
  },
  {
   "cell_type": "code",
   "execution_count": null,
   "metadata": {},
   "outputs": [],
   "source": []
  }
 ]
}