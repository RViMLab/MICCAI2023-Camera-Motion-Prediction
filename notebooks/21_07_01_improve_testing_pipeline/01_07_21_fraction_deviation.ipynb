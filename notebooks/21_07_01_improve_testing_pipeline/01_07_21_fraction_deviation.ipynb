{
 "cells": [
  {
   "cell_type": "code",
   "execution_count": 1,
   "source": [
    "# evaluate SIFT/SURF/ORB on test set\n",
    "\n",
    "# create fraction of number of image plots\n",
    "\n",
    "# add them to testing pipeline"
   ],
   "outputs": [],
   "metadata": {}
  },
  {
   "cell_type": "code",
   "execution_count": 17,
   "source": [
    "import os\n",
    "import sys\n",
    "sys.path.append('../../')\n",
    "\n",
    "import pandas as pd\n",
    "\n",
    "from lightning_data_modules import ImagePairHomographyDataModule\n",
    "from utils.io import load_yaml\n",
    "\n",
    "\n",
    "\n",
    "server = 'local'\n",
    "server = load_yaml('../../config/servers.yml')[server]\n",
    "\n",
    "configs = load_yaml('../../config/deep_image_homography_estimation_backbone.yml')\n",
    "\n",
    "# prepare data\n",
    "prefix = os.path.join(server['database']['location'], configs['data']['pkl_path'])\n",
    "df = pd.read_pickle(os.path.join(\n",
    "        prefix,\n",
    "        configs['data']['pkl_name']\n",
    "))\n",
    "\n",
    "rho = 64\n",
    "\n",
    "# load data module\n",
    "dm = ImagePairHomographyDataModule(\n",
    "    df=df,\n",
    "    prefix=prefix,\n",
    "    train_split=configs['data']['train_split'],\n",
    "    random_state=configs['data']['random_state'],\n",
    "    batch_size=64,\n",
    "    num_workers=8,\n",
    "    rho=rho,\n",
    "    crp_shape=configs['data']['crp_shape'],\n",
    "    p0=configs['data']['p0'],\n",
    "    seq_len=configs['data']['seq_len'],\n",
    "    unsupervised=configs['data']['unsupervised'],\n",
    "    train_transforms=configs['data']['train_transforms'],\n",
    "    val_transforms=configs['data']['val_transforms']\n",
    ")\n",
    "\n",
    "print('Running with rho of {}'.format(configs['data']['rho']))\n",
    "\n",
    "dm.setup('test')\n",
    "test_dl = dm.test_dataloader()\n",
    "\n",
    "# show df\n",
    "df[df.test == True]"
   ],
   "outputs": [
    {
     "output_type": "stream",
     "name": "stdout",
     "text": [
      "Running with rho of 32\n"
     ]
    },
    {
     "output_type": "execute_result",
     "data": {
      "text/plain": [
       "              folder            file  vid  frame  test\n",
       "0         test/vid_0     frame_0.npy    0      0  True\n",
       "1         test/vid_0     frame_1.npy    0      1  True\n",
       "2         test/vid_0     frame_2.npy    0      2  True\n",
       "3         test/vid_0     frame_3.npy    0      3  True\n",
       "4         test/vid_0     frame_4.npy    0      4  True\n",
       "...              ...             ...  ...    ...   ...\n",
       "191302  test/vid_447  frame_1404.npy  447   1404  True\n",
       "191303  test/vid_447  frame_1405.npy  447   1405  True\n",
       "191304  test/vid_447  frame_1406.npy  447   1406  True\n",
       "191305  test/vid_447  frame_1407.npy  447   1407  True\n",
       "191306  test/vid_447  frame_1408.npy  447   1408  True\n",
       "\n",
       "[38407 rows x 5 columns]"
      ],
      "text/html": [
       "<div>\n",
       "<style scoped>\n",
       "    .dataframe tbody tr th:only-of-type {\n",
       "        vertical-align: middle;\n",
       "    }\n",
       "\n",
       "    .dataframe tbody tr th {\n",
       "        vertical-align: top;\n",
       "    }\n",
       "\n",
       "    .dataframe thead th {\n",
       "        text-align: right;\n",
       "    }\n",
       "</style>\n",
       "<table border=\"1\" class=\"dataframe\">\n",
       "  <thead>\n",
       "    <tr style=\"text-align: right;\">\n",
       "      <th></th>\n",
       "      <th>folder</th>\n",
       "      <th>file</th>\n",
       "      <th>vid</th>\n",
       "      <th>frame</th>\n",
       "      <th>test</th>\n",
       "    </tr>\n",
       "  </thead>\n",
       "  <tbody>\n",
       "    <tr>\n",
       "      <th>0</th>\n",
       "      <td>test/vid_0</td>\n",
       "      <td>frame_0.npy</td>\n",
       "      <td>0</td>\n",
       "      <td>0</td>\n",
       "      <td>True</td>\n",
       "    </tr>\n",
       "    <tr>\n",
       "      <th>1</th>\n",
       "      <td>test/vid_0</td>\n",
       "      <td>frame_1.npy</td>\n",
       "      <td>0</td>\n",
       "      <td>1</td>\n",
       "      <td>True</td>\n",
       "    </tr>\n",
       "    <tr>\n",
       "      <th>2</th>\n",
       "      <td>test/vid_0</td>\n",
       "      <td>frame_2.npy</td>\n",
       "      <td>0</td>\n",
       "      <td>2</td>\n",
       "      <td>True</td>\n",
       "    </tr>\n",
       "    <tr>\n",
       "      <th>3</th>\n",
       "      <td>test/vid_0</td>\n",
       "      <td>frame_3.npy</td>\n",
       "      <td>0</td>\n",
       "      <td>3</td>\n",
       "      <td>True</td>\n",
       "    </tr>\n",
       "    <tr>\n",
       "      <th>4</th>\n",
       "      <td>test/vid_0</td>\n",
       "      <td>frame_4.npy</td>\n",
       "      <td>0</td>\n",
       "      <td>4</td>\n",
       "      <td>True</td>\n",
       "    </tr>\n",
       "    <tr>\n",
       "      <th>...</th>\n",
       "      <td>...</td>\n",
       "      <td>...</td>\n",
       "      <td>...</td>\n",
       "      <td>...</td>\n",
       "      <td>...</td>\n",
       "    </tr>\n",
       "    <tr>\n",
       "      <th>191302</th>\n",
       "      <td>test/vid_447</td>\n",
       "      <td>frame_1404.npy</td>\n",
       "      <td>447</td>\n",
       "      <td>1404</td>\n",
       "      <td>True</td>\n",
       "    </tr>\n",
       "    <tr>\n",
       "      <th>191303</th>\n",
       "      <td>test/vid_447</td>\n",
       "      <td>frame_1405.npy</td>\n",
       "      <td>447</td>\n",
       "      <td>1405</td>\n",
       "      <td>True</td>\n",
       "    </tr>\n",
       "    <tr>\n",
       "      <th>191304</th>\n",
       "      <td>test/vid_447</td>\n",
       "      <td>frame_1406.npy</td>\n",
       "      <td>447</td>\n",
       "      <td>1406</td>\n",
       "      <td>True</td>\n",
       "    </tr>\n",
       "    <tr>\n",
       "      <th>191305</th>\n",
       "      <td>test/vid_447</td>\n",
       "      <td>frame_1407.npy</td>\n",
       "      <td>447</td>\n",
       "      <td>1407</td>\n",
       "      <td>True</td>\n",
       "    </tr>\n",
       "    <tr>\n",
       "      <th>191306</th>\n",
       "      <td>test/vid_447</td>\n",
       "      <td>frame_1408.npy</td>\n",
       "      <td>447</td>\n",
       "      <td>1408</td>\n",
       "      <td>True</td>\n",
       "    </tr>\n",
       "  </tbody>\n",
       "</table>\n",
       "<p>38407 rows × 5 columns</p>\n",
       "</div>"
      ]
     },
     "metadata": {},
     "execution_count": 17
    }
   ],
   "metadata": {}
  },
  {
   "cell_type": "code",
   "execution_count": 10,
   "source": [
    "import cv2\n",
    "import pandas as pd\n",
    "import numpy as np\n",
    "from tqdm import tqdm\n",
    "from kornia import tensor_to_image\n",
    "\n",
    "from utils.processing import FeatureHomographyEstimation\n",
    "\n",
    "fd_sift = cv2.SIFT_create()\n",
    "fh_sift = FeatureHomographyEstimation(fd_sift)\n",
    "\n",
    "fd_surf = cv2.xfeatures2d.SURF_create()\n",
    "fh_surf = FeatureHomographyEstimation(fd_surf)\n",
    "\n",
    "fd_orb = cv2.ORB_create()\n",
    "fh_orb = FeatureHomographyEstimation(fd_orb)\n",
    "\n",
    "fhs = {\n",
    "    'SIFT': fh_sift, \n",
    "    'SURF': fh_surf, \n",
    "    'ORB': fh_orb\n",
    "}\n",
    "\n",
    "log_df_sift = pd.DataFrame(columns=['duv', 'duv_pred', 'duv_mpd'])\n",
    "log_df_surf = pd.DataFrame(columns=['duv', 'duv_pred', 'duv_mpd'])\n",
    "log_df_orb  = pd.DataFrame(columns=['duv', 'duv_pred', 'duv_mpd'])\n",
    "\n",
    "log_dfs = {\n",
    "    'SIFT': log_df_sift,\n",
    "    'SURF': log_df_surf, \n",
    "    'ORB': log_df_orb\n",
    "}\n",
    "\n",
    "for batch in tqdm(test_dl):\n",
    "    img, wrp, duv = batch['img_crp'], batch['wrp_crp'], batch['duv']\n",
    "    img, wrp = tensor_to_image(img), tensor_to_image(wrp)\n",
    "    img, wrp = (img*255).astype(np.uint8), (wrp*255).astype(np.uint8)\n",
    "\n",
    "    duv = duv.squeeze().numpy()\n",
    "\n",
    "    for key in fhs:\n",
    "        H_pred, duv_pred = fhs[key](img, wrp)\n",
    "\n",
    "        if H_pred is None:\n",
    "            duv_mpd = np.nan\n",
    "        else:\n",
    "            duv_mpd = np.linalg.norm(duv - duv_pred, axis=1).mean()\n",
    "\n",
    "        log_dfs[key] = log_dfs[key].append({\n",
    "            'duv': duv,\n",
    "            'duv_pred': duv_pred,\n",
    "            'duv_mpd': duv_mpd\n",
    "        }, ignore_index=True)\n",
    "\n",
    "for key in log_dfs:\n",
    "    log_dfs[key].to_pickle('{}_ft_rho_{}_duv.pkl'.format(key, configs['data']['rho']))"
   ],
   "outputs": [
    {
     "output_type": "stream",
     "name": "stderr",
     "text": [
      "100%|██████████| 33835/33835 [50:46<00:00, 11.10it/s]\n"
     ]
    }
   ],
   "metadata": {}
  },
  {
   "cell_type": "code",
   "execution_count": 18,
   "source": [
    "# load model\n",
    "# run through data\n",
    "\n",
    "import torch\n",
    "from tqdm import tqdm\n",
    "import numpy as np\n",
    "import time\n",
    "from utils.io import generate_path\n",
    "\n",
    "from lightning_modules import DeepImageHomographyEstimationModuleBackbone\n",
    "\n",
    "\n",
    "# load model\n",
    "# prefix = '/home/martin/Tresors/homography_imitation_learning_logs/ae_cai/regnet_y/1_6_gf/version_0'\n",
    "prefix = '/home/martin/Tresors/homography_imitation_learning_logs/ae_cai'\n",
    "rho_32_models = [\n",
    "    # VGG\n",
    "    'vgg',\n",
    "\n",
    "    # ResNet\n",
    "    'resnet/18',\n",
    "    'resnet/34',\n",
    "    'resnet/50',\n",
    "\n",
    "    # EfficientNet\n",
    "    'efficient_net/b0',\n",
    "    'efficient_net/b1',\n",
    "    'efficient_net/b2',\n",
    "    'efficient_net/b3',\n",
    "    'efficient_net/b4',\n",
    "    'efficient_net/b5',\n",
    "\n",
    "    # RegNetY\n",
    "    'regnet_y/400_mf',\n",
    "    'regnet_y/600_mf',\n",
    "    'regnet_y/800_mf',\n",
    "    'regnet_y/1_6_gf',\n",
    "    'regnet_y/4_0_gf',\n",
    "    'regnet_y/6_4_gf'\n",
    "]\n",
    "\n",
    "rho_64_models = [\n",
    "    # VGG\n",
    "    'vgg/64',\n",
    "\n",
    "    # ResNet\n",
    "    'resnet/64/18',\n",
    "    'resnet/64/34',\n",
    "    'resnet/64/50',\n",
    "\n",
    "    # EfficientNet\n",
    "    'efficient_net/64/b0',\n",
    "    'efficient_net/64/b1',\n",
    "    'efficient_net/64/b2',\n",
    "    'efficient_net/64/b3',\n",
    "    'efficient_net/64/b4',\n",
    "    'efficient_net/64/b5',\n",
    "\n",
    "    # RegNetY\n",
    "    'regnet_y/64/400_mf',\n",
    "    'regnet_y/64/600_mf',\n",
    "    'regnet_y/64/800_mf',\n",
    "    'regnet_y/64/1_6_gf',\n",
    "    'regnet_y/64/4_0_gf',\n",
    "    'regnet_y/64/6_4_gf'\n",
    "]\n",
    "\n",
    "for model_path in rho_64_models:\n",
    "    print('Testing {}'.format(model_path))\n",
    "\n",
    "    configs = load_yaml(os.path.join(prefix, model_path, 'version_0', 'config.yml'))\n",
    "    model = DeepImageHomographyEstimationModuleBackbone.load_from_checkpoint(os.path.join(prefix, model_path, 'version_0', 'checkpoints/epoch=49-step=94349.ckpt'), shape=configs['model']['shape'])\n",
    "\n",
    "    device = 'cpu'\n",
    "    if torch.cuda.is_available():\n",
    "        print('Running with CUDA backend.')\n",
    "        device = 'cuda'\n",
    "\n",
    "    model.to(device)\n",
    "    model = model.eval()\n",
    "    model.freeze()\n",
    "\n",
    "    log_df = pd.DataFrame(columns=['duv', 'duv_pred', 'duv_mpd', 'batch_dt'])\n",
    "\n",
    "    for batch in tqdm(test_dl):\n",
    "        batch = dm.transfer_batch_to_device(batch, device)\n",
    "        imgs, wrps, duvs = batch['img_crp'], batch['wrp_crp'], batch['duv']\n",
    "\n",
    "        start = time.time()\n",
    "        duvs_pred = model(imgs, wrps)\n",
    "        dt = time.time() - start\n",
    "        \n",
    "        for duv, duv_pred in zip(duvs, duvs_pred):\n",
    "            duv, duv_pred = duv.squeeze().cpu().numpy(), duv_pred.squeeze().cpu().numpy()\n",
    "            duv_mpd = np.linalg.norm(duv - duv_pred, axis=1).mean()\n",
    "\n",
    "            log_df = log_df.append({\n",
    "                'duv': duv,\n",
    "                'duv_pred': duv_pred,\n",
    "                'duv_mpd': duv_mpd,\n",
    "                'batch_dt': dt\n",
    "            }, ignore_index=True)\n",
    "\n",
    "\n",
    "    category = model_path.split('/')[-0]\n",
    "    export = model_path.split('/')[-1]\n",
    "    output_path = 'rho_{}/{}'.format(rho, category)\n",
    "    generate_path(output_path)\n",
    "    log_df.to_pickle('{}/{}_duv.pkl'.format(output_path, export))\n",
    "    "
   ],
   "outputs": [
    {
     "output_type": "stream",
     "name": "stdout",
     "text": [
      "Testing vgg/64\n"
     ]
    },
    {
     "output_type": "stream",
     "name": "stderr",
     "text": [
      "  0%|          | 0/529 [00:00<?, ?it/s]"
     ]
    },
    {
     "output_type": "stream",
     "name": "stdout",
     "text": [
      "Running with CUDA backend.\n"
     ]
    },
    {
     "output_type": "stream",
     "name": "stderr",
     "text": [
      "100%|██████████| 529/529 [04:24<00:00,  2.00it/s]\n"
     ]
    },
    {
     "output_type": "stream",
     "name": "stdout",
     "text": [
      "Testing resnet/64/18\n"
     ]
    },
    {
     "output_type": "stream",
     "name": "stderr",
     "text": [
      "  0%|          | 0/529 [00:00<?, ?it/s]"
     ]
    },
    {
     "output_type": "stream",
     "name": "stdout",
     "text": [
      "Running with CUDA backend.\n"
     ]
    },
    {
     "output_type": "stream",
     "name": "stderr",
     "text": [
      "100%|██████████| 529/529 [03:35<00:00,  2.45it/s]\n"
     ]
    },
    {
     "output_type": "stream",
     "name": "stdout",
     "text": [
      "Testing resnet/64/34\n"
     ]
    },
    {
     "output_type": "stream",
     "name": "stderr",
     "text": [
      "  0%|          | 0/529 [00:00<?, ?it/s]"
     ]
    },
    {
     "output_type": "stream",
     "name": "stdout",
     "text": [
      "Running with CUDA backend.\n"
     ]
    },
    {
     "output_type": "stream",
     "name": "stderr",
     "text": [
      "100%|██████████| 529/529 [03:56<00:00,  2.24it/s]\n"
     ]
    },
    {
     "output_type": "stream",
     "name": "stdout",
     "text": [
      "Testing resnet/64/50\n"
     ]
    },
    {
     "output_type": "stream",
     "name": "stderr",
     "text": [
      "  0%|          | 0/529 [00:00<?, ?it/s]"
     ]
    },
    {
     "output_type": "stream",
     "name": "stdout",
     "text": [
      "Running with CUDA backend.\n"
     ]
    },
    {
     "output_type": "stream",
     "name": "stderr",
     "text": [
      "100%|██████████| 529/529 [04:34<00:00,  1.93it/s]\n"
     ]
    },
    {
     "output_type": "stream",
     "name": "stdout",
     "text": [
      "Testing efficient_net/64/b0\n"
     ]
    },
    {
     "output_type": "stream",
     "name": "stderr",
     "text": [
      "  0%|          | 0/529 [00:00<?, ?it/s]"
     ]
    },
    {
     "output_type": "stream",
     "name": "stdout",
     "text": [
      "Running with CUDA backend.\n"
     ]
    },
    {
     "output_type": "stream",
     "name": "stderr",
     "text": [
      "100%|██████████| 529/529 [03:55<00:00,  2.25it/s]\n"
     ]
    },
    {
     "output_type": "stream",
     "name": "stdout",
     "text": [
      "Testing efficient_net/64/b1\n"
     ]
    },
    {
     "output_type": "stream",
     "name": "stderr",
     "text": [
      "  0%|          | 0/529 [00:00<?, ?it/s]"
     ]
    },
    {
     "output_type": "stream",
     "name": "stdout",
     "text": [
      "Running with CUDA backend.\n"
     ]
    },
    {
     "output_type": "stream",
     "name": "stderr",
     "text": [
      "100%|██████████| 529/529 [04:07<00:00,  2.14it/s]\n"
     ]
    },
    {
     "output_type": "stream",
     "name": "stdout",
     "text": [
      "Testing efficient_net/64/b2\n"
     ]
    },
    {
     "output_type": "stream",
     "name": "stderr",
     "text": [
      "  0%|          | 0/529 [00:00<?, ?it/s]"
     ]
    },
    {
     "output_type": "stream",
     "name": "stdout",
     "text": [
      "Running with CUDA backend.\n"
     ]
    },
    {
     "output_type": "stream",
     "name": "stderr",
     "text": [
      "100%|██████████| 529/529 [04:24<00:00,  2.00it/s]\n"
     ]
    },
    {
     "output_type": "stream",
     "name": "stdout",
     "text": [
      "Testing efficient_net/64/b3\n"
     ]
    },
    {
     "output_type": "stream",
     "name": "stderr",
     "text": [
      "  0%|          | 0/529 [00:00<?, ?it/s]"
     ]
    },
    {
     "output_type": "stream",
     "name": "stdout",
     "text": [
      "Running with CUDA backend.\n"
     ]
    },
    {
     "output_type": "stream",
     "name": "stderr",
     "text": [
      "100%|██████████| 529/529 [04:38<00:00,  1.90it/s]\n"
     ]
    },
    {
     "output_type": "stream",
     "name": "stdout",
     "text": [
      "Testing efficient_net/64/b4\n"
     ]
    },
    {
     "output_type": "stream",
     "name": "stderr",
     "text": [
      "  0%|          | 0/529 [00:00<?, ?it/s]"
     ]
    },
    {
     "output_type": "stream",
     "name": "stdout",
     "text": [
      "Running with CUDA backend.\n"
     ]
    },
    {
     "output_type": "stream",
     "name": "stderr",
     "text": [
      "100%|██████████| 529/529 [05:02<00:00,  1.75it/s]\n"
     ]
    },
    {
     "output_type": "stream",
     "name": "stdout",
     "text": [
      "Testing efficient_net/64/b5\n"
     ]
    },
    {
     "output_type": "stream",
     "name": "stderr",
     "text": [
      "  0%|          | 0/529 [00:00<?, ?it/s]"
     ]
    },
    {
     "output_type": "stream",
     "name": "stdout",
     "text": [
      "Running with CUDA backend.\n"
     ]
    },
    {
     "output_type": "stream",
     "name": "stderr",
     "text": [
      "100%|██████████| 529/529 [06:12<00:00,  1.42it/s]\n"
     ]
    },
    {
     "output_type": "stream",
     "name": "stdout",
     "text": [
      "Testing regnet_y/64/400_mf\n"
     ]
    },
    {
     "output_type": "stream",
     "name": "stderr",
     "text": [
      "  0%|          | 0/529 [00:00<?, ?it/s]"
     ]
    },
    {
     "output_type": "stream",
     "name": "stdout",
     "text": [
      "Running with CUDA backend.\n"
     ]
    },
    {
     "output_type": "stream",
     "name": "stderr",
     "text": [
      "100%|██████████| 529/529 [03:39<00:00,  2.41it/s]\n"
     ]
    },
    {
     "output_type": "stream",
     "name": "stdout",
     "text": [
      "Testing regnet_y/64/600_mf\n"
     ]
    },
    {
     "output_type": "stream",
     "name": "stderr",
     "text": [
      "  0%|          | 0/529 [00:00<?, ?it/s]"
     ]
    },
    {
     "output_type": "stream",
     "name": "stdout",
     "text": [
      "Running with CUDA backend.\n"
     ]
    },
    {
     "output_type": "stream",
     "name": "stderr",
     "text": [
      "100%|██████████| 529/529 [03:51<00:00,  2.28it/s]\n"
     ]
    },
    {
     "output_type": "stream",
     "name": "stdout",
     "text": [
      "Testing regnet_y/64/800_mf\n"
     ]
    },
    {
     "output_type": "stream",
     "name": "stderr",
     "text": [
      "  0%|          | 0/529 [00:00<?, ?it/s]"
     ]
    },
    {
     "output_type": "stream",
     "name": "stdout",
     "text": [
      "Running with CUDA backend.\n"
     ]
    },
    {
     "output_type": "stream",
     "name": "stderr",
     "text": [
      "100%|██████████| 529/529 [03:47<00:00,  2.32it/s]\n"
     ]
    },
    {
     "output_type": "stream",
     "name": "stdout",
     "text": [
      "Testing regnet_y/64/1_6_gf\n"
     ]
    },
    {
     "output_type": "stream",
     "name": "stderr",
     "text": [
      "  0%|          | 0/529 [00:00<?, ?it/s]"
     ]
    },
    {
     "output_type": "stream",
     "name": "stdout",
     "text": [
      "Running with CUDA backend.\n"
     ]
    },
    {
     "output_type": "stream",
     "name": "stderr",
     "text": [
      "100%|██████████| 529/529 [07:39<00:00,  1.15it/s]\n"
     ]
    },
    {
     "output_type": "stream",
     "name": "stdout",
     "text": [
      "Testing regnet_y/64/4_0_gf\n"
     ]
    },
    {
     "output_type": "stream",
     "name": "stderr",
     "text": [
      "  0%|          | 0/529 [00:00<?, ?it/s]"
     ]
    },
    {
     "output_type": "stream",
     "name": "stdout",
     "text": [
      "Running with CUDA backend.\n"
     ]
    },
    {
     "output_type": "stream",
     "name": "stderr",
     "text": [
      "100%|██████████| 529/529 [07:18<00:00,  1.21it/s]\n"
     ]
    },
    {
     "output_type": "stream",
     "name": "stdout",
     "text": [
      "Testing regnet_y/64/6_4_gf\n"
     ]
    },
    {
     "output_type": "stream",
     "name": "stderr",
     "text": [
      "  0%|          | 0/529 [00:00<?, ?it/s]"
     ]
    },
    {
     "output_type": "stream",
     "name": "stdout",
     "text": [
      "Running with CUDA backend.\n"
     ]
    },
    {
     "output_type": "stream",
     "name": "stderr",
     "text": [
      "100%|██████████| 529/529 [10:41<00:00,  1.21s/it]\n"
     ]
    }
   ],
   "metadata": {}
  },
  {
   "cell_type": "code",
   "execution_count": 1,
   "source": [
    "import pandas as pd\n",
    "import matplotlib.pyplot as plt\n",
    "\n",
    "\n",
    "stats_dfs = []\n",
    "eval_df = pd.DataFrame(columns=['parameters', 'th30', 'th50', 'th70', 'th90'])\n",
    "\n",
    "rho = 32\n",
    "fds = [\n",
    "    'ft/SIFT', 'ft/SURF', 'ft/ORB', \n",
    "    'vgg/vgg',\n",
    "    'resnet/18', 'resnet/34', 'resnet/50',\n",
    "    'efficient_net/b0','efficient_net/b1','efficient_net/b2','efficient_net/b3','efficient_net/b4','efficient_net/b5',\n",
    "    'regnet_y/400_mf','regnet_y/600_mf','regnet_y/800_mf','regnet_y/1_6_gf','regnet_y/4_0_gf','regnet_y/6_4_gf'\n",
    "]\n",
    "\n",
    "parameters = {\n",
    "    'ft/SIFT': 0, 'ft/SURF': 0, 'ft/ORB': 0, \n",
    "    'vgg/vgg': 92916360,\n",
    "    'resnet/18': 11689512, 'resnet/34': 21797672, 'resnet/50': 25557032,\n",
    "    'efficient_net/b0': 5288548, 'efficient_net/b1': 7794184,'efficient_net/b2': 9109994,'efficient_net/b3': 12233232, 'efficient_net/b4': 19341616,'efficient_net/b5': 30389784,\n",
    "    'regnet_y/400_mf': 4344144, 'regnet_y/600_mf': 6055160, 'regnet_y/800_mf': 6263168, 'regnet_y/1_6_gf': 11202430, 'regnet_y/4_0_gf': 20646656, 'regnet_y/6_4_gf': 30583252\n",
    "\n",
    "}\n",
    "\n",
    "duv_means = {}\n",
    "duv_stds = {}\n",
    "\n",
    "\n",
    "for fd in fds:\n",
    "    print('Computing CDF for {}'.format(fd))\n",
    "    duv_df = pd.read_pickle('rho_{}/{}_duv.pkl'.format(rho, fd))\n",
    "    stats_df = duv_df.groupby('duv_mpd')['duv_mpd'].agg('count').pipe(pd.DataFrame).rename(columns = {'duv_mpd': 'frequency'})\n",
    "\n",
    "    # PDF\n",
    "    stats_df['pdf'] = stats_df['frequency'] / sum(stats_df['frequency'])\n",
    "\n",
    "    # CDF\n",
    "    stats_df['cdf'] = stats_df['pdf'].cumsum()\n",
    "    stats_df = stats_df.reset_index()\n",
    "    stats_dfs.append(stats_df)\n",
    "\n",
    "    th30 = stats_df[stats_df.cdf < 0.3].iloc[-1]\n",
    "    th50 = stats_df[stats_df.cdf < 0.5].iloc[-1]\n",
    "    th70 = stats_df[stats_df.cdf < 0.7].iloc[-1]\n",
    "    th90 = stats_df[stats_df.cdf < 0.9].iloc[-1]\n",
    "    eval_df = eval_df.append({\n",
    "        'parameters': parameters[fd],\n",
    "        'th30': th30.duv_mpd,\n",
    "        'th50': th50.duv_mpd,\n",
    "        'th70': th70.duv_mpd,\n",
    "        'th90': th90.duv_mpd\n",
    "    }, ignore_index=True)\n",
    "\n",
    "    duv_mean, duv_std = duv_df.duv_mpd.mean(), duv_df.duv_mpd.std()\n",
    "    duv_means[fd], duv_stds[fd] = duv_mean, duv_std\n",
    "\n",
    "    if not fd in fds[:3]:\n",
    "        print('{} - {:.2f} +/- {:.2f}, execution time {:.2f} +/- {:.2f}'.format(fd, duv_mean, duv_std, duv_df.batch_dt.mean()*1.e3, duv_df.batch_dt.std()*1.e3))\n",
    "    else:\n",
    "        print('{} - {:.2f} +/- {:.2f}'.format(fd, duv_mean, duv_std))\n",
    "\n",
    "for stats_df, fd in zip(stats_dfs, fds):\n",
    "\n",
    "    plt.plot(stats_df['duv_mpd'], stats_df['cdf'], label=fd)\n",
    "    plt.grid()\n",
    "    plt.legend()\n",
    "    plt.xlim([0, 40])\n",
    "\n",
    "# plt.show()\n",
    "plt.savefig('/media/martin/Samsung_T5/03_07_21_ae_cai_measurements/fig/frac/rho_32.pdf')"
   ],
   "outputs": [
    {
     "output_type": "stream",
     "name": "stdout",
     "text": [
      "Computing CDF for ft/SIFT\n",
      "ft/SIFT - 14.23 +/- 247.49\n",
      "Computing CDF for ft/SURF\n",
      "ft/SURF - 12.14 +/- 227.85\n",
      "Computing CDF for ft/ORB\n",
      "ft/ORB - 83.71 +/- 1289.21\n",
      "Computing CDF for vgg/vgg\n",
      "vgg/vgg - 7.48 +/- 4.17, execution time 3.36 +/- 13.06\n",
      "Computing CDF for resnet/18\n",
      "resnet/18 - 2.61 +/- 2.08, execution time 7.00 +/- 5.46\n",
      "Computing CDF for resnet/34\n",
      "resnet/34 - 2.40 +/- 1.92, execution time 10.16 +/- 4.97\n",
      "Computing CDF for resnet/50\n",
      "resnet/50 - 2.51 +/- 2.03, execution time 18.31 +/- 4.71\n",
      "Computing CDF for efficient_net/b0\n",
      "efficient_net/b0 - 2.44 +/- 1.95, execution time 26.64 +/- 10.03\n",
      "Computing CDF for efficient_net/b1\n",
      "efficient_net/b1 - 2.34 +/- 1.90, execution time 31.91 +/- 8.98\n",
      "Computing CDF for efficient_net/b2\n",
      "efficient_net/b2 - 2.39 +/- 1.86, execution time 27.83 +/- 8.87\n",
      "Computing CDF for efficient_net/b3\n",
      "efficient_net/b3 - 2.28 +/- 1.86, execution time 25.12 +/- 6.26\n",
      "Computing CDF for efficient_net/b4\n",
      "efficient_net/b4 - 2.16 +/- 1.82, execution time 36.88 +/- 6.48\n",
      "Computing CDF for efficient_net/b5\n",
      "efficient_net/b5 - 2.18 +/- 1.78, execution time 39.44 +/- 12.62\n",
      "Computing CDF for regnet_y/400_mf\n",
      "regnet_y/400_mf - 2.70 +/- 2.10, execution time 24.76 +/- 8.32\n",
      "Computing CDF for regnet_y/600_mf\n",
      "regnet_y/600_mf - 2.58 +/- 2.02, execution time 24.36 +/- 8.69\n",
      "Computing CDF for regnet_y/800_mf\n",
      "regnet_y/800_mf - 2.52 +/- 1.98, execution time 23.58 +/- 8.31\n",
      "Computing CDF for regnet_y/1_6_gf\n",
      "regnet_y/1_6_gf - 2.37 +/- 1.86, execution time 26.67 +/- 5.21\n",
      "Computing CDF for regnet_y/4_0_gf\n",
      "regnet_y/4_0_gf - 2.22 +/- 1.79, execution time 27.23 +/- 6.10\n",
      "Computing CDF for regnet_y/6_4_gf\n",
      "regnet_y/6_4_gf - 2.21 +/- 2.01, execution time 32.55 +/- 22.86\n"
     ]
    },
    {
     "output_type": "display_data",
     "data": {
      "text/plain": [
       "<Figure size 432x288 with 1 Axes>"
      ],
      "image/png": "[encoded data removed]"
     },
     "metadata": {
      "needs_background": "light"
     }
    }
   ],
   "metadata": {}
  },
  {
   "cell_type": "code",
   "execution_count": 2,
   "source": [
    "eval_df"
   ],
   "outputs": [
    {
     "output_type": "execute_result",
     "data": {
      "text/plain": [
       "    parameters      th30       th50       th70        th90\n",
       "0          0.0  4.276555   6.024077   8.653774   16.518100\n",
       "1          0.0  4.063654   5.648234   7.925365   13.624305\n",
       "2          0.0  6.520230  10.475262  20.117138  122.661466\n",
       "3   92916360.0  4.828714   6.465382   8.682452   13.234516\n",
       "4   11689512.0  1.424146   1.952301   2.819191    5.057985\n",
       "5   21797672.0  1.331774   1.806116   2.562447    4.626608\n",
       "6   25557032.0  1.395187   1.893797   2.696126    4.792773\n",
       "7    5288548.0  1.363279   1.830671   2.616789    4.643602\n",
       "8    7794184.0  1.320256   1.771797   2.504267    4.422697\n",
       "9    9109994.0  1.396699   1.850959   2.574481    4.424207\n",
       "10  12233232.0  1.308431   1.752245   2.437376    4.229765\n",
       "11  19341616.0  1.231800   1.645934   2.286653    4.018372\n",
       "12  30389784.0  1.262154   1.666249   2.299247    4.018721\n",
       "13   4344144.0  1.551071   2.065872   2.904621    5.077542\n",
       "14   6055160.0  1.466290   1.978615   2.796927    4.872567\n",
       "15   6263168.0  1.427231   1.915260   2.702635    4.757784\n",
       "16  11202430.0  1.380789   1.830560   2.515588    4.348672\n",
       "17  20646656.0  1.267709   1.685637   2.361296    4.168150\n",
       "18  30583252.0  1.211854   1.635557   2.324452    4.172550"
      ],
      "text/html": [
       "<div>\n",
       "<style scoped>\n",
       "    .dataframe tbody tr th:only-of-type {\n",
       "        vertical-align: middle;\n",
       "    }\n",
       "\n",
       "    .dataframe tbody tr th {\n",
       "        vertical-align: top;\n",
       "    }\n",
       "\n",
       "    .dataframe thead th {\n",
       "        text-align: right;\n",
       "    }\n",
       "</style>\n",
       "<table border=\"1\" class=\"dataframe\">\n",
       "  <thead>\n",
       "    <tr style=\"text-align: right;\">\n",
       "      <th></th>\n",
       "      <th>parameters</th>\n",
       "      <th>th30</th>\n",
       "      <th>th50</th>\n",
       "      <th>th70</th>\n",
       "      <th>th90</th>\n",
       "    </tr>\n",
       "  </thead>\n",
       "  <tbody>\n",
       "    <tr>\n",
       "      <th>0</th>\n",
       "      <td>0.0</td>\n",
       "      <td>4.276555</td>\n",
       "      <td>6.024077</td>\n",
       "      <td>8.653774</td>\n",
       "      <td>16.518100</td>\n",
       "    </tr>\n",
       "    <tr>\n",
       "      <th>1</th>\n",
       "      <td>0.0</td>\n",
       "      <td>4.063654</td>\n",
       "      <td>5.648234</td>\n",
       "      <td>7.925365</td>\n",
       "      <td>13.624305</td>\n",
       "    </tr>\n",
       "    <tr>\n",
       "      <th>2</th>\n",
       "      <td>0.0</td>\n",
       "      <td>6.520230</td>\n",
       "      <td>10.475262</td>\n",
       "      <td>20.117138</td>\n",
       "      <td>122.661466</td>\n",
       "    </tr>\n",
       "    <tr>\n",
       "      <th>3</th>\n",
       "      <td>92916360.0</td>\n",
       "      <td>4.828714</td>\n",
       "      <td>6.465382</td>\n",
       "      <td>8.682452</td>\n",
       "      <td>13.234516</td>\n",
       "    </tr>\n",
       "    <tr>\n",
       "      <th>4</th>\n",
       "      <td>11689512.0</td>\n",
       "      <td>1.424146</td>\n",
       "      <td>1.952301</td>\n",
       "      <td>2.819191</td>\n",
       "      <td>5.057985</td>\n",
       "    </tr>\n",
       "    <tr>\n",
       "      <th>5</th>\n",
       "      <td>21797672.0</td>\n",
       "      <td>1.331774</td>\n",
       "      <td>1.806116</td>\n",
       "      <td>2.562447</td>\n",
       "      <td>4.626608</td>\n",
       "    </tr>\n",
       "    <tr>\n",
       "      <th>6</th>\n",
       "      <td>25557032.0</td>\n",
       "      <td>1.395187</td>\n",
       "      <td>1.893797</td>\n",
       "      <td>2.696126</td>\n",
       "      <td>4.792773</td>\n",
       "    </tr>\n",
       "    <tr>\n",
       "      <th>7</th>\n",
       "      <td>5288548.0</td>\n",
       "      <td>1.363279</td>\n",
       "      <td>1.830671</td>\n",
       "      <td>2.616789</td>\n",
       "      <td>4.643602</td>\n",
       "    </tr>\n",
       "    <tr>\n",
       "      <th>8</th>\n",
       "      <td>7794184.0</td>\n",
       "      <td>1.320256</td>\n",
       "      <td>1.771797</td>\n",
       "      <td>2.504267</td>\n",
       "      <td>4.422697</td>\n",
       "    </tr>\n",
       "    <tr>\n",
       "      <th>9</th>\n",
       "      <td>9109994.0</td>\n",
       "      <td>1.396699</td>\n",
       "      <td>1.850959</td>\n",
       "      <td>2.574481</td>\n",
       "      <td>4.424207</td>\n",
       "    </tr>\n",
       "    <tr>\n",
       "      <th>10</th>\n",
       "      <td>12233232.0</td>\n",
       "      <td>1.308431</td>\n",
       "      <td>1.752245</td>\n",
       "      <td>2.437376</td>\n",
       "      <td>4.229765</td>\n",
       "    </tr>\n",
       "    <tr>\n",
       "      <th>11</th>\n",
       "      <td>19341616.0</td>\n",
       "      <td>1.231800</td>\n",
       "      <td>1.645934</td>\n",
       "      <td>2.286653</td>\n",
       "      <td>4.018372</td>\n",
       "    </tr>\n",
       "    <tr>\n",
       "      <th>12</th>\n",
       "      <td>30389784.0</td>\n",
       "      <td>1.262154</td>\n",
       "      <td>1.666249</td>\n",
       "      <td>2.299247</td>\n",
       "      <td>4.018721</td>\n",
       "    </tr>\n",
       "    <tr>\n",
       "      <th>13</th>\n",
       "      <td>4344144.0</td>\n",
       "      <td>1.551071</td>\n",
       "      <td>2.065872</td>\n",
       "      <td>2.904621</td>\n",
       "      <td>5.077542</td>\n",
       "    </tr>\n",
       "    <tr>\n",
       "      <th>14</th>\n",
       "      <td>6055160.0</td>\n",
       "      <td>1.466290</td>\n",
       "      <td>1.978615</td>\n",
       "      <td>2.796927</td>\n",
       "      <td>4.872567</td>\n",
       "    </tr>\n",
       "    <tr>\n",
       "      <th>15</th>\n",
       "      <td>6263168.0</td>\n",
       "      <td>1.427231</td>\n",
       "      <td>1.915260</td>\n",
       "      <td>2.702635</td>\n",
       "      <td>4.757784</td>\n",
       "    </tr>\n",
       "    <tr>\n",
       "      <th>16</th>\n",
       "      <td>11202430.0</td>\n",
       "      <td>1.380789</td>\n",
       "      <td>1.830560</td>\n",
       "      <td>2.515588</td>\n",
       "      <td>4.348672</td>\n",
       "    </tr>\n",
       "    <tr>\n",
       "      <th>17</th>\n",
       "      <td>20646656.0</td>\n",
       "      <td>1.267709</td>\n",
       "      <td>1.685637</td>\n",
       "      <td>2.361296</td>\n",
       "      <td>4.168150</td>\n",
       "    </tr>\n",
       "    <tr>\n",
       "      <th>18</th>\n",
       "      <td>30583252.0</td>\n",
       "      <td>1.211854</td>\n",
       "      <td>1.635557</td>\n",
       "      <td>2.324452</td>\n",
       "      <td>4.172550</td>\n",
       "    </tr>\n",
       "  </tbody>\n",
       "</table>\n",
       "</div>"
      ]
     },
     "metadata": {},
     "execution_count": 2
    }
   ],
   "metadata": {}
  },
  {
   "cell_type": "code",
   "execution_count": 3,
   "source": [
    "import matplotlib.pyplot as plt\n",
    "\n",
    "plt.scatter(eval_df.parameters[4:], eval_df.th30[4:], label='th30')\n",
    "plt.scatter(eval_df.parameters[4:], eval_df.th50[4:], label='th50')\n",
    "plt.scatter(eval_df.parameters[4:], eval_df.th70[4:], label='th70')\n",
    "# plt.scatter(eval_df.parameters, eval_df.th90, label='th90')\n",
    "plt.legend()\n",
    "plt.show()"
   ],
   "outputs": [
    {
     "output_type": "display_data",
     "data": {
      "text/plain": [
       "<Figure size 432x288 with 1 Axes>"
      ],
      "image/png": "[encoded data removed]"
     },
     "metadata": {
      "needs_background": "light"
     }
    }
   ],
   "metadata": {}
  },
  {
   "cell_type": "code",
   "execution_count": 21,
   "source": [
    "import matplotlib.pyplot as plt\n",
    "\n",
    "# plt.scatter(list(duv_means.keys())[4:], list(duv_means.values())[4:])\n",
    "plt.errorbar(list(duv_means.keys())[4:], list(duv_means.values())[4:], yerr=list(duv_stds.values())[4:], fmt='o')\n",
    "plt.show()"
   ],
   "outputs": [
    {
     "output_type": "display_data",
     "data": {
      "text/plain": [
       "<Figure size 432x288 with 1 Axes>"
      ],
      "image/png": "[encoded data removed]"
     },
     "metadata": {
      "needs_background": "light"
     }
    }
   ],
   "metadata": {}
  },
  {
   "cell_type": "markdown",
   "source": [
    "# Forward Backward Consistency"
   ],
   "metadata": {}
  },
  {
   "cell_type": "code",
   "execution_count": null,
   "source": [],
   "outputs": [],
   "metadata": {}
  }
 ],
 "metadata": {
  "interpreter": {
   "hash": "efe34164bbb50e70fce224383f42acab6a26dd9dc9fafc86c4e503220a8c76a1"
  },
  "kernelspec": {
   "display_name": "Python 3.7.6 64-bit ('hil': conda)",
   "name": "python3"
  },
  "language_info": {
   "name": "python",
   "version": ""
  },
  "orig_nbformat": 4
 },
 "nbformat": 4,
 "nbformat_minor": 2
}