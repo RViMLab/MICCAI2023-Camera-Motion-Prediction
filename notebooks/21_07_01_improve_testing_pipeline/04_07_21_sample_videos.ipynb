{
 "cells": [
  {
   "cell_type": "code",
   "execution_count": 12,
   "metadata": {},
   "outputs": [],
   "source": [
    "import sys\n",
    "from dotmap import DotMap\n",
    "\n",
    "sys.path.append('../../')\n",
    "\n",
    "from utils.io import load_yaml\n",
    "\n",
    "server = 'local'\n",
    "server = DotMap(load_yaml('../../config/servers.yml')[server])"
   ]
  },
  {
   "cell_type": "code",
   "execution_count": 13,
   "metadata": {},
   "outputs": [
    {
     "data": {
      "text/plain": [
       "[{'module': 'utils.transforms',\n",
       "  'type': 'Crop',\n",
       "  'kwargs': {'top_left_corner': [58, 139],\n",
       "   'shape': [421, 555],\n",
       "   'order': 'chw'}},\n",
       " {'module': 'torchvision.transforms',\n",
       "  'type': 'Resize',\n",
       "  'kwargs': {'size': [480, 640]}},\n",
       " {'module': 'kornia.color', 'type': 'RgbToBgr', 'kwargs': {}}]"
      ]
     },
     "execution_count": 13,
     "metadata": {},
     "output_type": "execute_result"
    }
   ],
   "source": [
    "import pandas as pd\n",
    "\n",
    "meta_df_name = '../21_06_21_cholec80_dissection/cholec80_splits_transforms.pkl'\n",
    "meta_df = pd.read_pickle(meta_df_name)\n",
    "meta_df.aug_transforms = None  # no transforms for evaluation\n",
    "meta_df.pre_transforms = meta_df.pre_transforms.transform(lambda x:\n",
    "    [\n",
    "        x[0],\n",
    "        {\n",
    "            'module': 'torchvision.transforms',\n",
    "            'type': 'Resize',\n",
    "            'kwargs': {'size': [480, 640]}\n",
    "        },\n",
    "        {\n",
    "            'module': 'kornia.color',\n",
    "            'type': 'RgbToBgr',\n",
    "            'kwargs': {}\n",
    "        }\n",
    "    ]\n",
    ")\n",
    "\n",
    "\n",
    "# meta_df.pre_transforms.iloc[0].append(\n",
    "#     {\n",
    "#         'module': 'kornia.color',\n",
    "#         'type': 'RgbToBgr',\n",
    "#         'kwargs': {}\n",
    "#     }\n",
    "# )\n",
    "# meta_df\n",
    "meta_df.train = False\n",
    "meta_df_sample = meta_df.sample(frac=0.1, random_state=42)\n",
    "meta_df_sample.train = True\n",
    "meta_df.update(meta_df_sample)\n",
    "meta_df.to_pickle('cholec80_splits_transforms.pkl')\n",
    "meta_df.iloc[0].pre_transforms"
   ]
  },
  {
   "cell_type": "code",
   "execution_count": 14,
   "metadata": {},
   "outputs": [
    {
     "name": "stdout",
     "output_type": "stream",
     "text": [
      "\n",
      "Looking for cholec80_fraction_shuffle_splits_test_md.pkl\n",
      "Found.\n"
     ]
    }
   ],
   "source": [
    "import os\n",
    "import pandas as pd\n",
    "from dotmap import DotMap\n",
    "\n",
    "from utils.io import load_yaml\n",
    "from utils.io import load_pickle, save_pickle\n",
    "from lightning_data_modules import VideoDataModule\n",
    "\n",
    "# shuffle meta df\n",
    "meta_df = meta_df.sample(frac=0.1, random_state=1)\n",
    "\n",
    "test_md_name = 'cholec80_fraction_shuffle_splits_test_md.pkl' # -> 'cholec80_fraction_shuffle_splits_test_md_full.pkl'\n",
    "test_md = None\n",
    "print('\\nLooking for {}'.format(test_md_name))\n",
    "if os.path.exists(test_md_name):\n",
    "    test_md = load_pickle(test_md_name)\n",
    "    print('Found.')\n",
    "else:\n",
    "    print('Could not find {}. Generating metadata.'.format(test_md_name))\n",
    "\n",
    "# load cholec80 splits\n",
    "prefix = server.database.location\n",
    "clip_length_in_frames = 10\n",
    "frames_between_clips = clip_length_in_frames\n",
    "frame_rate = 5\n",
    "train_split = 0.8\n",
    "batch_size = 1\n",
    "num_workers = 4\n",
    "random_state = 42\n",
    "\n",
    "dm = VideoDataModule(\n",
    "    meta_df,\n",
    "    prefix=prefix,\n",
    "    clip_length_in_frames=clip_length_in_frames,\n",
    "    frames_between_clips=frames_between_clips,\n",
    "    frame_rate=frame_rate,\n",
    "    train_split=train_split,\n",
    "    batch_size=batch_size,\n",
    "    num_workers=num_workers,\n",
    "    random_state=random_state,\n",
    "    test_metadata=test_md\n",
    ")\n",
    "\n",
    "_, _, test_md = dm.setup('test')\n",
    "\n",
    "# store metadata\n",
    "save_pickle(test_md_name, test_md)\n"
   ]
  },
  {
   "cell_type": "code",
   "execution_count": 15,
   "metadata": {},
   "outputs": [
    {
     "name": "stderr",
     "output_type": "stream",
     "text": [
      "  0%|          | 0/480 [00:00<?, ?it/s]/home/martin/miniconda3/envs/hil/lib/python3.7/site-packages/torchvision/io/video.py:116: UserWarning: The pts_unit 'pts' gives wrong results and will be removed in a follow-up version. Please use pts_unit 'sec'.\n",
      "  \"The pts_unit 'pts' gives wrong results and will be removed in a \"\n",
      "/home/martin/miniconda3/envs/hil/lib/python3.7/site-packages/torchvision/io/video.py:116: UserWarning: The pts_unit 'pts' gives wrong results and will be removed in a follow-up version. Please use pts_unit 'sec'.\n",
      "  \"The pts_unit 'pts' gives wrong results and will be removed in a \"\n",
      "/home/martin/miniconda3/envs/hil/lib/python3.7/site-packages/torchvision/io/video.py:116: UserWarning: The pts_unit 'pts' gives wrong results and will be removed in a follow-up version. Please use pts_unit 'sec'.\n",
      "  \"The pts_unit 'pts' gives wrong results and will be removed in a \"\n",
      "/home/martin/miniconda3/envs/hil/lib/python3.7/site-packages/torchvision/io/video.py:116: UserWarning: The pts_unit 'pts' gives wrong results and will be removed in a follow-up version. Please use pts_unit 'sec'.\n",
      "  \"The pts_unit 'pts' gives wrong results and will be removed in a \"\n",
      " 21%|██        | 99/480 [00:32<02:06,  3.02it/s]\n"
     ]
    }
   ],
   "source": [
    "import cv2\n",
    "import numpy as np\n",
    "import os\n",
    "from kornia import tensor_to_image\n",
    "from tqdm import tqdm\n",
    "\n",
    "from utils.io import generate_path\n",
    "\n",
    "test_dl = dm.test_dataloader()\n",
    "\n",
    "cnt = 0\n",
    "max_cnt = 100\n",
    "for batch in tqdm(test_dl):\n",
    "    vid, aug_vid, frame_rate, video_fps, video_idx, idx = batch\n",
    "\n",
    "    path = 'out/homography_labelling/vid_idx_{}/sample_idx_{}'.format(video_idx.item(), idx.item())\n",
    "    generate_path(path)\n",
    "    for frame_idx, frame in enumerate(vid[0]):\n",
    "\n",
    "        \n",
    "\n",
    "        frame = tensor_to_image(frame)\n",
    "\n",
    "        cv2.imwrite(os.path.join(path, 'frame_idx_{}.png'.format(frame_idx)), (frame*255).astype(np.uint8))\n",
    "        # cv2.imshow('i', frame)\n",
    "        # cv2.waitKey()\n",
    "\n",
    "    cnt += 1\n",
    "\n",
    "    if cnt >= max_cnt:\n",
    "        break\n",
    "\n",
    "cv2.destroyAllWindows()"
   ]
  },
  {
   "cell_type": "code",
   "execution_count": null,
   "metadata": {},
   "outputs": [],
   "source": []
  }
 ],
 "metadata": {
  "interpreter": {
   "hash": "efe34164bbb50e70fce224383f42acab6a26dd9dc9fafc86c4e503220a8c76a1"
  },
  "kernelspec": {
   "display_name": "Python 3.7.6 64-bit ('hil': conda)",
   "name": "python3"
  },
  "language_info": {
   "codemirror_mode": {
    "name": "ipython",
    "version": 3
   },
   "file_extension": ".py",
   "mimetype": "text/x-python",
   "name": "python",
   "nbconvert_exporter": "python",
   "pygments_lexer": "ipython3",
   "version": "3.7.6"
  },
  "orig_nbformat": 4
 },
 "nbformat": 4,
 "nbformat_minor": 2
}