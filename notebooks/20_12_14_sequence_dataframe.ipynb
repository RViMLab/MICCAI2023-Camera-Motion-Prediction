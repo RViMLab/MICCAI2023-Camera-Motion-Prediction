{
 "metadata": {
  "language_info": {
   "codemirror_mode": {
    "name": "ipython",
    "version": 3
   },
   "file_extension": ".py",
   "mimetype": "text/x-python",
   "name": "python",
   "nbconvert_exporter": "python",
   "pygments_lexer": "ipython3",
   "version": "3.7.6-final"
  },
  "orig_nbformat": 2,
  "kernelspec": {
   "name": "python3",
   "display_name": "Python 3",
   "language": "python"
  }
 },
 "nbformat": 4,
 "nbformat_minor": 2,
 "cells": [
  {
   "cell_type": "code",
   "execution_count": 2,
   "metadata": {},
   "outputs": [],
   "source": [
    "import os\n",
    "import pandas as pd\n",
    "import sys\n",
    "from dotmap import DotMap\n",
    "\n",
    "sys.path.append('../')\n",
    "\n",
    "from utils.io import load_yaml"
   ]
  },
  {
   "cell_type": "code",
   "execution_count": 5,
   "metadata": {},
   "outputs": [
    {
     "output_type": "execute_result",
     "data": {
      "text/plain": [
       "                  file                                path vid_idx frame_idx  \\\n",
       "0          frame_0.png   without_camera_motion/train/vid_4       0         0   \n",
       "1          frame_1.png   without_camera_motion/train/vid_4       0         1   \n",
       "2          frame_2.png   without_camera_motion/train/vid_4       0         2   \n",
       "3          frame_3.png   without_camera_motion/train/vid_4       0         3   \n",
       "4          frame_4.png   without_camera_motion/train/vid_4       0         4   \n",
       "...                ...                                 ...     ...       ...   \n",
       "197836  frame_1404.png  without_camera_motion/test/vid_447       0      1404   \n",
       "197837  frame_1405.png  without_camera_motion/test/vid_447       0      1405   \n",
       "197838  frame_1406.png  without_camera_motion/test/vid_447       0      1406   \n",
       "197839  frame_1407.png  without_camera_motion/test/vid_447       0      1407   \n",
       "197840  frame_1408.png  without_camera_motion/test/vid_447       0      1408   \n",
       "\n",
       "                                                 database  \n",
       "0       {'name': 'SurgVisDom_test_no_indicators_withou...  \n",
       "1       {'name': 'SurgVisDom_test_no_indicators_withou...  \n",
       "2       {'name': 'SurgVisDom_test_no_indicators_withou...  \n",
       "3       {'name': 'SurgVisDom_test_no_indicators_withou...  \n",
       "4       {'name': 'SurgVisDom_test_no_indicators_withou...  \n",
       "...                                                   ...  \n",
       "197836  {'name': 'Giannarou_without_camera_motion', 't...  \n",
       "197837  {'name': 'Giannarou_without_camera_motion', 't...  \n",
       "197838  {'name': 'Giannarou_without_camera_motion', 't...  \n",
       "197839  {'name': 'Giannarou_without_camera_motion', 't...  \n",
       "197840  {'name': 'Giannarou_without_camera_motion', 't...  \n",
       "\n",
       "[197841 rows x 5 columns]"
      ],
      "text/html": "<div>\n<style scoped>\n    .dataframe tbody tr th:only-of-type {\n        vertical-align: middle;\n    }\n\n    .dataframe tbody tr th {\n        vertical-align: top;\n    }\n\n    .dataframe thead th {\n        text-align: right;\n    }\n</style>\n<table border=\"1\" class=\"dataframe\">\n  <thead>\n    <tr style=\"text-align: right;\">\n      <th></th>\n      <th>file</th>\n      <th>path</th>\n      <th>vid_idx</th>\n      <th>frame_idx</th>\n      <th>database</th>\n    </tr>\n  </thead>\n  <tbody>\n    <tr>\n      <th>0</th>\n      <td>frame_0.png</td>\n      <td>without_camera_motion/train/vid_4</td>\n      <td>0</td>\n      <td>0</td>\n      <td>{'name': 'SurgVisDom_test_no_indicators_withou...</td>\n    </tr>\n    <tr>\n      <th>1</th>\n      <td>frame_1.png</td>\n      <td>without_camera_motion/train/vid_4</td>\n      <td>0</td>\n      <td>1</td>\n      <td>{'name': 'SurgVisDom_test_no_indicators_withou...</td>\n    </tr>\n    <tr>\n      <th>2</th>\n      <td>frame_2.png</td>\n      <td>without_camera_motion/train/vid_4</td>\n      <td>0</td>\n      <td>2</td>\n      <td>{'name': 'SurgVisDom_test_no_indicators_withou...</td>\n    </tr>\n    <tr>\n      <th>3</th>\n      <td>frame_3.png</td>\n      <td>without_camera_motion/train/vid_4</td>\n      <td>0</td>\n      <td>3</td>\n      <td>{'name': 'SurgVisDom_test_no_indicators_withou...</td>\n    </tr>\n    <tr>\n      <th>4</th>\n      <td>frame_4.png</td>\n      <td>without_camera_motion/train/vid_4</td>\n      <td>0</td>\n      <td>4</td>\n      <td>{'name': 'SurgVisDom_test_no_indicators_withou...</td>\n    </tr>\n    <tr>\n      <th>...</th>\n      <td>...</td>\n      <td>...</td>\n      <td>...</td>\n      <td>...</td>\n      <td>...</td>\n    </tr>\n    <tr>\n      <th>197836</th>\n      <td>frame_1404.png</td>\n      <td>without_camera_motion/test/vid_447</td>\n      <td>0</td>\n      <td>1404</td>\n      <td>{'name': 'Giannarou_without_camera_motion', 't...</td>\n    </tr>\n    <tr>\n      <th>197837</th>\n      <td>frame_1405.png</td>\n      <td>without_camera_motion/test/vid_447</td>\n      <td>0</td>\n      <td>1405</td>\n      <td>{'name': 'Giannarou_without_camera_motion', 't...</td>\n    </tr>\n    <tr>\n      <th>197838</th>\n      <td>frame_1406.png</td>\n      <td>without_camera_motion/test/vid_447</td>\n      <td>0</td>\n      <td>1406</td>\n      <td>{'name': 'Giannarou_without_camera_motion', 't...</td>\n    </tr>\n    <tr>\n      <th>197839</th>\n      <td>frame_1407.png</td>\n      <td>without_camera_motion/test/vid_447</td>\n      <td>0</td>\n      <td>1407</td>\n      <td>{'name': 'Giannarou_without_camera_motion', 't...</td>\n    </tr>\n    <tr>\n      <th>197840</th>\n      <td>frame_1408.png</td>\n      <td>without_camera_motion/test/vid_447</td>\n      <td>0</td>\n      <td>1408</td>\n      <td>{'name': 'Giannarou_without_camera_motion', 't...</td>\n    </tr>\n  </tbody>\n</table>\n<p>197841 rows × 5 columns</p>\n</div>"
     },
     "metadata": {},
     "execution_count": 5
    }
   ],
   "source": [
    "server = 'local'\n",
    "server = DotMap(load_yaml('../configs/servers.yml')[server])\n",
    "\n",
    "prefix = server.database.location\n",
    "\n",
    "\n",
    "prefix = os.path.join(prefix, 'camera_motion_separated_png/without_camera_motion')\n",
    "# prefix = os.path.join(prefix, 'camera_motion_separated_png/with_camera_motion')\n",
    "# prefix = os.path.join(prefix, 'media/martin/Samsung_T5/data/endoscopic_data/tmp')\n",
    "\n",
    "df = pd.read_pickle(os.path.join(prefix, 'log_without_camera_motion.pkl'))\n",
    "# df = pd.read_pickle(os.path.join(prefix, 'log_with_camera_motion.pkl'))\n",
    "# df = pd.read_pickle(os.path.join(prefix, 'cholec80.pkl'))\n",
    "df"
   ]
  },
  {
   "cell_type": "code",
   "execution_count": 6,
   "metadata": {
    "tags": []
   },
   "outputs": [
    {
     "output_type": "stream",
     "name": "stdout",
     "text": [
      "197840/197841"
     ]
    },
    {
     "output_type": "execute_result",
     "data": {
      "text/plain": [
       "                                                 file_seq  \\\n",
       "0       [frame_0.png, frame_1.png, frame_2.png, frame_...   \n",
       "1       [frame_1.png, frame_2.png, frame_3.png, frame_...   \n",
       "2       [frame_2.png, frame_3.png, frame_4.png, frame_...   \n",
       "3       [frame_3.png, frame_4.png, frame_5.png, frame_...   \n",
       "4       [frame_4.png, frame_5.png, frame_6.png, frame_...   \n",
       "...                                                   ...   \n",
       "187404  [frame_1380.png, frame_1381.png, frame_1382.pn...   \n",
       "187405  [frame_1381.png, frame_1382.png, frame_1383.pn...   \n",
       "187406  [frame_1382.png, frame_1383.png, frame_1384.pn...   \n",
       "187407  [frame_1383.png, frame_1384.png, frame_1385.pn...   \n",
       "187408  [frame_1384.png, frame_1385.png, frame_1386.pn...   \n",
       "\n",
       "                                      path vid_idx  \\\n",
       "0        without_camera_motion/train/vid_4       0   \n",
       "1        without_camera_motion/train/vid_4       0   \n",
       "2        without_camera_motion/train/vid_4       0   \n",
       "3        without_camera_motion/train/vid_4       0   \n",
       "4        without_camera_motion/train/vid_4       0   \n",
       "...                                    ...     ...   \n",
       "187404  without_camera_motion/test/vid_447       0   \n",
       "187405  without_camera_motion/test/vid_447       0   \n",
       "187406  without_camera_motion/test/vid_447       0   \n",
       "187407  without_camera_motion/test/vid_447       0   \n",
       "187408  without_camera_motion/test/vid_447       0   \n",
       "\n",
       "                                               frame_idcs  \\\n",
       "0       [0, 1, 2, 3, 4, 5, 6, 7, 8, 9, 10, 11, 12, 13,...   \n",
       "1       [1, 2, 3, 4, 5, 6, 7, 8, 9, 10, 11, 12, 13, 14...   \n",
       "2       [2, 3, 4, 5, 6, 7, 8, 9, 10, 11, 12, 13, 14, 1...   \n",
       "3       [3, 4, 5, 6, 7, 8, 9, 10, 11, 12, 13, 14, 15, ...   \n",
       "4       [4, 5, 6, 7, 8, 9, 10, 11, 12, 13, 14, 15, 16,...   \n",
       "...                                                   ...   \n",
       "187404  [1380, 1381, 1382, 1383, 1384, 1385, 1386, 138...   \n",
       "187405  [1381, 1382, 1383, 1384, 1385, 1386, 1387, 138...   \n",
       "187406  [1382, 1383, 1384, 1385, 1386, 1387, 1388, 138...   \n",
       "187407  [1383, 1384, 1385, 1386, 1387, 1388, 1389, 139...   \n",
       "187408  [1384, 1385, 1386, 1387, 1388, 1389, 1390, 139...   \n",
       "\n",
       "                                                 database  \n",
       "0       {'name': 'SurgVisDom_test_no_indicators_withou...  \n",
       "1       {'name': 'SurgVisDom_test_no_indicators_withou...  \n",
       "2       {'name': 'SurgVisDom_test_no_indicators_withou...  \n",
       "3       {'name': 'SurgVisDom_test_no_indicators_withou...  \n",
       "4       {'name': 'SurgVisDom_test_no_indicators_withou...  \n",
       "...                                                   ...  \n",
       "187404  {'name': 'Giannarou_without_camera_motion', 't...  \n",
       "187405  {'name': 'Giannarou_without_camera_motion', 't...  \n",
       "187406  {'name': 'Giannarou_without_camera_motion', 't...  \n",
       "187407  {'name': 'Giannarou_without_camera_motion', 't...  \n",
       "187408  {'name': 'Giannarou_without_camera_motion', 't...  \n",
       "\n",
       "[187409 rows x 5 columns]"
      ],
      "text/html": "<div>\n<style scoped>\n    .dataframe tbody tr th:only-of-type {\n        vertical-align: middle;\n    }\n\n    .dataframe tbody tr th {\n        vertical-align: top;\n    }\n\n    .dataframe thead th {\n        text-align: right;\n    }\n</style>\n<table border=\"1\" class=\"dataframe\">\n  <thead>\n    <tr style=\"text-align: right;\">\n      <th></th>\n      <th>file_seq</th>\n      <th>path</th>\n      <th>vid_idx</th>\n      <th>frame_idcs</th>\n      <th>database</th>\n    </tr>\n  </thead>\n  <tbody>\n    <tr>\n      <th>0</th>\n      <td>[frame_0.png, frame_1.png, frame_2.png, frame_...</td>\n      <td>without_camera_motion/train/vid_4</td>\n      <td>0</td>\n      <td>[0, 1, 2, 3, 4, 5, 6, 7, 8, 9, 10, 11, 12, 13,...</td>\n      <td>{'name': 'SurgVisDom_test_no_indicators_withou...</td>\n    </tr>\n    <tr>\n      <th>1</th>\n      <td>[frame_1.png, frame_2.png, frame_3.png, frame_...</td>\n      <td>without_camera_motion/train/vid_4</td>\n      <td>0</td>\n      <td>[1, 2, 3, 4, 5, 6, 7, 8, 9, 10, 11, 12, 13, 14...</td>\n      <td>{'name': 'SurgVisDom_test_no_indicators_withou...</td>\n    </tr>\n    <tr>\n      <th>2</th>\n      <td>[frame_2.png, frame_3.png, frame_4.png, frame_...</td>\n      <td>without_camera_motion/train/vid_4</td>\n      <td>0</td>\n      <td>[2, 3, 4, 5, 6, 7, 8, 9, 10, 11, 12, 13, 14, 1...</td>\n      <td>{'name': 'SurgVisDom_test_no_indicators_withou...</td>\n    </tr>\n    <tr>\n      <th>3</th>\n      <td>[frame_3.png, frame_4.png, frame_5.png, frame_...</td>\n      <td>without_camera_motion/train/vid_4</td>\n      <td>0</td>\n      <td>[3, 4, 5, 6, 7, 8, 9, 10, 11, 12, 13, 14, 15, ...</td>\n      <td>{'name': 'SurgVisDom_test_no_indicators_withou...</td>\n    </tr>\n    <tr>\n      <th>4</th>\n      <td>[frame_4.png, frame_5.png, frame_6.png, frame_...</td>\n      <td>without_camera_motion/train/vid_4</td>\n      <td>0</td>\n      <td>[4, 5, 6, 7, 8, 9, 10, 11, 12, 13, 14, 15, 16,...</td>\n      <td>{'name': 'SurgVisDom_test_no_indicators_withou...</td>\n    </tr>\n    <tr>\n      <th>...</th>\n      <td>...</td>\n      <td>...</td>\n      <td>...</td>\n      <td>...</td>\n      <td>...</td>\n    </tr>\n    <tr>\n      <th>187404</th>\n      <td>[frame_1380.png, frame_1381.png, frame_1382.pn...</td>\n      <td>without_camera_motion/test/vid_447</td>\n      <td>0</td>\n      <td>[1380, 1381, 1382, 1383, 1384, 1385, 1386, 138...</td>\n      <td>{'name': 'Giannarou_without_camera_motion', 't...</td>\n    </tr>\n    <tr>\n      <th>187405</th>\n      <td>[frame_1381.png, frame_1382.png, frame_1383.pn...</td>\n      <td>without_camera_motion/test/vid_447</td>\n      <td>0</td>\n      <td>[1381, 1382, 1383, 1384, 1385, 1386, 1387, 138...</td>\n      <td>{'name': 'Giannarou_without_camera_motion', 't...</td>\n    </tr>\n    <tr>\n      <th>187406</th>\n      <td>[frame_1382.png, frame_1383.png, frame_1384.pn...</td>\n      <td>without_camera_motion/test/vid_447</td>\n      <td>0</td>\n      <td>[1382, 1383, 1384, 1385, 1386, 1387, 1388, 138...</td>\n      <td>{'name': 'Giannarou_without_camera_motion', 't...</td>\n    </tr>\n    <tr>\n      <th>187407</th>\n      <td>[frame_1383.png, frame_1384.png, frame_1385.pn...</td>\n      <td>without_camera_motion/test/vid_447</td>\n      <td>0</td>\n      <td>[1383, 1384, 1385, 1386, 1387, 1388, 1389, 139...</td>\n      <td>{'name': 'Giannarou_without_camera_motion', 't...</td>\n    </tr>\n    <tr>\n      <th>187408</th>\n      <td>[frame_1384.png, frame_1385.png, frame_1386.pn...</td>\n      <td>without_camera_motion/test/vid_447</td>\n      <td>0</td>\n      <td>[1384, 1385, 1386, 1387, 1388, 1389, 1390, 139...</td>\n      <td>{'name': 'Giannarou_without_camera_motion', 't...</td>\n    </tr>\n  </tbody>\n</table>\n<p>187409 rows × 5 columns</p>\n</div>"
     },
     "metadata": {},
     "execution_count": 6
    }
   ],
   "source": [
    "df_out = pd.DataFrame(columns=['file_seq', 'path', 'vid_idx', 'frame_idcs', 'database'])\n",
    "\n",
    "seq_len = 25\n",
    "\n",
    "for idx, row in df.iterrows():\n",
    "    file_seq = []\n",
    "    frame_idcs = []\n",
    "\n",
    "    print('\\r{}/{}'.format(idx, len(df)), end='')\n",
    "\n",
    "    for i in range(seq_len):\n",
    "        if idx+i >= len(df):\n",
    "            break \n",
    "        if df.iloc[idx]['path'] != df.iloc[idx+i]['path']:\n",
    "            break\n",
    "        file_seq.append(df.iloc[idx+i]['file'])\n",
    "        frame_idcs.append(df.iloc[idx+i]['frame_idx'])\n",
    "\n",
    "    if len(file_seq) == seq_len:\n",
    "        df_out = df_out.append({\n",
    "            'file_seq': file_seq,\n",
    "            'path': row.path,\n",
    "            'vid_idx': row.vid_idx,\n",
    "            'frame_idcs': frame_idcs,\n",
    "            'database': row.database\n",
    "        }, ignore_index=True)\n",
    "\n",
    "out_path = 'log_without_camera_motion_seq_len_{}'.format(seq_len)\n",
    "# out_path = 'log_with_camera_motion_seq_len_{}'.format(seq_len)\n",
    "# out_path = 'cholec80_seq_len_{}'.format(seq_len)\n",
    "\n",
    "df_out.to_pickle(os.path.join(prefix, out_path + '.pkl'))\n",
    "df_out.to_csv(os.path.join(prefix, out_path + '.csv'))\n",
    "\n",
    "df_out"
   ]
  },
  {
   "cell_type": "code",
   "execution_count": 12,
   "metadata": {},
   "outputs": [],
   "source": [
    "# perform post processing on dataset\n",
    "seq_len = 25\n",
    "out_path = 'log_without_camera_motion_seq_len_{}'.format(seq_len)\n",
    "\n",
    "df = pd.read_pickle(os.path.join(prefix, out_path + '.pkl'))\n",
    "\n",
    "# alter path, and add test column\n",
    "df['path'] = df['path'].apply(lambda x: x.replace('without_camera_motion/', ''))\n",
    "df['test'] = df['database'].apply(lambda x: x['test'])\n",
    "\n",
    "# save updated dataset\n",
    "df.to_pickle(os.path.join(prefix, out_path + '.pkl'))\n",
    "df.to_csv(os.path.join(prefix, out_path + '.csv'))"
   ]
  },
  {
   "cell_type": "code",
   "execution_count": 4,
   "metadata": {},
   "outputs": [],
   "source": [
    "from datasets import PandasHomographyDataset\n",
    "\n",
    "prefix = '/media/martin/Samsung_T5/data/endoscopic_data/camera_motion_separated_png/without_camera_motion'\n",
    "\n",
    "df = pd.read_pickle(os.path.join(prefix, 'log_without_camera_motion_seq_len_2.pkl'))\n",
    "\n",
    "pd = PandasHomographyDataset(df, prefix, 32, [480, 640])\n",
    "for imgs in pd:\n",
    "    cv2.imshow('img0', imgs['img_seq'][0])\n",
    "    cv2.imshow('img1', imgs['img_seq'][1])\n",
    "    cv2.waitKey() "
   ]
  },
  {
   "cell_type": "code",
   "execution_count": 9,
   "metadata": {},
   "outputs": [
    {
     "output_type": "execute_result",
     "data": {
      "text/plain": [
       "               folder            file  vid frame   test\n",
       "0          test/vid_0     frame_0.png    0     0   True\n",
       "1          test/vid_0     frame_1.png    0     1   True\n",
       "2          test/vid_0     frame_2.png    0     2   True\n",
       "3          test/vid_0     frame_3.png    0     3   True\n",
       "4          test/vid_0     frame_4.png    0     4   True\n",
       "...               ...             ...  ...   ...    ...\n",
       "197836  train/vid_448  frame_6529.png  448  6529  False\n",
       "197837  train/vid_448  frame_6530.png  448  6530  False\n",
       "197838  train/vid_448  frame_6531.png  448  6531  False\n",
       "197839  train/vid_448  frame_6532.png  448  6532  False\n",
       "197840  train/vid_448  frame_6533.png  448  6533  False\n",
       "\n",
       "[197841 rows x 5 columns]"
      ],
      "text/html": "<div>\n<style scoped>\n    .dataframe tbody tr th:only-of-type {\n        vertical-align: middle;\n    }\n\n    .dataframe tbody tr th {\n        vertical-align: top;\n    }\n\n    .dataframe thead th {\n        text-align: right;\n    }\n</style>\n<table border=\"1\" class=\"dataframe\">\n  <thead>\n    <tr style=\"text-align: right;\">\n      <th></th>\n      <th>folder</th>\n      <th>file</th>\n      <th>vid</th>\n      <th>frame</th>\n      <th>test</th>\n    </tr>\n  </thead>\n  <tbody>\n    <tr>\n      <th>0</th>\n      <td>test/vid_0</td>\n      <td>frame_0.png</td>\n      <td>0</td>\n      <td>0</td>\n      <td>True</td>\n    </tr>\n    <tr>\n      <th>1</th>\n      <td>test/vid_0</td>\n      <td>frame_1.png</td>\n      <td>0</td>\n      <td>1</td>\n      <td>True</td>\n    </tr>\n    <tr>\n      <th>2</th>\n      <td>test/vid_0</td>\n      <td>frame_2.png</td>\n      <td>0</td>\n      <td>2</td>\n      <td>True</td>\n    </tr>\n    <tr>\n      <th>3</th>\n      <td>test/vid_0</td>\n      <td>frame_3.png</td>\n      <td>0</td>\n      <td>3</td>\n      <td>True</td>\n    </tr>\n    <tr>\n      <th>4</th>\n      <td>test/vid_0</td>\n      <td>frame_4.png</td>\n      <td>0</td>\n      <td>4</td>\n      <td>True</td>\n    </tr>\n    <tr>\n      <th>...</th>\n      <td>...</td>\n      <td>...</td>\n      <td>...</td>\n      <td>...</td>\n      <td>...</td>\n    </tr>\n    <tr>\n      <th>197836</th>\n      <td>train/vid_448</td>\n      <td>frame_6529.png</td>\n      <td>448</td>\n      <td>6529</td>\n      <td>False</td>\n    </tr>\n    <tr>\n      <th>197837</th>\n      <td>train/vid_448</td>\n      <td>frame_6530.png</td>\n      <td>448</td>\n      <td>6530</td>\n      <td>False</td>\n    </tr>\n    <tr>\n      <th>197838</th>\n      <td>train/vid_448</td>\n      <td>frame_6531.png</td>\n      <td>448</td>\n      <td>6531</td>\n      <td>False</td>\n    </tr>\n    <tr>\n      <th>197839</th>\n      <td>train/vid_448</td>\n      <td>frame_6532.png</td>\n      <td>448</td>\n      <td>6532</td>\n      <td>False</td>\n    </tr>\n    <tr>\n      <th>197840</th>\n      <td>train/vid_448</td>\n      <td>frame_6533.png</td>\n      <td>448</td>\n      <td>6533</td>\n      <td>False</td>\n    </tr>\n  </tbody>\n</table>\n<p>197841 rows × 5 columns</p>\n</div>"
     },
     "metadata": {},
     "execution_count": 9
    }
   ],
   "source": [
    "import os\n",
    "import sys\n",
    "\n",
    "sys.path.append('../')\n",
    "\n",
    "from dotmap import DotMap\n",
    "from utils.io import scan2df, recursive_scan2df, load_yaml\n",
    "\n",
    "server = 'local'\n",
    "server = DotMap(load_yaml('../configs/servers.yml')[server])\n",
    "\n",
    "prefix = server.database.location\n",
    "prefix = os.path.join(prefix, 'camera_motion_separated_png/without_camera_motion')\n",
    "# prefix = os.path.join(prefix, 'camera_motion_separated_png/with_camera_motion')\n",
    "\n",
    "# create a simplified dataframe\n",
    "postfix = '.png'\n",
    "df = recursive_scan2df(prefix, postfix)\n",
    "df['vid'] = df.folder.apply(lambda x: x.split('_')[-1])\n",
    "df['frame'] = df.file.apply(lambda x: x.split('_')[-1].replace(postfix, ''))\n",
    "\n",
    "# add test column\n",
    "df['test'] = df.folder.apply(lambda x: 'test' in x)\n",
    "\n",
    "# save dataset\n",
    "out_path = 'light_log_without_camera_motion'\n",
    "# out_path = 'light_log_with_camera_motion'\n",
    "\n",
    "df.to_pickle(os.path.join(prefix, out_path + '.pkl'))\n",
    "df.to_csv(os.path.join(prefix, out_path + '.csv'))\n",
    "df"
   ]
  },
  {
   "cell_type": "code",
   "execution_count": null,
   "metadata": {},
   "outputs": [],
   "source": []
  }
 ]
}