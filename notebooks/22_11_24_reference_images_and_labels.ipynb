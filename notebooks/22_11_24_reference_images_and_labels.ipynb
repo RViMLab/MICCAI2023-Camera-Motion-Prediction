{
 "cells": [
  {
   "cell_type": "markdown",
   "metadata": {},
   "source": [
    "## Train/Test Split"
   ]
  },
  {
   "cell_type": "code",
   "execution_count": 5,
   "metadata": {},
   "outputs": [],
   "source": [
    "import os\n",
    "import pandas as pd\n",
    "from utils.processing import unique_video_train_test\n",
    "\n",
    "prefix = \"/media/martin/Samsung_T5/data/endoscopic_data/cholec80_frames\"\n",
    "in_pkl = \"pre_processed_5th_frame_log\"\n",
    "\n",
    "df = pd.read_pickle(os.path.join(prefix, in_pkl + \".pkl\"))\n",
    "df = unique_video_train_test(df)\n",
    "df.to_pickle(os.path.join(prefix, in_pkl + \"_test_train.pkl\"))"
   ]
  },
  {
   "cell_type": "markdown",
   "metadata": {},
   "source": [
    "## Labels Dataframe"
   ]
  },
  {
   "cell_type": "code",
   "execution_count": 3,
   "metadata": {},
   "outputs": [
    {
     "name": "stdout",
     "output_type": "stream",
     "text": [
      "                       Phase  Grasper  Bipolar  Hook  Scissors  Clipper  \\\n",
      "Frame                                                                     \n",
      "0                Preparation      1.0      0.0   0.0       0.0      0.0   \n",
      "1                Preparation      NaN      NaN   NaN       NaN      NaN   \n",
      "2                Preparation      NaN      NaN   NaN       NaN      NaN   \n",
      "3                Preparation      NaN      NaN   NaN       NaN      NaN   \n",
      "4                Preparation      NaN      NaN   NaN       NaN      NaN   \n",
      "...                      ...      ...      ...   ...       ...      ...   \n",
      "43096  GallbladderRetraction      NaN      NaN   NaN       NaN      NaN   \n",
      "43097  GallbladderRetraction      NaN      NaN   NaN       NaN      NaN   \n",
      "43098  GallbladderRetraction      NaN      NaN   NaN       NaN      NaN   \n",
      "43099  GallbladderRetraction      NaN      NaN   NaN       NaN      NaN   \n",
      "43100  GallbladderRetraction      NaN      NaN   NaN       NaN      NaN   \n",
      "\n",
      "       Irrigator  SpecimenBag  Unnamed: 0  \n",
      "Frame                                      \n",
      "0            0.0          0.0         NaN  \n",
      "1            NaN          NaN         NaN  \n",
      "2            NaN          NaN         NaN  \n",
      "3            NaN          NaN         NaN  \n",
      "4            NaN          NaN         NaN  \n",
      "...          ...          ...         ...  \n",
      "43096        NaN          NaN         NaN  \n",
      "43097        NaN          NaN         NaN  \n",
      "43098        NaN          NaN         NaN  \n",
      "43099        NaN          NaN         NaN  \n",
      "43100        NaN          NaN         NaN  \n",
      "\n",
      "[4612530 rows x 9 columns]\n"
     ]
    }
   ],
   "source": [
    "import os\n",
    "import numpy as np\n",
    "import pandas as pd\n",
    "from utils.io import recursive_scan2df\n",
    "\n",
    "prefix = \"/media/martin/Samsung_T5/data/endoscopic_data/cholec80_frames\"\n",
    "out_pkl = \"pre_processed_log_test_train_labels.pkl\"\n",
    "\n",
    "df = pd.read_pickle(os.path.join(prefix, in_pkl + \".pkl\"))\n",
    "label_df = pd.DataFrame()\n",
    "\n",
    "phase_prefix = \"/media/martin/Samsung_T5/data/endoscopic_data/cholec80/phase_annotations\"\n",
    "tool_annotation_prefix = \"/media/martin/Samsung_T5/data/endoscopic_data/cholec80/tool_annotations\"\n",
    "\n",
    "phase_df = recursive_scan2df(phase_prefix, \".txt\")\n",
    "tool_annotation_df = recursive_scan2df(tool_annotation_prefix, \".txt\")\n",
    "\n",
    "phase_df, tool_annotation_df = phase_df.sort_values(\"file\").reset_index(drop=True), tool_annotation_df.sort_values(\"file\").reset_index(drop=True)\n",
    "\n",
    "for (idx, phase_txt_row), (_, tool_annotation_txt_row) in zip(phase_df.iterrows(), tool_annotation_df.iterrows()):\n",
    "    phase_txt = pd.read_csv(os.path.join(phase_prefix, phase_txt_row.folder, phase_txt_row.file), sep=\"\\t\")\n",
    "    tool_annotation_txt = pd.read_csv(os.path.join(tool_annotation_prefix, tool_annotation_txt_row.folder, tool_annotation_txt_row.file), sep=\"\\t\")\n",
    "\n",
    "    if len(df[df.vid == idx]) != len(phase_txt):\n",
    "        # raise RuntimeError(\"Wrong length at index {}, {}/{}.\".format(idx, len(df[df.vid == idx]), len(phase_txt)))\n",
    "        print(\"Wrong length at index {}, {}/{}.\".format(idx, len(df[df.vid == idx]), len(phase_txt)))\n",
    "        phase_txt = phase_txt[:-1]\n",
    "        # phase_txt.to_csv(os.path.join(phase_prefix, phase_txt_row.folder, phase_txt_row.file), sep=\"\\t\")\n",
    "\n",
    "    # fill missing annotations\n",
    "\n",
    "    # tmp = phase_txt.iloc[tool_annotation_txt.Frame] #pd.concat([phase_txt, tool_annotation_txt])\n",
    "    tmp = phase_txt.set_index(\"Frame\").join(tool_annotation_txt.set_index(\"Frame\"))\n",
    "    # tmp = phase_txt.join(tool_annotation_txt, on=\"Frame\", lsuffix=\"_phase\", rsuffix=\"_tool_annotation\", sort=True)\n",
    "    label_df = label_df.append(tmp)\n",
    "\n",
    "print(label_df)\n",
    "label_df.to_pickle(os.path.join(prefix, out_pkl))\n",
    "\n",
    "\n"
   ]
  },
  {
   "cell_type": "markdown",
   "metadata": {},
   "source": [
    "## Load and Check"
   ]
  },
  {
   "cell_type": "code",
   "execution_count": 4,
   "metadata": {},
   "outputs": [
    {
     "name": "stdout",
     "output_type": "stream",
     "text": [
      "       folder             file vid  frame  \\\n",
      "0       vid_0      frame_0.npy   0      0   \n",
      "1       vid_0      frame_1.npy   0      1   \n",
      "2       vid_0      frame_2.npy   0      2   \n",
      "3       vid_0      frame_3.npy   0      3   \n",
      "4       vid_0      frame_4.npy   0      4   \n",
      "...       ...              ...  ..    ...   \n",
      "43096  vid_79  frame_43096.npy  79  43096   \n",
      "43097  vid_79  frame_43097.npy  79  43097   \n",
      "43098  vid_79  frame_43098.npy  79  43098   \n",
      "43099  vid_79  frame_43099.npy  79  43099   \n",
      "43100  vid_79  frame_43100.npy  79  43100   \n",
      "\n",
      "                                                     duv    duv_mpd  train  \n",
      "0      [[-3.891524076461792, 1.4272427558898926], [1....   2.314646  False  \n",
      "1      [[-1.1083245277404785, 1.033402919769287], [-0...   1.679518  False  \n",
      "2      [[-2.08209228515625, 1.7637698650360107], [0.8...   1.389289  False  \n",
      "3      [[-2.904714584350586, 1.9004476070404053], [2....   1.871081  False  \n",
      "4      [[-0.5867778658866882, 1.8353252410888672], [1...   1.325304  False  \n",
      "...                                                  ...        ...    ...  \n",
      "43096  [[-13.087065696716309, 10.49454116821289], [5....  11.501767   True  \n",
      "43097  [[-5.061000823974609, -1.2895814180374146], [2...   7.526621   True  \n",
      "43098  [[-10.06955337524414, -2.5331084728240967], [3...   8.023624   True  \n",
      "43099  [[-2.3454248905181885, -3.45479679107666], [4....   3.986572   True  \n",
      "43100  [[2.4173126220703125, -3.829885721206665], [6....   7.422328   True  \n",
      "\n",
      "[4612530 rows x 7 columns]\n",
      "                       Phase  Grasper  Bipolar  Hook  Scissors  Clipper  \\\n",
      "Frame                                                                     \n",
      "0                Preparation      1.0      0.0   0.0       0.0      0.0   \n",
      "1                Preparation      NaN      NaN   NaN       NaN      NaN   \n",
      "2                Preparation      NaN      NaN   NaN       NaN      NaN   \n",
      "3                Preparation      NaN      NaN   NaN       NaN      NaN   \n",
      "4                Preparation      NaN      NaN   NaN       NaN      NaN   \n",
      "...                      ...      ...      ...   ...       ...      ...   \n",
      "43096  GallbladderRetraction      NaN      NaN   NaN       NaN      NaN   \n",
      "43097  GallbladderRetraction      NaN      NaN   NaN       NaN      NaN   \n",
      "43098  GallbladderRetraction      NaN      NaN   NaN       NaN      NaN   \n",
      "43099  GallbladderRetraction      NaN      NaN   NaN       NaN      NaN   \n",
      "43100  GallbladderRetraction      NaN      NaN   NaN       NaN      NaN   \n",
      "\n",
      "       Irrigator  SpecimenBag  Unnamed: 0  \n",
      "Frame                                      \n",
      "0            0.0          0.0         NaN  \n",
      "1            NaN          NaN         NaN  \n",
      "2            NaN          NaN         NaN  \n",
      "3            NaN          NaN         NaN  \n",
      "4            NaN          NaN         NaN  \n",
      "...          ...          ...         ...  \n",
      "43096        NaN          NaN         NaN  \n",
      "43097        NaN          NaN         NaN  \n",
      "43098        NaN          NaN         NaN  \n",
      "43099        NaN          NaN         NaN  \n",
      "43100        NaN          NaN         NaN  \n",
      "\n",
      "[4612530 rows x 9 columns]\n"
     ]
    }
   ],
   "source": [
    "import os\n",
    "import pandas as pd\n",
    "\n",
    "prefix = \"/media/martin/Samsung_T5/data/endoscopic_data/cholec80_frames\"\n",
    "data_pkl = \"pre_processed_log_test_train\"\n",
    "label_pkl = \"pre_processed_log_test_train_labels\"\n",
    "\n",
    "df = pd.read_pickle(os.path.join(prefix, data_pkl + \".pkl\"))\n",
    "print(df)\n",
    "df = pd.read_pickle(os.path.join(prefix, label_pkl + \".pkl\"))\n",
    "print(df)\n",
    "\n"
   ]
  },
  {
   "cell_type": "code",
   "execution_count": null,
   "metadata": {},
   "outputs": [],
   "source": []
  }
 ],
 "metadata": {
  "interpreter": {
   "hash": "de43f3610355f051a4a7d1ec68e5cd39983800d0bb5000cb4a591287222bab46"
  },
  "kernelspec": {
   "display_name": "Python 3.9.7 64-bit ('torch110': conda)",
   "language": "python",
   "name": "python3"
  },
  "language_info": {
   "codemirror_mode": {
    "name": "ipython",
    "version": 3
   },
   "file_extension": ".py",
   "mimetype": "text/x-python",
   "name": "python",
   "nbconvert_exporter": "python",
   "pygments_lexer": "ipython3",
   "version": "3.9.7"
  },
  "orig_nbformat": 4
 },
 "nbformat": 4,
 "nbformat_minor": 2
}
