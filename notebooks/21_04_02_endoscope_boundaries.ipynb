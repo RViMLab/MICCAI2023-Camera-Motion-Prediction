{
 "metadata": {
  "language_info": {
   "codemirror_mode": {
    "name": "ipython",
    "version": 3
   },
   "file_extension": ".py",
   "mimetype": "text/x-python",
   "name": "python",
   "nbconvert_exporter": "python",
   "pygments_lexer": "ipython3",
   "version": "3.7.6-final"
  },
  "orig_nbformat": 2,
  "kernelspec": {
   "name": "python376jvsc74a57bd0efe34164bbb50e70fce224383f42acab6a26dd9dc9fafc86c4e503220a8c76a1",
   "display_name": "Python 3.7.6 64-bit"
  },
  "metadata": {
   "interpreter": {
    "hash": "efe34164bbb50e70fce224383f42acab6a26dd9dc9fafc86c4e503220a8c76a1"
   }
  }
 },
 "nbformat": 4,
 "nbformat_minor": 2,
 "cells": [
  {
   "cell_type": "code",
   "execution_count": 1,
   "metadata": {},
   "outputs": [],
   "source": [
    "import sys\n",
    "import os\n",
    "import numpy as np\n",
    "import cv2\n",
    "import matplotlib.pyplot as plt\n",
    "\n",
    "sys.path.append('../')\n",
    "\n",
    "from utils.io import recursive_scan2df\n",
    "from utils import endoscopy"
   ]
  },
  {
   "cell_type": "code",
   "execution_count": 2,
   "metadata": {},
   "outputs": [],
   "source": [
    "folder = 'img/21_04_02_calib'\n",
    "df = recursive_scan2df('{}'.format(folder), '.npy')\n",
    "df\n",
    "\n",
    "# bilateral filter on rgb\n",
    "# doesnt matter if hsv or rgb -> hsv more intuitive though\n",
    "# radius: gradient over search\n",
    "# average area -> if mean > th, valid circle found, else previous or uninitialized\n",
    "\n",
    "crp_count = 0\n",
    "for _, row in df.iterrows():\n",
    "    img = np.load(os.path.join(folder, row.folder, row.file))\n",
    "    # mask_bil_hsv = cv2.cvtColor(img, cv2.COLOR_BGR2GRAY)\n",
    "\n",
    "    bil_img = cv2.bilateralFilter(img, 15, 75, 75) # bilateral on rgb\n",
    "    # bil_img = cv2.fastNlMeansDenoisingColored(img, 10, 10)\n",
    "    bil_hsv = cv2.cvtColor(bil_img, cv2.COLOR_BGR2HSV)\n",
    "\n",
    "    # mask\n",
    "    th = 20\n",
    "    mask_bil_hsv = cv2.bitwise_not(cv2.inRange(bil_hsv, (0, 0, 0), (255, 255, th)))\n",
    "    # mask_bil_hsv = cv2.bitwise_not(cv2.inRange(bil_img, (0, 0, 0), (th, th, th)))\n",
    "\n",
    "    # circle\n",
    "    hsv_center, hsv_radius = endoscopy.boundaryCircle(mask_bil_hsv)\n",
    "    top_left, shape, col_mean, row_mean = endoscopy.boundaryRectangle(mask_bil_hsv)\n",
    "\n",
    "    # confidence measure for elumination\n",
    "    # where(meshgrid - center < radius).mean\n",
    "    level = endoscopy.illuminationLevel(mask_bil_hsv, hsv_center, hsv_radius)\n",
    "\n",
    "    # crop\n",
    "    if level > 0.98:\n",
    "        inner_top_left, inner_shape = endoscopy.maxRectangleInCircle(img.shape, hsv_center, hsv_radius)\n",
    "        inner_top_left, inner_shape = inner_top_left.astype(np.int), tuple(map(int, inner_shape))\n",
    "        crp = endoscopy.crop(img, inner_top_left, inner_shape)\n",
    "        crp_count += 1\n",
    "        np.save('img/crop_{}.npy'.format(crp_count), crp)\n",
    "\n",
    "\n",
    "    # int\n",
    "    hsv_center, hsv_radius = hsv_center.astype(np.int), np.int(hsv_radius)\n",
    "    top_left, shape = top_left.astype(np.int), tuple(map(int, shape))\n",
    "\n",
    "    # bgr\n",
    "    mask_bil_hsv = cv2.cvtColor(mask_bil_hsv, cv2.COLOR_GRAY2BGR)\n",
    "\n",
    "    # draw\n",
    "    cv2.circle(img, (hsv_center[1], hsv_center[0]), hsv_radius, (255, 255, 0), 2)\n",
    "    cv2.circle(img, (hsv_center[1], hsv_center[0]), 2, (255, 255, 0), -1)\n",
    "\n",
    "    cv2.rectangle(img, (top_left[1], top_left[0]), (top_left[1] + shape[1], top_left[0] + shape[0]), (255, 0, 255), 2)\n",
    "\n",
    "    cv2.imshow('img', img)\n",
    "    cv2.imshow('mask_bil_hsv', mask_bil_hsv)\n",
    "    cv2.waitKey()\n",
    "cv2.destroyAllWindows()"
   ]
  },
  {
   "cell_type": "code",
   "execution_count": 2,
   "metadata": {},
   "outputs": [],
   "source": [
    "df = recursive_scan2df('.', '.npy')\n",
    "\n",
    "for _, row in df.iterrows():\n",
    "    img = np.load(os.path.join(row.folder, row.file))\n",
    "    cv2.imwrite(os.path.join(row.folder, '{}.png'.format(row.file.split('.')[0])), img)\n"
   ]
  },
  {
   "cell_type": "code",
   "execution_count": 5,
   "metadata": {},
   "outputs": [
    {
     "output_type": "execute_result",
     "data": {
      "text/plain": [
       "    folder         file\n",
       "0      img  img_142.npy\n",
       "1      img   img_54.npy\n",
       "2      img   img_90.npy\n",
       "3      img  img_161.npy\n",
       "4      img   img_85.npy\n",
       "..     ...          ...\n",
       "187    img   img_30.npy\n",
       "188    img  img_152.npy\n",
       "189    img   img_80.npy\n",
       "190    img    img_9.npy\n",
       "191    img    img_2.npy\n",
       "\n",
       "[192 rows x 2 columns]"
      ],
      "text/html": "<div>\n<style scoped>\n    .dataframe tbody tr th:only-of-type {\n        vertical-align: middle;\n    }\n\n    .dataframe tbody tr th {\n        vertical-align: top;\n    }\n\n    .dataframe thead th {\n        text-align: right;\n    }\n</style>\n<table border=\"1\" class=\"dataframe\">\n  <thead>\n    <tr style=\"text-align: right;\">\n      <th></th>\n      <th>folder</th>\n      <th>file</th>\n    </tr>\n  </thead>\n  <tbody>\n    <tr>\n      <th>0</th>\n      <td>img</td>\n      <td>img_142.npy</td>\n    </tr>\n    <tr>\n      <th>1</th>\n      <td>img</td>\n      <td>img_54.npy</td>\n    </tr>\n    <tr>\n      <th>2</th>\n      <td>img</td>\n      <td>img_90.npy</td>\n    </tr>\n    <tr>\n      <th>3</th>\n      <td>img</td>\n      <td>img_161.npy</td>\n    </tr>\n    <tr>\n      <th>4</th>\n      <td>img</td>\n      <td>img_85.npy</td>\n    </tr>\n    <tr>\n      <th>...</th>\n      <td>...</td>\n      <td>...</td>\n    </tr>\n    <tr>\n      <th>187</th>\n      <td>img</td>\n      <td>img_30.npy</td>\n    </tr>\n    <tr>\n      <th>188</th>\n      <td>img</td>\n      <td>img_152.npy</td>\n    </tr>\n    <tr>\n      <th>189</th>\n      <td>img</td>\n      <td>img_80.npy</td>\n    </tr>\n    <tr>\n      <th>190</th>\n      <td>img</td>\n      <td>img_9.npy</td>\n    </tr>\n    <tr>\n      <th>191</th>\n      <td>img</td>\n      <td>img_2.npy</td>\n    </tr>\n  </tbody>\n</table>\n<p>192 rows × 2 columns</p>\n</div>"
     },
     "metadata": {},
     "execution_count": 5
    }
   ],
   "source": [
    "df = recursive_scan2df('.', '.npy')\n",
    "df"
   ]
  },
  {
   "cell_type": "code",
   "execution_count": 2,
   "metadata": {},
   "outputs": [
    {
     "output_type": "stream",
     "name": "stdout",
     "text": [
      "Did not find points.\nDid not find points.\nDid not find points.\nDid not find points.\n"
     ]
    }
   ],
   "source": [
    "import sys\n",
    "import cv2\n",
    "import os\n",
    "import numpy as np\n",
    "\n",
    "sys.path.append('../')\n",
    "\n",
    "from utils.io import scan2df\n",
    "\n",
    "# homography estimation\n",
    "folder = 'img'\n",
    "crp_df = scan2df(folder, '.npy')\n",
    "\n",
    "for idx in range(len(crp_df) - 1):\n",
    "\n",
    "    crp_0 = np.load(os.path.join(crp_df.iloc[idx].folder, crp_df.iloc[idx].file))\n",
    "    crp_1 = np.load(os.path.join(crp_df.iloc[idx+1].folder, crp_df.iloc[idx+1].file))\n",
    "\n",
    "    # homography estimation\n",
    "    patternSize = (4, 11)\n",
    "\n",
    "    # convert to grayscale\n",
    "    crp_0 = cv2.cvtColor(crp_0.astype(np.float32), cv2.COLOR_BGR2GRAY).astype(np.uint8)\n",
    "    crp_1 = cv2.cvtColor(crp_1.astype(np.float32), cv2.COLOR_BGR2GRAY).astype(np.uint8)\n",
    "\n",
    "    # find points\n",
    "    found0, pts0 = cv2.findCirclesGrid(crp_0, patternSize=patternSize, flags=cv2.CALIB_CB_ASYMMETRIC_GRID)\n",
    "    found1, pts1 = cv2.findCirclesGrid(crp_1, patternSize=patternSize, flags=cv2.CALIB_CB_ASYMMETRIC_GRID)\n",
    "\n",
    "    if found0 and found1:\n",
    "        G, _ = cv2.findHomography(pts0, pts1, cv2.RANSAC)\n",
    "\n",
    "        wrp = cv2.warpPerspective(crp_0, G, crp_1.shape[-2:][::-1])\n",
    "\n",
    "        cv2.imshow('crp_0', crp_0)\n",
    "        cv2.imshow('crp_1', crp_1)\n",
    "        cv2.imshow('wrp', wrp)\n",
    "        cv2.imshow('error', np.abs(wrp - crp_1))\n",
    "        cv2.waitKey()\n",
    "    else:\n",
    "        print('Did not find points.')\n",
    "\n",
    "\n",
    "    cv2.destroyAllWindows()"
   ]
  },
  {
   "cell_type": "code",
   "execution_count": null,
   "metadata": {},
   "outputs": [],
   "source": []
  }
 ]
}