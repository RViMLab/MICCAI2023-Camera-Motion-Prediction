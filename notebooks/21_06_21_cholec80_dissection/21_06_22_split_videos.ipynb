{
 "metadata": {
  "language_info": {
   "codemirror_mode": {
    "name": "ipython",
    "version": 3
   },
   "file_extension": ".py",
   "mimetype": "text/x-python",
   "name": "python",
   "nbconvert_exporter": "python",
   "pygments_lexer": "ipython3",
   "version": "3.7.6"
  },
  "orig_nbformat": 4,
  "kernelspec": {
   "name": "python3",
   "display_name": "Python 3.7.6 64-bit ('hil': conda)"
  },
  "interpreter": {
   "hash": "efe34164bbb50e70fce224383f42acab6a26dd9dc9fafc86c4e503220a8c76a1"
  }
 },
 "nbformat": 4,
 "nbformat_minor": 2,
 "cells": [
  {
   "source": [
    "# Split Videos\n",
    "Split cholec80 into smaller subvideos to minimize "
   ],
   "cell_type": "markdown",
   "metadata": {}
  },
  {
   "cell_type": "code",
   "execution_count": 1,
   "metadata": {},
   "outputs": [
    {
     "output_type": "execute_result",
     "data": {
      "text/plain": [
       "    folder         file\n",
       "0   videos  video36.mp4\n",
       "1   videos  video37.mp4\n",
       "2   videos  video52.mp4\n",
       "3   videos  video38.mp4\n",
       "4   videos  video53.mp4\n",
       "..     ...          ...\n",
       "75  videos  video33.mp4\n",
       "76  videos  video34.mp4\n",
       "77  videos  video50.mp4\n",
       "78  videos  video51.mp4\n",
       "79  videos  video35.mp4\n",
       "\n",
       "[80 rows x 2 columns]"
      ],
      "text/html": "<div>\n<style scoped>\n    .dataframe tbody tr th:only-of-type {\n        vertical-align: middle;\n    }\n\n    .dataframe tbody tr th {\n        vertical-align: top;\n    }\n\n    .dataframe thead th {\n        text-align: right;\n    }\n</style>\n<table border=\"1\" class=\"dataframe\">\n  <thead>\n    <tr style=\"text-align: right;\">\n      <th></th>\n      <th>folder</th>\n      <th>file</th>\n    </tr>\n  </thead>\n  <tbody>\n    <tr>\n      <th>0</th>\n      <td>videos</td>\n      <td>video36.mp4</td>\n    </tr>\n    <tr>\n      <th>1</th>\n      <td>videos</td>\n      <td>video37.mp4</td>\n    </tr>\n    <tr>\n      <th>2</th>\n      <td>videos</td>\n      <td>video52.mp4</td>\n    </tr>\n    <tr>\n      <th>3</th>\n      <td>videos</td>\n      <td>video38.mp4</td>\n    </tr>\n    <tr>\n      <th>4</th>\n      <td>videos</td>\n      <td>video53.mp4</td>\n    </tr>\n    <tr>\n      <th>...</th>\n      <td>...</td>\n      <td>...</td>\n    </tr>\n    <tr>\n      <th>75</th>\n      <td>videos</td>\n      <td>video33.mp4</td>\n    </tr>\n    <tr>\n      <th>76</th>\n      <td>videos</td>\n      <td>video34.mp4</td>\n    </tr>\n    <tr>\n      <th>77</th>\n      <td>videos</td>\n      <td>video50.mp4</td>\n    </tr>\n    <tr>\n      <th>78</th>\n      <td>videos</td>\n      <td>video51.mp4</td>\n    </tr>\n    <tr>\n      <th>79</th>\n      <td>videos</td>\n      <td>video35.mp4</td>\n    </tr>\n  </tbody>\n</table>\n<p>80 rows × 2 columns</p>\n</div>"
     },
     "metadata": {},
     "execution_count": 1
    }
   ],
   "source": [
    "import os\n",
    "import sys\n",
    "sys.path.append('../../')\n",
    "from dotmap import DotMap\n",
    "from moviepy.video.io.VideoFileClip import VideoFileClip\n",
    "\n",
    "from utils.io import recursive_scan2df, load_yaml\n",
    "\n",
    "server = 'local'\n",
    "server = DotMap(load_yaml('../../config/servers.yml')[server])\n",
    "\n",
    "database_name = 'cholec80'\n",
    "database = recursive_scan2df(os.path.join(server.database.location, database_name), '.mp4')\n",
    "\n",
    "# pre-processing\n",
    "database = database[database.folder != 'sample_videos']\n",
    "database"
   ]
  },
  {
   "cell_type": "code",
   "execution_count": 2,
   "metadata": {},
   "outputs": [],
   "source": [
    "def cut_video(input_video_path: str, output_video_path: str, t1: float, t2: float):\n",
    "    r\"\"\"Cuts video and saves clip.\n",
    "\n",
    "    Args:\n",
    "        intput_video_path (str): Path to video\n",
    "        output_video_path (str): Path to output video\n",
    "        t1 (float): Beginning of clip in seconds\n",
    "        t2 (float): End of clip in seconds    \n",
    "    \"\"\"\n",
    "    print(input_video_path)\n",
    "    with VideoFileClip(input_video_path) as video:\n",
    "        print(output_video_path)\n",
    "        new = video.subclip(t1, t2)\n",
    "        new.write_videofile(output_video_path, codec='libx264')"
   ]
  },
  {
   "cell_type": "code",
   "execution_count": 3,
   "metadata": {},
   "outputs": [
    {
     "output_type": "error",
     "ename": "IndentationError",
     "evalue": "unexpected indent (<ipython-input-3-e4670ebc6ce9>, line 18)",
     "traceback": [
      "\u001b[0;36m  File \u001b[0;32m\"<ipython-input-3-e4670ebc6ce9>\"\u001b[0;36m, line \u001b[0;32m18\u001b[0m\n\u001b[0;31m    for i in range(n_clips):\u001b[0m\n\u001b[0m    ^\u001b[0m\n\u001b[0;31mIndentationError\u001b[0m\u001b[0;31m:\u001b[0m unexpected indent\n"
     ]
    }
   ],
   "source": [
    "from utils.io import generate_path\n",
    "\n",
    "# load, split, and safe each video\n",
    "paths = [os.path.join(server.database.location, database_name, x.folder, x.file) for _, x in database.iterrows()]\n",
    "\n",
    "split_database_name = 'cholec80_splits'\n",
    "\n",
    "clip_duration = 60\n",
    "\n",
    "for path in paths:\n",
    "    with VideoFileClip(path) as video:\n",
    "        duration = video.duration\n",
    "        n_clips = int(duration/clip_duration)\n",
    "\n",
    "        video_name = video.filename.split('/')[-1].split('.')[0]\n",
    "        generate_path(os.path.join(server.database.location, split_database_name, video_name))\n",
    "\n",
    "        for i in range(n_clips):\n",
    "            start = i*clip_duration\n",
    "            end = (i+1)*clip_duration\n",
    "\n",
    "            subclip = video.subclip(start, end)\n",
    "            subclip.write_videofile(os.path.join(\n",
    "                server.database.location,\n",
    "                split_database_name,\n",
    "                video_name,\n",
    "                'split_{}.mp4'.format(i)\n",
    "            ), codec='libx264')\n"
   ]
  },
  {
   "cell_type": "code",
   "execution_count": null,
   "metadata": {},
   "outputs": [],
   "source": []
  }
 ]
}