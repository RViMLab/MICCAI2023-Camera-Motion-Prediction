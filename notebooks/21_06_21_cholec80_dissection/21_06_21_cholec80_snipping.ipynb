{
 "metadata": {
  "language_info": {
   "codemirror_mode": {
    "name": "ipython",
    "version": 3
   },
   "file_extension": ".py",
   "mimetype": "text/x-python",
   "name": "python",
   "nbconvert_exporter": "python",
   "pygments_lexer": "ipython3",
   "version": "3.7.6"
  },
  "orig_nbformat": 4,
  "kernelspec": {
   "name": "python3",
   "display_name": "Python 3.7.6 64-bit ('hil': conda)"
  },
  "interpreter": {
   "hash": "efe34164bbb50e70fce224383f42acab6a26dd9dc9fafc86c4e503220a8c76a1"
  }
 },
 "nbformat": 4,
 "nbformat_minor": 2,
 "cells": [
  {
   "cell_type": "code",
   "execution_count": 1,
   "metadata": {},
   "outputs": [],
   "source": [
    "import os\n",
    "import sys\n",
    "from dotmap import DotMap\n",
    "\n",
    "sys.path.append('../../')\n",
    "\n",
    "from utils.io import recursive_scan2df, load_yaml\n",
    "from utils.sampling import ConsecutiveSequences"
   ]
  },
  {
   "cell_type": "code",
   "execution_count": 2,
   "metadata": {},
   "outputs": [
    {
     "output_type": "execute_result",
     "data": {
      "text/plain": [
       "                 file         folder\n",
       "0         video36.mp4         videos\n",
       "1         video37.mp4         videos\n",
       "2         video52.mp4         videos\n",
       "3         video38.mp4         videos\n",
       "4         video53.mp4         videos\n",
       "..                ...            ...\n",
       "79        video35.mp4         videos\n",
       "80  video01_short.mp4  sample_videos\n",
       "81  video02_short.mp4  sample_videos\n",
       "82  video03_short.mp4  sample_videos\n",
       "83  video04_short.mp4  sample_videos\n",
       "\n",
       "[84 rows x 2 columns]"
      ],
      "text/html": "<div>\n<style scoped>\n    .dataframe tbody tr th:only-of-type {\n        vertical-align: middle;\n    }\n\n    .dataframe tbody tr th {\n        vertical-align: top;\n    }\n\n    .dataframe thead th {\n        text-align: right;\n    }\n</style>\n<table border=\"1\" class=\"dataframe\">\n  <thead>\n    <tr style=\"text-align: right;\">\n      <th></th>\n      <th>file</th>\n      <th>folder</th>\n    </tr>\n  </thead>\n  <tbody>\n    <tr>\n      <th>0</th>\n      <td>video36.mp4</td>\n      <td>videos</td>\n    </tr>\n    <tr>\n      <th>1</th>\n      <td>video37.mp4</td>\n      <td>videos</td>\n    </tr>\n    <tr>\n      <th>2</th>\n      <td>video52.mp4</td>\n      <td>videos</td>\n    </tr>\n    <tr>\n      <th>3</th>\n      <td>video38.mp4</td>\n      <td>videos</td>\n    </tr>\n    <tr>\n      <th>4</th>\n      <td>video53.mp4</td>\n      <td>videos</td>\n    </tr>\n    <tr>\n      <th>...</th>\n      <td>...</td>\n      <td>...</td>\n    </tr>\n    <tr>\n      <th>79</th>\n      <td>video35.mp4</td>\n      <td>videos</td>\n    </tr>\n    <tr>\n      <th>80</th>\n      <td>video01_short.mp4</td>\n      <td>sample_videos</td>\n    </tr>\n    <tr>\n      <th>81</th>\n      <td>video02_short.mp4</td>\n      <td>sample_videos</td>\n    </tr>\n    <tr>\n      <th>82</th>\n      <td>video03_short.mp4</td>\n      <td>sample_videos</td>\n    </tr>\n    <tr>\n      <th>83</th>\n      <td>video04_short.mp4</td>\n      <td>sample_videos</td>\n    </tr>\n  </tbody>\n</table>\n<p>84 rows × 2 columns</p>\n</div>"
     },
     "metadata": {},
     "execution_count": 2
    }
   ],
   "source": [
    "server = 'local'\n",
    "server = DotMap(load_yaml('../../config/servers.yml')[server])\n",
    "\n",
    "database_name = 'cholec80'\n",
    "database_df = recursive_scan2df(os.path.join(server.database.location, database_name), postfix='.mp4')\n",
    "database_df"
   ]
  },
  {
   "cell_type": "code",
   "execution_count": 3,
   "metadata": {},
   "outputs": [
    {
     "output_type": "execute_result",
     "data": {
      "text/plain": [
       "           file  folder\n",
       "0   video36.mp4  videos\n",
       "1   video37.mp4  videos\n",
       "2   video52.mp4  videos\n",
       "3   video38.mp4  videos\n",
       "4   video53.mp4  videos\n",
       "..          ...     ...\n",
       "75  video33.mp4  videos\n",
       "76  video34.mp4  videos\n",
       "77  video50.mp4  videos\n",
       "78  video51.mp4  videos\n",
       "79  video35.mp4  videos\n",
       "\n",
       "[80 rows x 2 columns]"
      ],
      "text/html": "<div>\n<style scoped>\n    .dataframe tbody tr th:only-of-type {\n        vertical-align: middle;\n    }\n\n    .dataframe tbody tr th {\n        vertical-align: top;\n    }\n\n    .dataframe thead th {\n        text-align: right;\n    }\n</style>\n<table border=\"1\" class=\"dataframe\">\n  <thead>\n    <tr style=\"text-align: right;\">\n      <th></th>\n      <th>file</th>\n      <th>folder</th>\n    </tr>\n  </thead>\n  <tbody>\n    <tr>\n      <th>0</th>\n      <td>video36.mp4</td>\n      <td>videos</td>\n    </tr>\n    <tr>\n      <th>1</th>\n      <td>video37.mp4</td>\n      <td>videos</td>\n    </tr>\n    <tr>\n      <th>2</th>\n      <td>video52.mp4</td>\n      <td>videos</td>\n    </tr>\n    <tr>\n      <th>3</th>\n      <td>video38.mp4</td>\n      <td>videos</td>\n    </tr>\n    <tr>\n      <th>4</th>\n      <td>video53.mp4</td>\n      <td>videos</td>\n    </tr>\n    <tr>\n      <th>...</th>\n      <td>...</td>\n      <td>...</td>\n    </tr>\n    <tr>\n      <th>75</th>\n      <td>video33.mp4</td>\n      <td>videos</td>\n    </tr>\n    <tr>\n      <th>76</th>\n      <td>video34.mp4</td>\n      <td>videos</td>\n    </tr>\n    <tr>\n      <th>77</th>\n      <td>video50.mp4</td>\n      <td>videos</td>\n    </tr>\n    <tr>\n      <th>78</th>\n      <td>video51.mp4</td>\n      <td>videos</td>\n    </tr>\n    <tr>\n      <th>79</th>\n      <td>video35.mp4</td>\n      <td>videos</td>\n    </tr>\n  </tbody>\n</table>\n<p>80 rows × 2 columns</p>\n</div>"
     },
     "metadata": {},
     "execution_count": 3
    }
   ],
   "source": [
    "# individual database post-processing\n",
    "# database_df = database_df[database_df.folder != 'videos']\n",
    "database_df = database_df[database_df.folder != 'sample_videos']\n",
    "# database_df = database_df.iloc[:1]\n",
    "database_df"
   ]
  },
  {
   "cell_type": "code",
   "execution_count": 4,
   "metadata": {},
   "outputs": [
    {
     "output_type": "stream",
     "name": "stdout",
     "text": [
      "\n",
      "Looking for cholec80_metadata.pkl\n",
      "Found.\n",
      "/home/martin/miniconda3/envs/hil/lib/python3.7/site-packages/torchvision/io/video.py:116: UserWarning: The pts_unit 'pts' gives wrong results and will be removed in a follow-up version. Please use pts_unit 'sec'.\n",
      "  \"The pts_unit 'pts' gives wrong results and will be removed in a \"\n",
      "Illumination level: 0.9772400896464106/home/martin/miniconda3/envs/hil/lib/python3.7/site-packages/ipykernel_launcher.py:64: DeprecationWarning: `np.int` is a deprecated alias for the builtin `int`. To silence this warning, use `int` by itself. Doing this will not modify any behavior and is safe. When replacing `np.int`, you may wish to use e.g. `np.int64` or `np.int32` to specify the precision. If you wish to review your current use, check the release note link for additional information.\n",
      "Deprecated in NumPy 1.20; for more details and guidance: https://numpy.org/devdocs/release/1.20.0-notes.html#deprecations\n",
      "/home/martin/miniconda3/envs/hil/lib/python3.7/site-packages/ipykernel_launcher.py:65: DeprecationWarning: `np.int` is a deprecated alias for the builtin `int`. To silence this warning, use `int` by itself. Doing this will not modify any behavior and is safe. When replacing `np.int`, you may wish to use e.g. `np.int64` or `np.int32` to specify the precision. If you wish to review your current use, check the release note link for additional information.\n",
      "Deprecated in NumPy 1.20; for more details and guidance: https://numpy.org/devdocs/release/1.20.0-notes.html#deprecations\n",
      "Illumination level: 0.995778978530856"
     ]
    }
   ],
   "source": [
    "from datasets import VideoDataset\n",
    "from utils.io import load_pickle, save_pickle\n",
    "\n",
    "video_paths = [os.path.join(server.database.location, database_name, x.folder, x.file) for _, x in database_df.iterrows()]\n",
    "frame_rate = 25\n",
    "duration = 60\n",
    "clip_length_in_frames = int(frame_rate*duration)\n",
    "num_workers = 8\n",
    "\n",
    "# load metadata, if existing\n",
    "metadata_path = 'cholec80_metadata.pkl'\n",
    "metadata = None\n",
    "print('\\nLooking for {}'.format(metadata_path))\n",
    "if os.path.exists(metadata_path):\n",
    "    metadata = load_pickle(metadata_path)\n",
    "    print('Found.')\n",
    "else:\n",
    "    print('Could not find {}. Generating metadata.'.format(metadata_path))\n",
    "\n",
    "video_ds = VideoDataset(\n",
    "            video_paths=video_paths,\n",
    "            clip_length_in_frames=clip_length_in_frames,\n",
    "            frames_between_clips=clip_length_in_frames,\n",
    "            frame_rate=frame_rate,\n",
    "            precomputed_metadata=metadata,\n",
    "            num_workers=num_workers,\n",
    "            permute=False,\n",
    "            convert_dtype=False\n",
    ")\n",
    "\n",
    "# store metadata\n",
    "if not os.path.exists(metadata_path):\n",
    "    metadata = video_ds.metadata\n",
    "    save_pickle(metadata_path, metadata)\n",
    "\n",
    "import cv2\n",
    "import numpy as np\n",
    "from utils.processing import endoscopy\n",
    "\n",
    "# buffer = []\n",
    "# buffer_size = 10\n",
    "\n",
    "for batch in video_ds:\n",
    "    video, augmented_video, frame_rate, video_fps, video_idx, idx = batch\n",
    "\n",
    "    for frame in video:\n",
    "        # frame = tensor_to_image(frame)\n",
    "        frame = frame.numpy()\n",
    "        # frame = frame[:-5,...]\n",
    "\n",
    "        # pre-process frame\n",
    "        mask = endoscopy.bilateralSegmentation(frame, th=0.1)\n",
    "        # buffer.append(mask)\n",
    "        # if len(buffer) > buffer_size:\n",
    "        #     buffer.pop(0)\n",
    "        # mask = endoscopy.binaryAvg(buffer, th=50)\n",
    "        center, radius = endoscopy.boundary_detection.ransacBoundaryCircle(mask, fit='numeric', n_iter=1)\n",
    "\n",
    "        if radius is not None:\n",
    "            illumination = endoscopy.illuminationLevel(mask, center, radius)\n",
    "            print('\\rIllumination level: {}, threshold: {}'.format(illumination, illumination > 0.998), end='')\n",
    "\n",
    "            top_left, shape = endoscopy.maxRectangleInCircle(frame.shape, center, radius)\n",
    "            center, radius = center.astype(np.int), np.int(radius)\n",
    "            top_left, shape = top_left.astype(np.int), tuple(map(int, shape))\n",
    "            cv2.circle(frame, (center[1], center[0]), radius, (255, 255, 0), 2)\n",
    "            cv2.rectangle(frame, (top_left[1], top_left[0]), (top_left[1] + shape[1], top_left[0] + shape[0]), (255, 255, 0), 2)\n",
    "\n",
    "        cv2.imshow('img', frame)\n",
    "        cv2.imshow('mask', mask)\n",
    "        # cv2.waitKey(int(1/frame_rate*1.e3))\n",
    "        cv2.waitKey(1)\n",
    "\n",
    "    print(video.shape)\n",
    "cv2.destroyAllWindows()"
   ]
  },
  {
   "cell_type": "code",
   "execution_count": null,
   "metadata": {},
   "outputs": [],
   "source": []
  }
 ]
}