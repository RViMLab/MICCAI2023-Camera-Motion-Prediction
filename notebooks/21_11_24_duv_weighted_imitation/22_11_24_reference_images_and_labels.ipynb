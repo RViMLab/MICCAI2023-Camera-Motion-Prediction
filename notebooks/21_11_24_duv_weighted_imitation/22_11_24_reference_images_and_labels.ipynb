{
 "cells": [
  {
   "cell_type": "markdown",
   "metadata": {},
   "source": [
    "## Train/Test Split"
   ]
  },
  {
   "cell_type": "code",
   "execution_count": 2,
   "metadata": {},
   "outputs": [],
   "source": [
    "import os\n",
    "import sys\n",
    "sys.path.append(\"/home/martin/Dev/homography_imitation_learning\")\n",
    "import pandas as pd\n",
    "from utils.processing import unique_video_train_test\n",
    "\n",
    "prefix = \"/media/martin/Samsung_T5/data/endoscopic_data/cholec80_frames\"\n",
    "in_pkl = \"22_11_09_loftr_log_pre_processed\"\n",
    "\n",
    "df = pd.read_pickle(os.path.join(prefix, in_pkl + \".pkl\"))\n",
    "df = unique_video_train_test(df)\n",
    "df.to_pickle(os.path.join(prefix, in_pkl + \"_test_train.pkl\"))"
   ]
  },
  {
   "cell_type": "markdown",
   "metadata": {},
   "source": [
    "## Labels Dataframe"
   ]
  },
  {
   "cell_type": "code",
   "execution_count": null,
   "metadata": {},
   "outputs": [],
   "source": [
    "import os\n",
    "import sys\n",
    "sys.path.append(\"/home/martin/Dev/homography_imitation_learning\")\n",
    "import numpy as np\n",
    "import pandas as pd\n",
    "from utils.io import recursive_scan2df\n",
    "\n",
    "prefix = \"/media/martin/Samsung_T5/data/endoscopic_data/cholec80_single_video_frames_cropped\"\n",
    "in_pkl = \"pre_processed_5th_frame_log_new_test_train\"\n",
    "out_pkl = \"pre_processed_5th_frame_log_new_test_train_labels.pkl\"\n",
    "\n",
    "df = pd.read_pickle(os.path.join(prefix, in_pkl + \".pkl\"))\n",
    "label_df = pd.DataFrame()\n",
    "\n",
    "phase_prefix = \"/media/martin/Samsung_T5/data/endoscopic_data/cholec80/phase_annotations\"\n",
    "tool_annotation_prefix = \"/media/martin/Samsung_T5/data/endoscopic_data/cholec80/tool_annotations\"\n",
    "\n",
    "phase_df = recursive_scan2df(phase_prefix, \".txt\")\n",
    "tool_annotation_df = recursive_scan2df(tool_annotation_prefix, \".txt\")\n",
    "\n",
    "phase_df, tool_annotation_df = phase_df.sort_values(\"file\").reset_index(drop=True), tool_annotation_df.sort_values(\"file\").reset_index(drop=True)\n",
    "phase_df[\"vid\"], tool_annotation_df[\"vid\"] = phase_df.file.apply(lambda x: int(x.split(\"-\")[0][-2:]) - 1), tool_annotation_df.file.apply(lambda x: int(x.split(\"-\")[0][-2:]) - 1)\n",
    "\n",
    "for (idx, phase_txt_row), (_, tool_annotation_txt_row) in zip(phase_df.iterrows(), tool_annotation_df.iterrows()):\n",
    "    if not phase_txt_row.vid in df.vid.unique():\n",
    "        print(\"Skipping vid {}\".format(phase_txt_row.vid))\n",
    "        continue\n",
    "\n",
    "    phase_txt = pd.read_csv(os.path.join(phase_prefix, phase_txt_row.folder, phase_txt_row.file), sep=\"\\t\")\n",
    "    tool_annotation_txt = pd.read_csv(os.path.join(tool_annotation_prefix, tool_annotation_txt_row.folder, tool_annotation_txt_row.file), sep=\"\\t\")\n",
    "\n",
    "    # correct padded end\n",
    "    phase_txt = phase_txt[:len(df[df.vid == idx])].reset_index(drop=True)\n",
    "    tool_annotation_txt = tool_annotation_txt[:len(df[df.vid == idx])].reset_index(drop=True)\n",
    "\n",
    "    if len(df[df.vid == idx]) != len(phase_txt):\n",
    "        # raise RuntimeError(\"Wrong length at index {}, {}/{}.\".format(idx, len(df[df.vid == idx]), len(phase_txt)))\n",
    "        print(\"Wrong length at index {}, {}/{}.\".format(idx, len(df[df.vid == idx]), len(phase_txt)))\n",
    "        phase_txt = phase_txt[:-1]\n",
    "        # phase_txt.to_csv(os.path.join(phase_prefix, phase_txt_row.folder, phase_txt_row.file), sep=\"\\t\")\n",
    "\n",
    "    # fill missing annotations\n",
    "\n",
    "    # tmp = phase_txt.iloc[tool_annotation_txt.Frame] #pd.concat([phase_txt, tool_annotation_txt])\n",
    "    tmp = phase_txt.set_index(\"Frame\").join(tool_annotation_txt.set_index(\"Frame\"))\n",
    "    # tmp = phase_txt.join(tool_annotation_txt, on=\"Frame\", lsuffix=\"_phase\", rsuffix=\"_tool_annotation\", sort=True)\n",
    "    label_df = label_df.append(tmp)\n",
    "    if len(label_df.columns) > 8:\n",
    "        print(idx, \" Merge: \", len(label_df.columns), \" phase: \", len(phase_txt.columns), \" tool:  \", len(tool_annotation_txt.columns))\n",
    "\n",
    "\n",
    "label_df[\"Frame\"] = label_df.index\n",
    "label_df = label_df.reset_index(drop=True)\n",
    "print(label_df)\n",
    "label_df.to_pickle(os.path.join(prefix, out_pkl))\n",
    "\n",
    "\n"
   ]
  },
  {
   "cell_type": "markdown",
   "metadata": {},
   "source": [
    "# Remove Nan"
   ]
  },
  {
   "cell_type": "code",
   "execution_count": 4,
   "metadata": {},
   "outputs": [
    {
     "name": "stdout",
     "output_type": "stream",
     "text": [
      "3000\n",
      "596 20\n"
     ]
    }
   ],
   "source": [
    "import os\n",
    "import pandas as pd\n",
    "\n",
    "toy = True\n",
    "\n",
    "if toy:\n",
    "    prefix = \"/media/martin/Samsung_T5/data/endoscopic_data/cholec80_frames\"\n",
    "    data_pkl = \"22_11_09_loftr_log_pre_processed_test_train\"\n",
    "else:\n",
    "    prefix = \"/media/martin/Samsung_T5/data/endoscopic_data/cholec80_single_video_frames_cropped\"\n",
    "    data_pkl = \"pre_processed_5th_frame_log_new_test_train\"\n",
    "    label_pkl = \"pre_processed_5th_frame_log_new_test_train_labels\"\n",
    "\n",
    "df = pd.read_pickle(os.path.join(prefix, data_pkl) + \".pkl\")\n",
    "valid = ~df.duv_mpd.isna().values\n",
    "\n",
    "print(len(df))\n",
    "df = df[valid]\n",
    "print(len(df), len(df.vid.unique())*5)\n",
    "\n",
    "df.to_pickle(os.path.join(prefix, data_pkl) + \"_no_nan.pkl\")\n",
    "\n",
    "if not toy:\n",
    "    label_df = pd.read_pickle(os.path.join(prefix, label_pkl) + \".pkl\")\n",
    "    print(len(label_df) - len(df))\n",
    "    label_df = label_df[valid]\n",
    "    print(len(label_df) - len(df))\n",
    "\n",
    "    label_df.to_pickle(os.path.join(prefix, label_pkl) + \"_no_nan.pkl\")"
   ]
  },
  {
   "cell_type": "markdown",
   "metadata": {},
   "source": [
    "## Load and Check"
   ]
  },
  {
   "cell_type": "code",
   "execution_count": 7,
   "metadata": {},
   "outputs": [
    {
     "name": "stdout",
     "output_type": "stream",
     "text": [
      "Log:\n",
      "     folder           file  vid  frame  \\\n",
      "0     vid_0    frame_0.npy    0      0   \n",
      "5     vid_0    frame_5.npy    0      5   \n",
      "10    vid_0   frame_10.npy    0     10   \n",
      "15    vid_0   frame_15.npy    0     15   \n",
      "20    vid_0   frame_20.npy    0     20   \n",
      "...     ...            ...  ...    ...   \n",
      "2970  vid_3  frame_720.npy    3    720   \n",
      "2975  vid_3  frame_725.npy    3    725   \n",
      "2980  vid_3  frame_730.npy    3    730   \n",
      "2985  vid_3  frame_735.npy    3    735   \n",
      "2990  vid_3  frame_740.npy    3    740   \n",
      "\n",
      "                                                    duv    duv_mpd  train  \n",
      "0     [[-7.966131687164307, 17.566049575805664], [-6...  16.792545   True  \n",
      "5     [[-4.547332286834717, 15.534305572509766], [-8...  17.728071   True  \n",
      "10    [[-11.780838966369629, 14.508074760437012], [-...  15.166304   True  \n",
      "15    [[-2.243757963180542, 16.322011947631836], [-0...  11.264307   True  \n",
      "20    [[-3.3895256519317627, 24.412181854248047], [4...  21.069513   True  \n",
      "...                                                 ...        ...    ...  \n",
      "2970  [[-0.3356133699417114, -0.04328636825084686], ...   1.430512   True  \n",
      "2975  [[1.0995055437088013, 0.23955172300338745], [1...   2.555782   True  \n",
      "2980  [[0.5729988217353821, 0.636735200881958], [1.3...   1.851306   True  \n",
      "2985  [[0.9520363211631775, 0.026744404807686806], [...   3.362040   True  \n",
      "2990  [[1.0102241039276123, -0.1791628897190094], [0...   1.952158   True  \n",
      "\n",
      "[596 rows x 7 columns]\n"
     ]
    }
   ],
   "source": [
    "import os\n",
    "import pandas as pd\n",
    "\n",
    "prefix = \"/media/martin/Samsung_T5/data/endoscopic_data/cholec80_frames\"\n",
    "data_pkl = \"22_11_09_loftr_log_pre_processed_test_train_no_nan\"\n",
    "label_pkl = \"pre_processed_5th_frame_log_test_train_labels\"\n",
    "\n",
    "df = pd.read_pickle(os.path.join(prefix, data_pkl + \".pkl\"))\n",
    "print(\"Log:\")\n",
    "print(df)\n",
    "# df = pd.read_pickle(os.path.join(prefix, label_pkl + \".pkl\"))\n",
    "# print(\"Labels:\")\n",
    "# print(df)\n",
    "\n"
   ]
  },
  {
   "cell_type": "markdown",
   "metadata": {},
   "source": [
    "# Check Size"
   ]
  },
  {
   "cell_type": "code",
   "execution_count": null,
   "metadata": {},
   "outputs": [],
   "source": [
    "import os\n",
    "import pandas as pd\n",
    "import numpy as np\n",
    "import math\n",
    "\n",
    "prefix = \"/media/martin/Samsung_T5/data/endoscopic_data/cholec80_single_video_frames_cropped\"\n",
    "data_pkl = \"pre_processed_5th_frame_log_new_test_train_no_nan\"\n",
    "\n",
    "df = pd.read_pickle(\n",
    "    os.path.join(prefix, data_pkl) + \".pkl\"\n",
    ")\n",
    "\n",
    "df.duv_mpd = df.duv_mpd.apply(lambda x: np.single(x))\n",
    "df.vid = pd.to_numeric(df.vid, downcast='integer')\n",
    "df.frame = pd.to_numeric(df.frame, downcast='integer')\n",
    "df.duv = df.duv.apply(lambda x: [list(map(np.single, xi)) for xi in x] if x == x else x)\n",
    "\n",
    "print(df.info(memory_usage=\"deep\"))\n",
    "df.to_pickle(os.path.join(prefix, data_pkl + \"_compressed.pkl\"))"
   ]
  },
  {
   "cell_type": "code",
   "execution_count": null,
   "metadata": {},
   "outputs": [],
   "source": [
    "import os\n",
    "import numpy as np\n",
    "import pandas as pd\n",
    "\n",
    "prefix = \"/media/martin/Samsung_T5/data/endoscopic_data/cholec80_single_video_frames_cropped\"\n",
    "data_pkl = \"pre_processed_5th_frame_log_test_train\"\n",
    "\n",
    "df = pd.read_pickle(\n",
    "    os.path.join(prefix, data_pkl) + \".pkl\"\n",
    ")\n",
    "\n",
    "df.duv_mpd = df.duv_mpd.apply(lambda x: np.single(x))\n",
    "df.vid = pd.to_numeric(df.vid, downcast='integer')\n",
    "df.frame = pd.to_numeric(df.frame, downcast='integer')\n",
    "df.duv = df.duv.apply(lambda x: [list(map(np.float16, xi)) for xi in x] if x == x else x)\n",
    "\n",
    "print(df.info(memory_usage=\"deep\"))\n",
    "df.to_pickle(os.path.join(prefix, data_pkl + \"_compressed.pkl\"))"
   ]
  },
  {
   "cell_type": "code",
   "execution_count": null,
   "metadata": {},
   "outputs": [],
   "source": [
    "import pandas as pd\n",
    "\n",
    "prefix = \"/media/martin/Samsung_T5/data/endoscopic_data/cholec80_single_video_frames_cropped\"\n",
    "df = pd.read_pickle(prefix + \"/pre_processed_5th_frame_log_new_test_train_no_nan_compressed.pkl\")\n",
    "print(df.info(memory_usage=\"deep\"))"
   ]
  },
  {
   "cell_type": "code",
   "execution_count": null,
   "metadata": {},
   "outputs": [],
   "source": [
    "import pandas as pd\n",
    "\n",
    "prefix = \"/media/martin/Samsung_T5/data/endoscopic_data/cholec80_single_video_frames_cropped\"\n",
    "df = pd.read_pickle(prefix + \"/pre_processed_5th_frame_log_test_train_compressed.pkl\")\n",
    "print(df.info(memory_usage=\"deep\"))"
   ]
  },
  {
   "cell_type": "code",
   "execution_count": null,
   "metadata": {},
   "outputs": [],
   "source": []
  }
 ],
 "metadata": {
  "interpreter": {
   "hash": "de43f3610355f051a4a7d1ec68e5cd39983800d0bb5000cb4a591287222bab46"
  },
  "kernelspec": {
   "display_name": "Python 3.9.7 64-bit ('torch110': conda)",
   "language": "python",
   "name": "python3"
  },
  "language_info": {
   "codemirror_mode": {
    "name": "ipython",
    "version": 3
   },
   "file_extension": ".py",
   "mimetype": "text/x-python",
   "name": "python",
   "nbconvert_exporter": "python",
   "pygments_lexer": "ipython3",
   "version": "3.9.13"
  },
  "orig_nbformat": 4
 },
 "nbformat": 4,
 "nbformat_minor": 2
}
