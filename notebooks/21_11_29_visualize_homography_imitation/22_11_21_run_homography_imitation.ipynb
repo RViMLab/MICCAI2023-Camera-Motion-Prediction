{
 "cells": [
  {
   "cell_type": "markdown",
   "metadata": {},
   "source": [
    "# Load Model"
   ]
  },
  {
   "cell_type": "code",
   "execution_count": 1,
   "metadata": {},
   "outputs": [
    {
     "name": "stderr",
     "output_type": "stream",
     "text": [
      "/home/martin/miniconda3/envs/torch110/lib/python3.9/site-packages/tqdm/auto.py:22: TqdmWarning: IProgress not found. Please update jupyter and ipywidgets. See https://ipywidgets.readthedocs.io/en/stable/user_install.html\n",
      "  from .autonotebook import tqdm as notebook_tqdm\n"
     ]
    },
    {
     "name": "stdout",
     "output_type": "stream",
     "text": [
      "Reading file from ../../config/servers.yml\n",
      "Reading file from /media/martin/Samsung_T5/logs/miccai/feature_lstm/phantom/resnet34/frame_increment_1/transforms/version_0/config.yml\n"
     ]
    }
   ],
   "source": [
    "import sys\n",
    "sys.path.append(\"../..\")\n",
    "\n",
    "import os\n",
    "\n",
    "from lightning_modules import FeatureLSTMModule\n",
    "from utils.io import load_yaml\n",
    "\n",
    "\n",
    "server = \"local\"\n",
    "servers = load_yaml(\"../../config/servers.yml\")\n",
    "server = servers[server]\n",
    "\n",
    "log_location = \"miccai/feature_lstm/phantom/resnet34/frame_increment_1/transforms/version_0\"\n",
    "checkpoint = \"checkpoints/epoch=15-step=320.ckpt\"\n",
    "\n",
    "config = load_yaml(os.path.join(server[\"logging\"][\"location\"], log_location, \"config.yml\"))\n",
    "model = FeatureLSTMModule.load_from_checkpoint(os.path.join(server[\"logging\"][\"location\"], log_location, checkpoint), **config[\"model\"])"
   ]
  },
  {
   "cell_type": "markdown",
   "metadata": {},
   "source": [
    "# Load Data"
   ]
  },
  {
   "cell_type": "code",
   "execution_count": 6,
   "metadata": {},
   "outputs": [
    {
     "name": "stdout",
     "output_type": "stream",
     "text": [
      "Generating path at /tmp/blends/vid_1\n",
      "Generating path at /tmp/blends/vid_8\n"
     ]
    }
   ],
   "source": [
    "import cv2\n",
    "import numpy as np\n",
    "import pandas as pd\n",
    "from utils.processing import differentiate_duv\n",
    "\n",
    "prefix = \"21_11_25_first_test_data_frames\"\n",
    "file = \"pre_processed_10th_frame_log_test_train_no_nan.pkl\"\n",
    "df = pd.read_pickle(\n",
    "    os.path.join(server[\"database\"][\"location\"], prefix, file)\n",
    ")\n",
    "df = df[df.train == False]\n",
    "\n",
    "from datasets import ImageSequenceDuvDataset\n",
    "ds = ImageSequenceDuvDataset(\n",
    "    df,\n",
    "    os.path.join(server[\"database\"][\"location\"], prefix),\n",
    "    seq_len=20,\n",
    "    frame_increment=1,\n",
    "    frames_between_clips=20\n",
    ")\n",
    "\n",
    "from kornia import tensor_to_image\n",
    "from utils.viz import create_blend_from_four_point_homography\n",
    "from utils.io import generate_path\n",
    "\n",
    "\n",
    "for imgs, duvs, frame_idx, vid_idx in ds:\n",
    "    output_path = f\"/tmp/blends/vid_{vid_idx}\"\n",
    "    generate_path(output_path)\n",
    "    imgs = imgs.unsqueeze(0).to(model.device).float()/255.\n",
    "    duvs = duvs.unsqueeze(0).to(model.device).float()\n",
    "    \n",
    "    # derivative\n",
    "    dduvs = differentiate_duv(duvs)\n",
    "\n",
    "    duvs_ip1 = model(imgs[:, 2:], duvs[:, 1:-1], dduvs[:, :-1])\n",
    "    \n",
    "    batch = 0\n",
    "    blends = create_blend_from_four_point_homography(imgs[batch, 2:-1], imgs[batch, 3:], duvs_ip1[batch,:-1])\n",
    "\n",
    "    for idx, blend in enumerate(blends):\n",
    "        blend = tensor_to_image(blend, False)\n",
    "        blend = (blend*255.).astype(np.uint8)\n",
    "        blend = cv2.resize(blend, [640, 480])\n",
    "        \n",
    "        cv2.imwrite(f\"{output_path}/blend_{idx}.png\", blend)\n",
    "        \n",
    "    "
   ]
  },
  {
   "cell_type": "code",
   "execution_count": null,
   "metadata": {},
   "outputs": [],
   "source": []
  }
 ],
 "metadata": {
  "kernelspec": {
   "display_name": "Python 3.9.15 ('torch110')",
   "language": "python",
   "name": "python3"
  },
  "language_info": {
   "codemirror_mode": {
    "name": "ipython",
    "version": 3
   },
   "file_extension": ".py",
   "mimetype": "text/x-python",
   "name": "python",
   "nbconvert_exporter": "python",
   "pygments_lexer": "ipython3",
   "version": "3.9.15"
  },
  "orig_nbformat": 4,
  "vscode": {
   "interpreter": {
    "hash": "de43f3610355f051a4a7d1ec68e5cd39983800d0bb5000cb4a591287222bab46"
   }
  }
 },
 "nbformat": 4,
 "nbformat_minor": 2
}
