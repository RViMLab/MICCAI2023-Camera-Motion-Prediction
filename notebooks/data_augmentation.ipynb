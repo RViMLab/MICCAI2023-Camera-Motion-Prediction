{
 "metadata": {
  "language_info": {
   "codemirror_mode": {
    "name": "ipython",
    "version": 3
   },
   "file_extension": ".py",
   "mimetype": "text/x-python",
   "name": "python",
   "nbconvert_exporter": "python",
   "pygments_lexer": "ipython3",
   "version": "3.7.6-final"
  },
  "orig_nbformat": 2,
  "kernelspec": {
   "name": "python3",
   "display_name": "Python 3",
   "language": "python"
  }
 },
 "nbformat": 4,
 "nbformat_minor": 2,
 "cells": [
  {
   "cell_type": "code",
   "execution_count": 4,
   "metadata": {},
   "outputs": [],
   "source": [
    "import torch\n",
    "import os\n",
    "import numpy as np\n",
    "import pandas as pd\n",
    "import imgaug.augmenters as iaa\n",
    "import cv2\n",
    "from kornia import tensor_to_image\n",
    "from sklearn.model_selection import train_test_split\n",
    "import sys\n",
    "\n",
    "sys.path.append('../')\n",
    "\n",
    "from utils.transforms import random_edge_homography, dictListToAugment\n",
    "from datasets import ImagePairHomographyDataset\n",
    "from utils.io import load_yaml"
   ]
  },
  {
   "cell_type": "code",
   "execution_count": 5,
   "metadata": {},
   "outputs": [],
   "source": [
    "server = load_yaml('../configs/servers.yml')['local']\n",
    "configs = load_yaml('../configs/deep_image_homography_estimation.yml')\n",
    "\n",
    "prefix = os.path.join(server['database']['location'], configs['data']['pkl_path'])\n",
    "df = pd.read_pickle(os.path.join(\n",
    "        prefix,\n",
    "        configs['data']['pkl_name']\n",
    "))\n",
    "rho = 32\n",
    "crp_shape = [480, 640]\n",
    "\n",
    "transforms = dictListToAugment(configs['data']['train_transforms'])\n",
    "\n",
    "ds = ImagePairHomographyDataset(df, prefix, rho, crp_shape, transforms=transforms, seeds=np.arange(len(df)).tolist())"
   ]
  },
  {
   "cell_type": "code",
   "execution_count": 3,
   "metadata": {},
   "outputs": [],
   "source": [
    "for idx, batch in enumerate(ds):\n",
    "    img = tensor_to_image(batch['img_crp'])[...,::-1]\n",
    "    wrp = tensor_to_image(batch['wrp_crp'])[...,::-1]\n",
    "\n",
    "    cv2.imshow('img', img)\n",
    "    cv2.imshow('wrp', wrp)\n",
    "    cv2.waitKey()"
   ]
  },
  {
   "cell_type": "code",
   "execution_count": 10,
   "metadata": {},
   "outputs": [
    {
     "output_type": "stream",
     "name": "stdout",
     "text": [
      "100/100"
     ]
    }
   ],
   "source": [
    "# augment single image as example\n",
    "transforms = dictListToAugment(configs['data']['train_transforms'])\n",
    "\n",
    "# read first image\n",
    "img = cv2.imread(os.path.join(prefix, df['path'][0], df['file_seq'][0][0]))\n",
    "\n",
    "max_img = 100\n",
    "\n",
    "for i in range(max_img):\n",
    "    print('\\r{}/{}'.format(i+1, max_img), end='')\n",
    "    trf = transforms(img)\n",
    "\n",
    "    cv2.imwrite('out/data_augmentation/transformed_img_{}.jpg'.format(i), trf)  # save output\n",
    "cv2.destroyAllWindows()"
   ]
  },
  {
   "cell_type": "code",
   "execution_count": null,
   "metadata": {},
   "outputs": [],
   "source": []
  }
 ]
}