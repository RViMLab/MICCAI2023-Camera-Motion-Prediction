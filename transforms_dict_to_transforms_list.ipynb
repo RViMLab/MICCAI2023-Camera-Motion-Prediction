{
 "metadata": {
  "language_info": {
   "codemirror_mode": {
    "name": "ipython",
    "version": 3
   },
   "file_extension": ".py",
   "mimetype": "text/x-python",
   "name": "python",
   "nbconvert_exporter": "python",
   "pygments_lexer": "ipython3",
   "version": "3.7.6-final"
  },
  "orig_nbformat": 2,
  "kernelspec": {
   "name": "vs",
   "display_name": "vs"
  }
 },
 "nbformat": 4,
 "nbformat_minor": 2,
 "cells": [
  {
   "cell_type": "code",
   "execution_count": 33,
   "metadata": {},
   "outputs": [],
   "source": [
    "import os\n",
    "import pandas as pd\n",
    "from utils.io import load_yaml, save_yaml"
   ]
  },
  {
   "cell_type": "code",
   "execution_count": 34,
   "metadata": {},
   "outputs": [],
   "source": [
    "# load logs, maps videos to flags\n",
    "logs = '/media/martin/Samsung_T5/data/endoscopic_data/camera_motion_separated/log.pkl'\n",
    "df = pd.read_pickle(logs)\n",
    "\n",
    "# load transforms dict, maps flags to transforms\n",
    "transforms_dict = load_yaml('configs/high_fps_transforms_dict.yml')\n",
    "\n",
    "# load configs, holds list of video, and is appended by list of transforms\n",
    "yml = load_yaml('configs/high_fps_with_camera_motion_videos.yml')"
   ]
  },
  {
   "cell_type": "code",
   "execution_count": 35,
   "metadata": {
    "tags": []
   },
   "outputs": [],
   "source": [
    "for database in yml['databases']:\n",
    "    transforms = []\n",
    "    for video in database['videos']['files']:\n",
    "        idx = df.index[df['video'] == os.path.join(database['videos']['prefix'], video)].tolist()[0]\n",
    "\n",
    "        # append transforms according to flag\n",
    "        transforms.append(transforms_dict[df['origin'][idx]['Group']][df['flags'][idx]])\n",
    "    database['transforms'] = transforms\n",
    "\n",
    "save_yaml('configs/high_fps_with_camera_motion_videos_transforms.yml', yml)"
   ]
  },
  {
   "cell_type": "code",
   "execution_count": null,
   "metadata": {},
   "outputs": [],
   "source": []
  }
 ]
}